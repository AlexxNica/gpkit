{
 "metadata": {
  "name": "",
  "signature": "sha256:e66a5a0c7ef1c1f0c8df86ab8bceaeb7ef96a007cd839dbf25a446ff58dcb918"
 },
 "nbformat": 3,
 "nbformat_minor": 0,
 "worksheets": [
  {
   "cells": [
    {
     "cell_type": "markdown",
     "metadata": {},
     "source": [
      "# Design Exploration and Optimization\n",
      "\n",
      "## BEMT Helicopter Hover Example\n",
      "\n",
      "Use \"Cell > Run All\" to run this notebook.\n",
      "\n",
      "### import gpkit and enable $\\LaTeX$ printing"
     ]
    },
    {
     "cell_type": "code",
     "collapsed": false,
     "input": [
      "%pylab inline\n",
      "%config InlineBackend.figure_format = 'retina'\n",
      "\n",
      "import gpkit\n",
      "import gpkit.interactive\n",
      "gpkit.interactive.init_printing()\n",
      "mon = gpkit.mon\n",
      "vec = gpkit.vecmon"
     ],
     "language": "python",
     "metadata": {},
     "outputs": [
      {
       "output_type": "stream",
       "stream": "stdout",
       "text": [
        "Populating the interactive namespace from numpy and matplotlib\n"
       ]
      }
     ],
     "prompt_number": 1
    },
    {
     "cell_type": "markdown",
     "metadata": {},
     "source": [
      "### make BEM model factory for varying weight and number of bins"
     ]
    },
    {
     "cell_type": "code",
     "collapsed": false,
     "input": [
      "N = 3\n",
      "Weight = 1e4\n",
      "\n",
      "# Constants #\n",
      "rho = mon(\"\\\\rho\", 1.23, \"kg/m^3\", \"Density of Air\")\n",
      "W   = mon(\"W\", Weight, \"N\", \"Weight of Vehicle\")\n",
      "xi =  vec(N,\"\\\\xi\", \"N\", \"Thrust per bin\")\n",
      "\n",
      "constants = {#xi: Weight/float(N) * ones(N),\n",
      "             xi: 2*Weight/float(N)**2 * array(range(1,N+1))\n",
      "             }\n",
      "\n",
      "# Scalars #\n",
      "A     = mon(\"A\", \"m^2\", \"Disk Area\")\n",
      "Omega = mon(\"\\\\Omega\", \"rpm\", \"Rotor RPM\")\n",
      "R     = mon(\"R\", \"m\", \"Rotor Radius\")\n",
      "P     = mon(\"P\", \"W\", \"Induced Power\")\n",
      "\n",
      "# Vectors #\n",
      "r   = vec(N, \"r\", \"-\", \"Non-dimensional Radius\")\n",
      "dr  = vec(N, \"\\\\Delta r\", \"-\", \"Non-dimensional Radius Step\")\n",
      "Vi  = vec(N, \"V_i\", \"m/s\", \"Induced Velocities\")\n",
      "dCT = vec(N, \"dC_T\", \"-\", \"Incremental Thrust Coefficient of Each Bin\")\n",
      "dCP = vec(N, \"dC_P\", \"-\", \"Incremental Power Coefficient of Each Bin\")\n",
      "dP  = vec(N, \"dP\", \"W\", \"Incremental Power of Each Bin\")\n",
      "\n",
      "phys_constraints = (A == pi*R**2,\n",
      "                    R <= 8 * gpkit.units.m,\n",
      "                    Omega <= 280 *gpkit.units.rpm )\n",
      "\n",
      "r_constraints=([r[j] >= dr[:j].sum() for j in range(1,N)],\n",
      "               1 >= dr.sum(),\n",
      "               r[0] == dr[0]/2,\n",
      "               [r[j] >= r[j-1] + .5*dr[j-1] + .5*dr[j] for j in range(1,N)],\n",
      "               r[-1] <= 1)\n",
      "\n",
      "main_constraints = (xi == rho*A*(Omega*R)**2*dCT,\n",
      "                    0.25 == Vi**2*r*dr/(dCT*(Omega*R)**2),\n",
      "                    0.25 == Vi**3*r*dr/(dCP*(Omega*R)**3),                  \n",
      "                    dP == rho*A*(Omega*R)**3*dCP,\n",
      "                    P >= dP.sum())\n",
      "objective = P\n",
      "eqns = phys_constraints + r_constraints + main_constraints\n",
      "gp = gpkit.GP(objective, eqns, constants)"
     ],
     "language": "python",
     "metadata": {},
     "outputs": [],
     "prompt_number": 2
    },
    {
     "cell_type": "markdown",
     "metadata": {},
     "source": [
      "### show gp"
     ]
    },
    {
     "cell_type": "code",
     "collapsed": false,
     "input": [
      "gp"
     ],
     "language": "python",
     "metadata": {},
     "outputs": [
      {
       "latex": [
        "$$\\begin{array}[ll]\n",
        "\\text{}\n",
        "\\text{minimize}\n",
        "    & P\\mathrm{\\left[ W \\right]} \\\\\n",
        "\\text{subject to}\n",
        "    & A = 3.142R^{2} \\\\\n",
        "    & 8 \\geq R \\\\\n",
        "    & \\Omega \\leq 280 \\\\\n",
        "    & {r}_{1} \\geq {\\Delta r}_{0} \\\\\n",
        "    & {r}_{2} \\geq {\\Delta r}_{0} + {\\Delta r}_{1} \\\\\n",
        "    & 1 \\geq {\\Delta r}_{0} + {\\Delta r}_{1} + {\\Delta r}_{2} \\\\\n",
        "    & {r}_{0} = 0.5{\\Delta r}_{0} \\\\\n",
        "    & {r}_{1} \\geq 0.5{\\Delta r}_{0} + 0.5{\\Delta r}_{1} + {r}_{0} \\\\\n",
        "    & {r}_{2} \\geq 0.5{\\Delta r}_{1} + 0.5{\\Delta r}_{2} + {r}_{1} \\\\\n",
        "    & 1 \\geq {r}_{2} \\\\\n",
        "    & {\\xi}_{0} = {dC_T}_{0} \\Omega^{2} A R^{2} \\rho \\\\\n",
        "    & {\\xi}_{1} = {dC_T}_{1} \\Omega^{2} A R^{2} \\rho \\\\\n",
        "    & {\\xi}_{2} = {dC_T}_{2} \\Omega^{2} A R^{2} \\rho \\\\\n",
        "    & 0.25 = \\frac{{r}_{0} {\\Delta r}_{0} {V_i}_{0}^{2}}{{dC_T}_{0} \\Omega^{2} R^{2}} \\\\\n",
        "    & 0.25 = \\frac{{r}_{1} {\\Delta r}_{1} {V_i}_{1}^{2}}{{dC_T}_{1} \\Omega^{2} R^{2}} \\\\\n",
        "    & 0.25 = \\frac{{r}_{2} {\\Delta r}_{2} {V_i}_{2}^{2}}{{dC_T}_{2} \\Omega^{2} R^{2}} \\\\\n",
        "    & 0.25 = \\frac{{r}_{0} {\\Delta r}_{0} {V_i}_{0}^{3}}{{dC_P}_{0} \\Omega^{3} R^{3}} \\\\\n",
        "    & 0.25 = \\frac{{r}_{1} {\\Delta r}_{1} {V_i}_{1}^{3}}{{dC_P}_{1} \\Omega^{3} R^{3}} \\\\\n",
        "    & 0.25 = \\frac{{r}_{2} {\\Delta r}_{2} {V_i}_{2}^{3}}{{dC_P}_{2} \\Omega^{3} R^{3}} \\\\\n",
        "    & {dP}_{0} = {dC_P}_{0} \\Omega^{3} A R^{3} \\rho \\\\\n",
        "    & {dP}_{1} = {dC_P}_{1} \\Omega^{3} A R^{3} \\rho \\\\\n",
        "    & {dP}_{2} = {dC_P}_{2} \\Omega^{3} A R^{3} \\rho \\\\\n",
        "    & P \\geq {dP}_{0} + {dP}_{1} + {dP}_{2} \\\\\n",
        "\\text{substituting}\n",
        "    & \\rho = 1.23 \\\\\n",
        "    & {\\xi}_{0} = 2222 \\\\\n",
        "    & {\\xi}_{1} = 4444 \\\\\n",
        "    & {\\xi}_{2} = 6667 \\\\\n",
        "\\end{array}$$"
       ],
       "metadata": {},
       "output_type": "pyout",
       "prompt_number": 3,
       "text": [
        "                           gpkit.GP( # minimize                          \n",
        "                                   P, units='W',                         \n",
        "                                  [   # subject to                       \n",
        "                                     A = 3.1*R**2,                       \n",
        "                                        8 >= R,                          \n",
        "                                   \\Omega <= 2.8e+02,                    \n",
        "                                   r_1 >= \\Delta r_0,                    \n",
        "                            r_2 >= \\Delta r_0 + \\Delta r_1,              \n",
        "                       1 >= \\Delta r_0 + \\Delta r_1 + \\Delta r_2,        \n",
        "                                 r_0 = 0.5*\\Delta r_0,                   \n",
        "                     r_1 >= 0.5*\\Delta r_0 + 0.5*\\Delta r_1 + r_0,       \n",
        "                     r_2 >= 0.5*\\Delta r_1 + 0.5*\\Delta r_2 + r_1,       \n",
        "                                       1 >= r_2,                         \n",
        "                         \\xi_0 = dC_T_0*\\Omega**2*A*R**2*\\rho,           \n",
        "                         \\xi_1 = dC_T_1*\\Omega**2*A*R**2*\\rho,           \n",
        "                         \\xi_2 = dC_T_2*\\Omega**2*A*R**2*\\rho,           \n",
        "              0.25 = r_0*\\Delta r_0*V_i_0**2*dC_T_0**-1*\\Omega**-2*R**-2,\n",
        "              0.25 = r_1*\\Delta r_1*V_i_1**2*dC_T_1**-1*\\Omega**-2*R**-2,\n",
        "              0.25 = r_2*\\Delta r_2*V_i_2**2*dC_T_2**-1*\\Omega**-2*R**-2,\n",
        "              0.25 = r_0*\\Delta r_0*V_i_0**3*dC_P_0**-1*\\Omega**-3*R**-3,\n",
        "              0.25 = r_1*\\Delta r_1*V_i_1**3*dC_P_1**-1*\\Omega**-3*R**-3,\n",
        "              0.25 = r_2*\\Delta r_2*V_i_2**3*dC_P_2**-1*\\Omega**-3*R**-3,\n",
        "                          dP_0 = dC_P_0*\\Omega**3*A*R**3*\\rho,           \n",
        "                          dP_1 = dC_P_1*\\Omega**3*A*R**3*\\rho,           \n",
        "                          dP_2 = dC_P_2*\\Omega**3*A*R**3*\\rho,           \n",
        "                                P >= dP_0 + dP_1 + dP_2,                 \n",
        "                                         ],                              \n",
        "                     substitutions={ \\xi_0: 2222.2222222222222,          \n",
        "                                     \\xi_1: 4444.4444444444443,          \n",
        "                                     \\xi_2: 6666.6666666666661,          \n",
        "                                           \\rho: 1.23 },                 \n",
        "                                  solver=\"cvxopt\")                       "
       ]
      }
     ],
     "prompt_number": 3
    },
    {
     "cell_type": "markdown",
     "metadata": {},
     "source": [
      "### solve for local monomial model"
     ]
    },
    {
     "cell_type": "code",
     "collapsed": false,
     "input": [
      "gp.solve()[\"local_model\"][0]"
     ],
     "language": "python",
     "metadata": {},
     "outputs": [
      {
       "output_type": "stream",
       "stream": "stdout",
       "text": [
        "Using solver 'cvxopt'\n",
        "Solving took 0.043 seconds\n"
       ]
      },
      {
       "latex": [
        "$$0.2206\\frac{{\\xi}_{0}^{0.29} {\\xi}_{1}^{0.52} {\\xi}_{2}^{0.69}}{\\rho^{0.5}}$$"
       ],
       "metadata": {},
       "output_type": "pyout",
       "prompt_number": 7,
       "text": [
        "0.22*\\xi_0**0.29*\\xi_1**0.52*\\xi_2**0.69*\\rho**-0.5"
       ]
      }
     ],
     "prompt_number": 7
    },
    {
     "cell_type": "code",
     "collapsed": false,
     "input": [
      "from IPython.display import Math\n",
      "\n",
      "Math('0.5404\\\\frac{\\\\left({\\\\xi}_{1}^{0.0144} {\\\\xi}_{5}^{-0.0318} \\\\prod_{1}^5 {\\\\xi}_{i}^{0.3035} \\\\right)}{\\\\rho^{0.5}}')"
     ],
     "language": "python",
     "metadata": {},
     "outputs": [
      {
       "latex": [
        "$$0.5404\\frac{\\left({\\xi}_{1}^{0.0144} {\\xi}_{5}^{-0.0318} \\prod_{1}^5 {\\xi}_{i}^{0.3035} \\right)}{\\rho^{0.5}}$$"
       ],
       "metadata": {},
       "output_type": "pyout",
       "prompt_number": 4,
       "text": [
        "<IPython.core.display.Math at 0x7f9e794cb990>"
       ]
      }
     ],
     "prompt_number": 4
    },
    {
     "cell_type": "markdown",
     "metadata": {},
     "source": [
      "### vectorized solution"
     ]
    },
    {
     "cell_type": "code",
     "collapsed": false,
     "input": [
      "gp.solution[\"variables\"]"
     ],
     "language": "python",
     "metadata": {},
     "outputs": [
      {
       "ename": "AttributeError",
       "evalue": "'GP' object has no attribute 'solution'",
       "output_type": "pyerr",
       "traceback": [
        "\u001b[1;31m---------------------------------------------------------------------------\u001b[0m\n\u001b[1;31mAttributeError\u001b[0m                            Traceback (most recent call last)",
        "\u001b[1;32m<ipython-input-5-696d501214b7>\u001b[0m in \u001b[0;36m<module>\u001b[1;34m()\u001b[0m\n\u001b[1;32m----> 1\u001b[1;33m \u001b[0mgp\u001b[0m\u001b[1;33m.\u001b[0m\u001b[0msolution\u001b[0m\u001b[1;33m[\u001b[0m\u001b[1;34m\"variables\"\u001b[0m\u001b[1;33m]\u001b[0m\u001b[1;33m\u001b[0m\u001b[0m\n\u001b[0m",
        "\u001b[1;31mAttributeError\u001b[0m: 'GP' object has no attribute 'solution'"
       ]
      }
     ],
     "prompt_number": 5
    },
    {
     "cell_type": "code",
     "collapsed": false,
     "input": [
      "gp.solution[\"sensitivities\"][\"variables\"][\"\\\\xi\"]"
     ],
     "language": "python",
     "metadata": {},
     "outputs": [
      {
       "ename": "AttributeError",
       "evalue": "'GP' object has no attribute 'solution'",
       "output_type": "pyerr",
       "traceback": [
        "\u001b[1;31m---------------------------------------------------------------------------\u001b[0m\n\u001b[1;31mAttributeError\u001b[0m                            Traceback (most recent call last)",
        "\u001b[1;32m<ipython-input-6-ee2f39bd47bf>\u001b[0m in \u001b[0;36m<module>\u001b[1;34m()\u001b[0m\n\u001b[1;32m----> 1\u001b[1;33m \u001b[0mgp\u001b[0m\u001b[1;33m.\u001b[0m\u001b[0msolution\u001b[0m\u001b[1;33m[\u001b[0m\u001b[1;34m\"sensitivities\"\u001b[0m\u001b[1;33m]\u001b[0m\u001b[1;33m[\u001b[0m\u001b[1;34m\"variables\"\u001b[0m\u001b[1;33m]\u001b[0m\u001b[1;33m[\u001b[0m\u001b[1;34m\"\\\\xi\"\u001b[0m\u001b[1;33m]\u001b[0m\u001b[1;33m\u001b[0m\u001b[0m\n\u001b[0m",
        "\u001b[1;31mAttributeError\u001b[0m: 'GP' object has no attribute 'solution'"
       ]
      }
     ],
     "prompt_number": 6
    },
    {
     "cell_type": "code",
     "collapsed": false,
     "input": [
      "p = xi/rho\n",
      "p"
     ],
     "language": "python",
     "metadata": {},
     "outputs": [
      {
       "latex": [
        "$$\\begin{bmatrix}\\frac{{\\xi}_{0}}{\\rho}, & \\frac{{\\xi}_{1}}{\\rho}, & \\frac{{\\xi}_{2}}{\\rho}\\end{bmatrix}$$"
       ],
       "metadata": {},
       "output_type": "pyout",
       "prompt_number": 9,
       "text": [
        "[\\rho**-1*\\xi_0, \\rho**-1*\\xi_1, \\rho**-1*\\xi_2]"
       ]
      }
     ],
     "prompt_number": 9
    },
    {
     "cell_type": "code",
     "collapsed": false,
     "input": [
      "p.sub(gp.solution[\"variables\"])"
     ],
     "language": "python",
     "metadata": {},
     "outputs": [
      {
       "latex": [
        "$$\\begin{bmatrix}1807, & 3613, & 5420\\end{bmatrix}$$"
       ],
       "metadata": {},
       "output_type": "pyout",
       "prompt_number": 10,
       "text": [
        "[1.8e+03, 3.6e+03, 5.4e+03]"
       ]
      }
     ],
     "prompt_number": 10
    },
    {
     "cell_type": "code",
     "collapsed": false,
     "input": [
      "np.array([m.c for m in Vi], np.dtype('float'))"
     ],
     "language": "python",
     "metadata": {},
     "outputs": [
      {
       "metadata": {},
       "output_type": "pyout",
       "prompt_number": 11,
       "text": [
        "array([ 1.,  1.,  1.])"
       ]
      }
     ],
     "prompt_number": 11
    },
    {
     "cell_type": "code",
     "collapsed": false,
     "input": [
      "np.dtype('float')"
     ],
     "language": "python",
     "metadata": {},
     "outputs": [
      {
       "metadata": {},
       "output_type": "pyout",
       "prompt_number": 12,
       "text": [
        "dtype('float64')"
       ]
      }
     ],
     "prompt_number": 12
    },
    {
     "cell_type": "code",
     "collapsed": false,
     "input": [
      "p.sub(gp.solution[\"sensitivities\"][\"variables\"], allow_negative=True)"
     ],
     "language": "python",
     "metadata": {},
     "outputs": [
      {
       "latex": [
        "$$\\begin{bmatrix}-0.5894, & -1.037, & -1.374\\end{bmatrix}$$"
       ],
       "metadata": {},
       "output_type": "pyout",
       "prompt_number": 13,
       "text": [
        "[-0.59, -1, -1.4]"
       ]
      }
     ],
     "prompt_number": 13
    },
    {
     "cell_type": "code",
     "collapsed": false,
     "input": [
      "sol[xi]\n",
      "sol[xi/rho]\n",
      "sol.sens[xi]\n",
      "sol.sens[xi/rho] # must guarantee to return only floats\n",
      "sol.primal\n",
      "sol.dual.monomials\n",
      "sol.dual.posynomials\n",
      "sol.cost[0]\n",
      "sol.local_model[0] # generates the local model? nawww\n",
      "sol.problem.A\n",
      "sol.problem.variables\n",
      "sol.problem.p_idxs\n",
      "sol.constants\n",
      "sol.sweep\n",
      "# sol prints as table of results"
     ],
     "language": "python",
     "metadata": {},
     "outputs": [
      {
       "ename": "NameError",
       "evalue": "name 'sol' is not defined",
       "output_type": "pyerr",
       "traceback": [
        "\u001b[1;31m---------------------------------------------------------------------------\u001b[0m\n\u001b[1;31mNameError\u001b[0m                                 Traceback (most recent call last)",
        "\u001b[1;32m<ipython-input-14-df4409c784c3>\u001b[0m in \u001b[0;36m<module>\u001b[1;34m()\u001b[0m\n\u001b[1;32m----> 1\u001b[1;33m \u001b[0msol\u001b[0m\u001b[1;33m[\u001b[0m\u001b[0mxi\u001b[0m\u001b[1;33m]\u001b[0m\u001b[1;33m\u001b[0m\u001b[0m\n\u001b[0m\u001b[0;32m      2\u001b[0m \u001b[0msol\u001b[0m\u001b[1;33m[\u001b[0m\u001b[0mxi\u001b[0m\u001b[1;33m/\u001b[0m\u001b[0mrho\u001b[0m\u001b[1;33m]\u001b[0m\u001b[1;33m\u001b[0m\u001b[0m\n\u001b[0;32m      3\u001b[0m \u001b[0msol\u001b[0m\u001b[1;33m.\u001b[0m\u001b[0msens\u001b[0m\u001b[1;33m[\u001b[0m\u001b[0mxi\u001b[0m\u001b[1;33m]\u001b[0m\u001b[1;33m\u001b[0m\u001b[0m\n\u001b[0;32m      4\u001b[0m \u001b[0msol\u001b[0m\u001b[1;33m.\u001b[0m\u001b[0msens\u001b[0m\u001b[1;33m[\u001b[0m\u001b[0mxi\u001b[0m\u001b[1;33m/\u001b[0m\u001b[0mrho\u001b[0m\u001b[1;33m]\u001b[0m \u001b[1;31m# must guarantee to return only floats\u001b[0m\u001b[1;33m\u001b[0m\u001b[0m\n\u001b[0;32m      5\u001b[0m \u001b[0msol\u001b[0m\u001b[1;33m.\u001b[0m\u001b[0mprimal\u001b[0m\u001b[1;33m\u001b[0m\u001b[0m\n",
        "\u001b[1;31mNameError\u001b[0m: name 'sol' is not defined"
       ]
      }
     ],
     "prompt_number": 14
    },
    {
     "cell_type": "markdown",
     "metadata": {},
     "source": [
      "### show effect of weight and bin number on thrust disitribution"
     ]
    },
    {
     "cell_type": "code",
     "collapsed": false,
     "input": [
      "def solve_and_plot_Vi(bins, weight):\n",
      "    gp = BEMT_GP(bins, weight)\n",
      "    sol = gp.solve(printing=False)[\"variables\"]\n",
      "\n",
      "    figure(figsize=(12,6))\n",
      "    plot(sol['R']*sol['r'], sol['\\\\xi']/(sol['R']*sol['\\\\Delta r']), 'r.-')\n",
      "    ylim(0, weight/4)\n",
      "    ylabel('Thrust density [N/m]')\n",
      "    xlabel('Radial position [m]')\n",
      "    show()\n",
      "\n",
      "from IPython.html.widgets import interactive\n",
      "\n",
      "interactive(solve_and_plot_Vi, bins=(1,100), weight=(1e3, 1e5, 1e3))"
     ],
     "language": "python",
     "metadata": {},
     "outputs": []
    }
   ],
   "metadata": {}
  }
 ]
}