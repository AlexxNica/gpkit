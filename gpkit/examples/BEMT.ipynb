{
 "metadata": {
  "name": "",
  "signature": "sha256:79ab2534223e6e712568b412386aa3ff22c92035aef1b7bd94986c9d5affe95b"
 },
 "nbformat": 3,
 "nbformat_minor": 0,
 "worksheets": [
  {
   "cells": [
    {
     "cell_type": "markdown",
     "metadata": {},
     "source": [
      "# Design Exploration and Optimization\n",
      "\n",
      "## BEMT Helicopter Hover Example\n",
      "\n",
      "Use \"Cell > Run All\" to run this notebook.\n",
      "\n",
      "### import gpkit and enable $\\LaTeX$ printing"
     ]
    },
    {
     "cell_type": "code",
     "collapsed": false,
     "input": [
      "%pylab inline\n",
      "%config InlineBackend.figure_format = 'retina'\n",
      "\n",
      "import gpkit\n",
      "import gpkit.interactive\n",
      "gpkit.interactive.init_printing()"
     ],
     "language": "python",
     "metadata": {},
     "outputs": [
      {
       "output_type": "stream",
       "stream": "stdout",
       "text": [
        "Populating the interactive namespace from numpy and matplotlib\n"
       ]
      }
     ],
     "prompt_number": 1
    },
    {
     "cell_type": "markdown",
     "metadata": {},
     "source": [
      "### make BEM model factory for varying weight and number of bins"
     ]
    },
    {
     "cell_type": "code",
     "collapsed": false,
     "input": [
      "def BEMT_GP(N,Weight):\n",
      "    # Constants #\n",
      "    rho = gpkit.Variable(\"\\\\rho\", \"kg/m^3\", \"Density of Air\")\n",
      "    W   = gpkit.Variable(\"W\", \"N\", \"Weight of Vehicle\")\n",
      "    xi = gpkit.VectorVariable(N,\"\\\\xi\", \"N/bin\", \"Thrust per Bin\")\n",
      "\n",
      "    constants = {rho: 1.23, \n",
      "                 W: Weight,\n",
      "                 xi: Weight/N * ones(N),\n",
      "                 #xi: 2*Weight/N**2 * array(range(1,N+1))\n",
      "                 }\n",
      "    \n",
      "    # Scalars #\n",
      "    A     = gpkit.Variable(\"A\", \"m^2\", \"Disk Area\")\n",
      "    Omega = gpkit.Variable(\"\\\\Omega\", \"RPM\", \"Rotor RPM\")\n",
      "    R     = gpkit.Variable(\"R\", \"m\", \"Rotor Radius\")\n",
      "    P     = gpkit.Variable(\"P\", \"Watts\", \"Induced Power\")\n",
      "\n",
      "    # Vectors #\n",
      "    r   = gpkit.VectorVariable(N, \"r\", \"Non-dimensional Radius\")\n",
      "    dr  = gpkit.VectorVariable(N, \"\\\\Delta r\", \"Non-dimensional Radius Step\")\n",
      "    Vi  = gpkit.VectorVariable(N, \"V_i\", \"m/s\", \"Induced Velocities\")\n",
      "    dCT = gpkit.VectorVariable(N, \"dC_T\", \"Incremental Thrust Coefficient of Each Bin\")\n",
      "    dCP = gpkit.VectorVariable(N, \"dC_P\", \"Incremental Power Coefficient of Each Bin\")\n",
      "    dP  = gpkit.VectorVariable(N, \"dP\", \"Incremental Power of Each Bin\")\n",
      "\n",
      "    phys_constraints = (A == pi*R**2,\n",
      "                        R<=8,\n",
      "                        Omega<=(2*pi/60)*280)\n",
      "\n",
      "    r_constraints=([r[j] >= dr[:j].sum() for j in range(1,N)],\n",
      "                   1 >= dr.sum(),\n",
      "                   r[0] == dr[0]/2,\n",
      "                   [r[j] >= r[j-1] + .5*dr[j-1] + .5*dr[j] for j in range(1,N)],\n",
      "                   r[-1] <= 1)\n",
      "\n",
      "    main_constraints = (xi == rho*A*(Omega*R)**2*dCT,\n",
      "                        0.25 == Vi**2*r*dr/(dCT*(Omega*R)**2),\n",
      "                        0.25 == Vi**3*r*dr/(dCP*(Omega*R)**3),                  \n",
      "                        dP == rho*A*(Omega*R)**3*dCP,\n",
      "                        P >= dP.sum())\n",
      "    objective = P\n",
      "    eqns = phys_constraints + r_constraints + main_constraints\n",
      "    gp = gpkit.GP(objective, eqns, constants)\n",
      "\n",
      "    return gp"
     ],
     "language": "python",
     "metadata": {},
     "outputs": [],
     "prompt_number": 2
    },
    {
     "cell_type": "markdown",
     "metadata": {},
     "source": [
      "### show gp"
     ]
    },
    {
     "cell_type": "code",
     "collapsed": false,
     "input": [
      "gp = BEMT_GP(5, 1e4)\n",
      "gp"
     ],
     "language": "python",
     "metadata": {},
     "outputs": [
      {
       "latex": [
        "$$\\begin{array}[ll]\n",
        "\\text{}\n",
        "\\text{minimize}\n",
        "    & P \\\\\n",
        "\\text{subject to}\n",
        "    & A = 3.142R^{2} \\\\\n",
        "    & 8 \\geq R \\\\\n",
        "    & 29.32 \\geq \\Omega \\\\\n",
        "    & {r}_{1} \\geq {\\Delta r}_{0} \\\\\n",
        "    & {r}_{2} \\geq {\\Delta r}_{0} + {\\Delta r}_{1} \\\\\n",
        "    & {r}_{3} \\geq {\\Delta r}_{0} + {\\Delta r}_{1} + {\\Delta r}_{2} \\\\\n",
        "    & {r}_{4} \\geq {\\Delta r}_{0} + {\\Delta r}_{1} + {\\Delta r}_{2} + {\\Delta r}_{3} \\\\\n",
        "    & 1 \\geq {\\Delta r}_{0} + {\\Delta r}_{1} + {\\Delta r}_{2} + {\\Delta r}_{3} + {\\Delta r}_{4} \\\\\n",
        "    & {r}_{0} = 0.5{\\Delta r}_{0} \\\\\n",
        "    & {r}_{1} \\geq 0.5{\\Delta r}_{0} + 0.5{\\Delta r}_{1} + {r}_{0} \\\\\n",
        "    & {r}_{2} \\geq 0.5{\\Delta r}_{1} + 0.5{\\Delta r}_{2} + {r}_{1} \\\\\n",
        "    & {r}_{3} \\geq 0.5{\\Delta r}_{2} + 0.5{\\Delta r}_{3} + {r}_{2} \\\\\n",
        "    & {r}_{4} \\geq 0.5{\\Delta r}_{3} + 0.5{\\Delta r}_{4} + {r}_{3} \\\\\n",
        "    & 1 \\geq {r}_{4} \\\\\n",
        "    & {\\xi}_{0} = A R^{2} \\Omega^{2} \\rho {dC_T}_{0} \\\\\n",
        "    & {\\xi}_{1} = A R^{2} \\Omega^{2} \\rho {dC_T}_{1} \\\\\n",
        "    & {\\xi}_{2} = A R^{2} \\Omega^{2} \\rho {dC_T}_{2} \\\\\n",
        "    & {\\xi}_{3} = A R^{2} \\Omega^{2} \\rho {dC_T}_{3} \\\\\n",
        "    & {\\xi}_{4} = A R^{2} \\Omega^{2} \\rho {dC_T}_{4} \\\\\n",
        "    & 0.25 = \\frac{{V_i}_{0}^{2} {\\Delta r}_{0} {r}_{0}}{R^{2} \\Omega^{2} {dC_T}_{0}} \\\\\n",
        "    & 0.25 = \\frac{{V_i}_{1}^{2} {\\Delta r}_{1} {r}_{1}}{R^{2} \\Omega^{2} {dC_T}_{1}} \\\\\n",
        "    & 0.25 = \\frac{{V_i}_{2}^{2} {\\Delta r}_{2} {r}_{2}}{R^{2} \\Omega^{2} {dC_T}_{2}} \\\\\n",
        "    & 0.25 = \\frac{{V_i}_{3}^{2} {\\Delta r}_{3} {r}_{3}}{R^{2} \\Omega^{2} {dC_T}_{3}} \\\\\n",
        "    & 0.25 = \\frac{{V_i}_{4}^{2} {\\Delta r}_{4} {r}_{4}}{R^{2} \\Omega^{2} {dC_T}_{4}} \\\\\n",
        "    & 0.25 = \\frac{{V_i}_{0}^{3} {\\Delta r}_{0} {r}_{0}}{R^{3} \\Omega^{3} {dC_P}_{0}} \\\\\n",
        "    & 0.25 = \\frac{{V_i}_{1}^{3} {\\Delta r}_{1} {r}_{1}}{R^{3} \\Omega^{3} {dC_P}_{1}} \\\\\n",
        "    & 0.25 = \\frac{{V_i}_{2}^{3} {\\Delta r}_{2} {r}_{2}}{R^{3} \\Omega^{3} {dC_P}_{2}} \\\\\n",
        "    & 0.25 = \\frac{{V_i}_{3}^{3} {\\Delta r}_{3} {r}_{3}}{R^{3} \\Omega^{3} {dC_P}_{3}} \\\\\n",
        "    & 0.25 = \\frac{{V_i}_{4}^{3} {\\Delta r}_{4} {r}_{4}}{R^{3} \\Omega^{3} {dC_P}_{4}} \\\\\n",
        "    & {dP}_{0} = A R^{3} \\Omega^{3} \\rho {dC_P}_{0} \\\\\n",
        "    & {dP}_{1} = A R^{3} \\Omega^{3} \\rho {dC_P}_{1} \\\\\n",
        "    & {dP}_{2} = A R^{3} \\Omega^{3} \\rho {dC_P}_{2} \\\\\n",
        "    & {dP}_{3} = A R^{3} \\Omega^{3} \\rho {dC_P}_{3} \\\\\n",
        "    & {dP}_{4} = A R^{3} \\Omega^{3} \\rho {dC_P}_{4} \\\\\n",
        "    & P \\geq {dP}_{0} + {dP}_{1} + {dP}_{2} + {dP}_{3} + {dP}_{4} \\\\\n",
        "\\end{array}$$"
       ],
       "metadata": {},
       "output_type": "pyout",
       "prompt_number": 3,
       "text": [
        "                                         gpkit.GP( # minimize                 \n",
        "                                                       P,                     \n",
        "                                                [   # subject to              \n",
        "                                                   A = 3.1*R**2,              \n",
        "                                                      8 >= R,                 \n",
        "                                                   29 >= \\Omega,              \n",
        "                                             {r}_{1} >= {\\Delta r}_{0},       \n",
        "                                    {r}_{2} >= {\\Delta r}_{0} + {\\Delta r}_{1}\n",
        "                            {r}_{3} >= {\\Delta r}_{0} + {\\Delta r}_{1} + {\\Del\n",
        "                   {r}_{4} >= {\\Delta r}_{0} + {\\Delta r}_{1} + {\\Delta r}_{2}\n",
        "              1 >= {\\Delta r}_{0} + {\\Delta r}_{1} + {\\Delta r}_{2} + {\\Delta \n",
        "                                           {r}_{0} = 0.5*{\\Delta r}_{0},      \n",
        "                           {r}_{1} >= 0.5*{\\Delta r}_{0} + 0.5*{\\Delta r}_{1} \n",
        "                           {r}_{2} >= 0.5*{\\Delta r}_{1} + 0.5*{\\Delta r}_{2} \n",
        "                           {r}_{3} >= 0.5*{\\Delta r}_{2} + 0.5*{\\Delta r}_{3} \n",
        "                           {r}_{4} >= 0.5*{\\Delta r}_{3} + 0.5*{\\Delta r}_{4} \n",
        "                                                   1 >= {r}_{4},              \n",
        "                                   {\\xi}_{0} = A*R**2*\\Omega**2*\\rho*{dC_T}_{0\n",
        "                                   {\\xi}_{1} = A*R**2*\\Omega**2*\\rho*{dC_T}_{1\n",
        "                                   {\\xi}_{2} = A*R**2*\\Omega**2*\\rho*{dC_T}_{2\n",
        "                                   {\\xi}_{3} = A*R**2*\\Omega**2*\\rho*{dC_T}_{3\n",
        "                                   {\\xi}_{4} = A*R**2*\\Omega**2*\\rho*{dC_T}_{4\n",
        "                    0.25 = R**-2*\\Omega**-2*{V_i}_{0}**2*{\\Delta r}_{0}*{dC_T}\n",
        "                    0.25 = R**-2*\\Omega**-2*{V_i}_{1}**2*{\\Delta r}_{1}*{dC_T}\n",
        "                    0.25 = R**-2*\\Omega**-2*{V_i}_{2}**2*{\\Delta r}_{2}*{dC_T}\n",
        "                    0.25 = R**-2*\\Omega**-2*{V_i}_{3}**2*{\\Delta r}_{3}*{dC_T}\n",
        "                    0.25 = R**-2*\\Omega**-2*{V_i}_{4}**2*{\\Delta r}_{4}*{dC_T}\n",
        "                    0.25 = R**-3*\\Omega**-3*{V_i}_{0}**3*{\\Delta r}_{0}*{dC_P}\n",
        "                    0.25 = R**-3*\\Omega**-3*{V_i}_{1}**3*{\\Delta r}_{1}*{dC_P}\n",
        "                    0.25 = R**-3*\\Omega**-3*{V_i}_{2}**3*{\\Delta r}_{2}*{dC_P}\n",
        "                    0.25 = R**-3*\\Omega**-3*{V_i}_{3}**3*{\\Delta r}_{3}*{dC_P}\n",
        "                    0.25 = R**-3*\\Omega**-3*{V_i}_{4}**3*{\\Delta r}_{4}*{dC_P}\n",
        "                                    {dP}_{0} = A*R**3*\\Omega**3*\\rho*{dC_P}_{0\n",
        "                                    {dP}_{1} = A*R**3*\\Omega**3*\\rho*{dC_P}_{1\n",
        "                                    {dP}_{2} = A*R**3*\\Omega**3*\\rho*{dC_P}_{2\n",
        "                                    {dP}_{3} = A*R**3*\\Omega**3*\\rho*{dC_P}_{3\n",
        "                                    {dP}_{4} = A*R**3*\\Omega**3*\\rho*{dC_P}_{4\n",
        "                             P >= {dP}_{0} + {dP}_{1} + {dP}_{2} + {dP}_{3} + \n",
        "                                                       ],                     \n",
        "                                         substitutions={ '\\\\rho': 1.23,       \n",
        "                                                     '{\\\\xi}_{0}': 2000.0,    \n",
        "                                                     '{\\\\xi}_{1}': 2000.0,    \n",
        "                                                     '{\\\\xi}_{2}': 2000.0,    \n",
        "                                                     '{\\\\xi}_{3}': 2000.0,    \n",
        "                                                    '{\\\\xi}_{4}': 2000.0 },   \n",
        "                                                solver=\"mosek\")               \n",
        "\n",
        "                        \n",
        "                        \n",
        "                        \n",
        "                        \n",
        "                        \n",
        "                        \n",
        "                        \n",
        ",                       \n",
        "ta r}_{2},              \n",
        " + {\\Delta r}_{3},      \n",
        "r}_{3} + {\\Delta r}_{4},\n",
        "                        \n",
        "+ {r}_{0},              \n",
        "+ {r}_{1},              \n",
        "+ {r}_{2},              \n",
        "+ {r}_{3},              \n",
        "                        \n",
        "},                      \n",
        "},                      \n",
        "},                      \n",
        "},                      \n",
        "},                      \n",
        "_{0}**-1*{r}_{0},       \n",
        "_{1}**-1*{r}_{1},       \n",
        "_{2}**-1*{r}_{2},       \n",
        "_{3}**-1*{r}_{3},       \n",
        "_{4}**-1*{r}_{4},       \n",
        "_{0}**-1*{r}_{0},       \n",
        "_{1}**-1*{r}_{1},       \n",
        "_{2}**-1*{r}_{2},       \n",
        "_{3}**-1*{r}_{3},       \n",
        "_{4}**-1*{r}_{4},       \n",
        "},                      \n",
        "},                      \n",
        "},                      \n",
        "},                      \n",
        "},                      \n",
        "{dP}_{4},               \n",
        "                        \n",
        "                        \n",
        "                        \n",
        "                        \n",
        "                        \n",
        "                        \n",
        "                        \n",
        "                        "
       ]
      }
     ],
     "prompt_number": 3
    },
    {
     "cell_type": "markdown",
     "metadata": {},
     "source": [
      "### solve for local monomial model"
     ]
    },
    {
     "cell_type": "code",
     "collapsed": false,
     "input": [
      "gp.solve()[\"local_model\"]"
     ],
     "language": "python",
     "metadata": {},
     "outputs": [
      {
       "output_type": "stream",
       "stream": "stdout",
       "text": [
        "Using solver 'mosek'\n",
        "Solving took 0.078 seconds   "
       ]
      },
      {
       "output_type": "stream",
       "stream": "stdout",
       "text": [
        "\n"
       ]
      },
      {
       "latex": [
        "$$0.5404\\frac{{\\xi}_{0}^{0.3179} {\\xi}_{1}^{0.3035} {\\xi}_{2}^{0.3035} {\\xi}_{3}^{0.3035} {\\xi}_{4}^{0.2717}}{\\rho^{0.5}}$$"
       ],
       "metadata": {},
       "output_type": "pyout",
       "prompt_number": 4,
       "text": [
        "gpkit.Monomial(0.54*\\rho**-0.5*{\\xi}_{0}**0.32*{\\xi}_{1}**0.3*{\\xi}_{2}**0.3*{\n",
        "\\xi}_{3}**0.3*{\\xi}_{4}**0.27)"
       ]
      }
     ],
     "prompt_number": 4
    },
    {
     "cell_type": "markdown",
     "metadata": {},
     "source": [
      "### show effect of weight and bin number on thrust disitribution"
     ]
    },
    {
     "cell_type": "code",
     "collapsed": false,
     "input": [
      "def solve_and_plot_Vi(bins, weight):\n",
      "    gp = BEMT_GP(bins, weight)\n",
      "    _ = gp.solve(printing=False)\n",
      "    sol = {}\n",
      "    sol['\\\\Delta r'] = empty(bins)\n",
      "    sol['r'] = empty(bins)\n",
      "    sol['\\\\xi'] = empty(bins)\n",
      "\n",
      "    for i in range(bins):\n",
      "        sol['\\\\Delta r'][i] = gp.solution['free_variables']['{\\\\Delta r}_{%s}' % i] # TODO(ned)\n",
      "        sol['r'][i] = gp.solution['free_variables']['{r}_{%s}' % i]\n",
      "        sol['\\\\xi'][i] = gp.substitutions['{\\\\xi}_{%s}' % i]\n",
      "\n",
      "    figure(figsize=(12,6))\n",
      "    plot(sol['r']*gp.solution['free_variables']['R'], sol['\\\\xi']/(sol['\\\\Delta r']*gp.solution['free_variables']['R']), 'r.-')\n",
      "    ylim(0, weight/4)\n",
      "    ylabel('Thrust density [N/m]')\n",
      "    xlabel('Radial position [m]')\n",
      "    show()\n",
      "\n",
      "from IPython.html.widgets import interactive\n",
      "\n",
      "interactive(solve_and_plot_Vi, bins=(1,100), weight=(1e3, 1e5, 1e3))"
     ],
     "language": "python",
     "metadata": {},
     "outputs": [
      {
       "metadata": {
        "png": {
         "height": 377,
         "width": 735
        }
       },
       "output_type": "display_data",
       "png": "[encoded data removed]",
       "text": [
        "<matplotlib.figure.Figure at 0xb49bb00>"
       ]
      }
     ],
     "prompt_number": 5
    }
   ],
   "metadata": {}
  }
 ]
}