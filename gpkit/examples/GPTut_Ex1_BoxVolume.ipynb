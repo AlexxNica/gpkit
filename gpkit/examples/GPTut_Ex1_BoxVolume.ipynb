{
 "metadata": {
  "name": "",
  "signature": "sha256:40d75584a15111fb3fa75a3c8b73e746f9d7ef29fdea6bece4c1842b31058102"
 },
 "nbformat": 3,
 "nbformat_minor": 0,
 "worksheets": [
  {
   "cells": [
    {
     "cell_type": "heading",
     "level": 1,
     "metadata": {},
     "source": [
      "GP Tutorial Example 1: Box Volume"
     ]
    },
    {
     "cell_type": "markdown",
     "metadata": {},
     "source": [
      "This example is a simple demonstration of GPkit, based on the simple box volume maximization example in <a href=\"http://stanford.edu/~boyd/papers/pdf/gp_tutorial.pdf\">A Tutorial on Geometric Programming</a> by Boyd et al..\n",
      "\n",
      "The objective is to maximise the volume of a box given constraints on the aspect ratio and area of its sides."
     ]
    },
    {
     "cell_type": "heading",
     "level": 3,
     "metadata": {},
     "source": [
      "Set up the modelling environment"
     ]
    },
    {
     "cell_type": "markdown",
     "metadata": {},
     "source": [
      "First, we need to import GPkit and turn on Latex printing for GPkit variables and equations."
     ]
    },
    {
     "cell_type": "code",
     "collapsed": false,
     "input": [
      "import gpkit\n",
      "gpkit.init_ipynb_printing()"
     ],
     "language": "python",
     "metadata": {},
     "outputs": [],
     "prompt_number": 1
    },
    {
     "cell_type": "markdown",
     "metadata": {},
     "source": [
      "Now, we declare the optimisation parameters:"
     ]
    },
    {
     "cell_type": "code",
     "collapsed": false,
     "input": [
      "alpha = gpkit.Variable(\"\\\\alpha\", \"lower limit, wall aspect ratio\")\n",
      "beta = gpkit.Variable(\"\\\\beta\", \"upper limit, wall aspect ratio\")\n",
      "gamma = gpkit.Variable(\"\\\\gamma\", \"lower limit, floor aspect ratio\")\n",
      "delta = gpkit.Variable(\"\\\\delta\", \"upper limit, floor aspect ratio\")\n",
      "A_wall = gpkit.Variable(\"A_{wall}\", \"m^2\", \"upper limit, wall area\")\n",
      "A_floor = gpkit.Variable(\"A_{floor}\", \"m^2\", \"upper limit, floor area\")\n",
      "                         \n",
      "substitutions = {\n",
      "    '\\\\alpha': 1,\n",
      "    '\\\\beta': 10,\n",
      "    '\\\\gamma': 1,\n",
      "    '\\\\delta': 10,\n",
      "    'A_{wall}': 200,\n",
      "    'A_{floor}': 100,\n",
      "    }"
     ],
     "language": "python",
     "metadata": {},
     "outputs": [],
     "prompt_number": 2
    },
    {
     "cell_type": "markdown",
     "metadata": {},
     "source": [
      "Next, we declare the decision variables:"
     ]
    },
    {
     "cell_type": "code",
     "collapsed": false,
     "input": [
      "h = gpkit.Variable(\"h\", \"height\")\n",
      "w = gpkit.Variable(\"w\", \"width\")\n",
      "d = gpkit.Variable(\"d\", \"depth\")"
     ],
     "language": "python",
     "metadata": {},
     "outputs": [],
     "prompt_number": 3
    },
    {
     "cell_type": "markdown",
     "metadata": {},
     "source": [
      "Then we form equations of the system:"
     ]
    },
    {
     "cell_type": "code",
     "collapsed": false,
     "input": [
      "V = h*w*d\n",
      "constraints = [A_wall >= 2*h*w + 2*h*d,\n",
      "               A_floor >= w*d,\n",
      "               h/w >= alpha,\n",
      "               h/w <= beta,\n",
      "               d/w >= gamma,\n",
      "               d/w <= delta]"
     ],
     "language": "python",
     "metadata": {},
     "outputs": [],
     "prompt_number": 4
    },
    {
     "cell_type": "heading",
     "level": 3,
     "metadata": {},
     "source": [
      "Formulate the optimisation problem"
     ]
    },
    {
     "cell_type": "markdown",
     "metadata": {},
     "source": [
      "Here we write the optimisation problem as a standard form geometric program:"
     ]
    },
    {
     "cell_type": "code",
     "collapsed": false,
     "input": [
      "gp = gpkit.GP(1/V, constraints, substitutions)"
     ],
     "language": "python",
     "metadata": {},
     "outputs": [],
     "prompt_number": 5
    },
    {
     "cell_type": "markdown",
     "metadata": {},
     "source": [
      "Now, we can check that our equations are correct by looking at them in a more readable format using the built-in latex printing feature of gpkit."
     ]
    },
    {
     "cell_type": "code",
     "collapsed": false,
     "input": [
      "gp"
     ],
     "language": "python",
     "metadata": {},
     "outputs": [
      {
       "latex": [
        "$$\\begin{array}[ll]\n",
        "\\text{}\\text{minimize}\n",
        "    & \\frac{1}{h d w} \\\\\n",
        "\\text{subject to}\n",
        "    & A_{wall} \\geq 2h d + 2h w \\\\\n",
        "    & d w \\leq A_{floor} \\\\\n",
        "    & \\alpha \\leq \\frac{h}{w} \\\\\n",
        "    & \\beta \\geq \\frac{h}{w} \\\\\n",
        "    & \\gamma \\leq \\frac{d}{w} \\\\\n",
        "    & \\delta \\geq \\frac{d}{w} \\\\\n",
        "\\end{array}$$"
       ],
       "metadata": {},
       "output_type": "pyout",
       "prompt_number": 6,
       "text": [
        "            gpkit.GP( # minimize           \n",
        "                  h**-1*d**-1*w**-1,       \n",
        "                   [   # subject to        \n",
        "                A_{wall} >= 2*h*d + 2*h*w, \n",
        "                    d*w <= A_{floor},      \n",
        "                    \\alpha <= w**-1*h,     \n",
        "                    \\beta >= w**-1*h,      \n",
        "                    \\gamma <= w**-1*d,     \n",
        "                    \\delta >= w**-1*d,     \n",
        "                          ],               \n",
        "          substitutions={ 'A_{floor}': 100,\n",
        "                           'A_{wall}': 200,\n",
        "                            '\\\\alpha': 1,  \n",
        "                            '\\\\beta': 10,  \n",
        "                            '\\\\delta': 10, \n",
        "                           '\\\\gamma': 1 }, \n",
        "                   solver=\"mosek\")         "
       ]
      }
     ],
     "prompt_number": 6
    },
    {
     "cell_type": "heading",
     "level": 3,
     "metadata": {},
     "source": [
      "Solve the GP"
     ]
    },
    {
     "cell_type": "code",
     "collapsed": false,
     "input": [
      "data = gp.solve()"
     ],
     "language": "python",
     "metadata": {},
     "outputs": [
      {
       "output_type": "stream",
       "stream": "stdout",
       "text": [
        "Using solver 'mosek'\n",
        "Solving took 0.171 seconds   "
       ]
      },
      {
       "output_type": "stream",
       "stream": "stdout",
       "text": [
        "\n"
       ]
      }
     ],
     "prompt_number": 7
    },
    {
     "cell_type": "heading",
     "level": 3,
     "metadata": {},
     "source": [
      "Analyse the results"
     ]
    },
    {
     "cell_type": "markdown",
     "metadata": {},
     "source": [
      "Finally, we can print the results:"
     ]
    },
    {
     "cell_type": "code",
     "collapsed": false,
     "input": [
      "print \"                 |\"\n",
      "for key, table in data.iteritems():\n",
      "    try:\n",
      "        val = table.mean()\n",
      "    except AttributeError:\n",
      "        val = table\n",
      "    descr = gp.var_descrs[key]\n",
      "    if descr:\n",
      "        if descr[0] is None:\n",
      "            descr = \"[-] %s\" % descr[1]\n",
      "        else:\n",
      "            descr = \"[%s] %s\" % (descr[0], descr[1])\n",
      "    if not (abs(val) <= 1e-2 and key[:2] == \"S{\"):\n",
      "        print \"%16s\" % key, \": %-8.3g\" % val, descr\n",
      "print \"                 |\""
     ],
     "language": "python",
     "metadata": {},
     "outputs": [
      {
       "output_type": "stream",
       "stream": "stdout",
       "text": [
        "                 |\n",
        "               h : 5.77     [-] height\n",
        "               d : 11.5     [-] depth\n",
        "               w : 5.77     [-] width\n",
        "                 |\n"
       ]
      }
     ],
     "prompt_number": 8
    }
   ],
   "metadata": {}
  }
 ]
}