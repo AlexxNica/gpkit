{
 "metadata": {
  "name": "",
  "signature": "sha256:289857f211ab7b84384fce163411be524f844ef0966e44cecbcbfcd9af4cb2cf"
 },
 "nbformat": 3,
 "nbformat_minor": 0,
 "worksheets": [
  {
   "cells": [
    {
     "cell_type": "heading",
     "level": 1,
     "metadata": {},
     "source": [
      "GP Tutorial Example 1: Box Volume"
     ]
    },
    {
     "cell_type": "markdown",
     "metadata": {},
     "source": [
      "This example is a simple demonstration of GPkit, based on the simple box volume maximization example in <a href=\"http://stanford.edu/~boyd/papers/pdf/gp_tutorial.pdf\">A Tutorial on Geometric Programming</a> by Boyd et al..\n",
      "\n",
      "We will maximise the volume of a box given constraints on the aspect ratio and area of its sides."
     ]
    },
    {
     "cell_type": "heading",
     "level": 3,
     "metadata": {},
     "source": [
      "Set up the modelling environment"
     ]
    },
    {
     "cell_type": "markdown",
     "metadata": {},
     "source": [
      "First we'll to import GPkit and turn on $\\LaTeX$ printing for GPkit variables and equations."
     ]
    },
    {
     "cell_type": "code",
     "collapsed": false,
     "input": [
      "import gpkit\n",
      "import gpkit.interactive\n",
      "gpkit.interactive.init_printing()"
     ],
     "language": "python",
     "metadata": {},
     "outputs": [],
     "prompt_number": 1
    },
    {
     "cell_type": "markdown",
     "metadata": {},
     "source": [
      "Now we declare the optimisation parameters:"
     ]
    },
    {
     "cell_type": "code",
     "collapsed": false,
     "input": [
      "alpha = gpkit.Variable(\"\\\\alpha\", 2, \"-\", \"lower limit, wall aspect ratio\")\n",
      "beta = gpkit.Variable(\"\\\\beta\", 10, \"-\", \"upper limit, wall aspect ratio\")\n",
      "gamma = gpkit.Variable(\"\\\\gamma\", 2, \"-\", \"lower limit, floor aspect ratio\")\n",
      "delta = gpkit.Variable(\"\\\\delta\", 10, \"-\", \"upper limit, floor aspect ratio\")\n",
      "A_wall = gpkit.Variable(\"A_{wall}\", 200, \"m^2\", \"upper limit, wall area\")\n",
      "A_floor = gpkit.Variable(\"A_{floor}\", 50, \"m^2\", \"upper limit, floor area\")"
     ],
     "language": "python",
     "metadata": {},
     "outputs": [],
     "prompt_number": 2
    },
    {
     "cell_type": "markdown",
     "metadata": {},
     "source": [
      "Next, we declare the decision variables:"
     ]
    },
    {
     "cell_type": "code",
     "collapsed": false,
     "input": [
      "var = gpkit.Variable # a convenient shorthand\n",
      "\n",
      "h = var(\"h\", \"m\", \"height\")\n",
      "w = var(\"w\", \"m\", \"width\")\n",
      "d = var(\"d\", \"m\", \"depth\")"
     ],
     "language": "python",
     "metadata": {},
     "outputs": [],
     "prompt_number": 3
    },
    {
     "cell_type": "markdown",
     "metadata": {},
     "source": [
      "Then we form equations of the system:"
     ]
    },
    {
     "cell_type": "code",
     "collapsed": false,
     "input": [
      "V = h*w*d\n",
      "constraints = [A_wall >= 2*h*w + 2*h*d,\n",
      "               A_floor >= w*d,\n",
      "               h/w >= alpha,\n",
      "               h/w <= beta,\n",
      "               d/w >= gamma,\n",
      "               d/w <= delta]"
     ],
     "language": "python",
     "metadata": {},
     "outputs": [],
     "prompt_number": 4
    },
    {
     "cell_type": "heading",
     "level": 3,
     "metadata": {},
     "source": [
      "Formulate the optimisation problem"
     ]
    },
    {
     "cell_type": "markdown",
     "metadata": {},
     "source": [
      "Here we write the optimisation problem as a standard form geometric program:"
     ]
    },
    {
     "cell_type": "code",
     "collapsed": false,
     "input": [
      "gp = gpkit.GP(1/V, constraints)"
     ],
     "language": "python",
     "metadata": {},
     "outputs": [],
     "prompt_number": 5
    },
    {
     "cell_type": "markdown",
     "metadata": {},
     "source": [
      "Now, we can check that our equations are correct by looking at them in a more readable format using the built-in latex printing feature of gpkit."
     ]
    },
    {
     "cell_type": "code",
     "collapsed": false,
     "input": [
      "gp"
     ],
     "language": "python",
     "metadata": {},
     "outputs": [
      {
       "latex": [
        "$$\\begin{array}[ll]\n",
        "\\text{}\n",
        "\\text{minimize}\n",
        "    & \\frac{1}{w h d}\\mathrm{\\left[ \\tfrac{1}{m^{3}} \\right]} \\\\\n",
        "\\text{subject to}\n",
        "    & A_{wall} \\geq 2h d + 2w h \\\\\n",
        "    & A_{floor} \\geq w d \\\\\n",
        "    & \\alpha \\leq \\frac{h}{w} \\\\\n",
        "    & \\beta \\geq \\frac{h}{w} \\\\\n",
        "    & \\gamma \\leq \\frac{d}{w} \\\\\n",
        "    & \\delta \\geq \\frac{d}{w} \\\\\n",
        "\\text{substituting}\n",
        "    & A_{floor} = 50 \\\\\n",
        "    & A_{wall} = 200 \\\\\n",
        "    & \\alpha = 2 \\\\\n",
        "    & \\beta = 10 \\\\\n",
        "    & \\delta = 10 \\\\\n",
        "    & \\gamma = 2 \\\\\n",
        "\\end{array}$$"
       ],
       "metadata": {},
       "output_type": "pyout",
       "prompt_number": 6,
       "text": [
        "                                         gpkit.GP( # minimize                 \n",
        "                                       w**-1*h**-1*d**-1, units='1/m**3',     \n",
        "                                                [   # subject to              \n",
        "                                             A_{wall} >= 2*h*d + 2*w*h,       \n",
        "                                                 A_{floor} >= w*d,            \n",
        "                                                 \\alpha <= w**-1*h,           \n",
        "                                                 \\beta >= w**-1*h,            \n",
        "                                                 \\gamma <= w**-1*d,           \n",
        "                                                 \\delta >= w**-1*d,           \n",
        "                                                       ],                     \n",
        "          substitutions={ \\beta: 10, \\gamma: 2, \\delta: 10, A_{wall}: 200, A_{\n",
        "                                                solver=\"cvxopt\")              \n",
        "\n",
        "                        \n",
        "                        \n",
        "                        \n",
        "                        \n",
        "                        \n",
        "                        \n",
        "                        \n",
        "                        \n",
        "                        \n",
        "                        \n",
        "floor}: 50, \\alpha: 2 },\n",
        "                        "
       ]
      }
     ],
     "prompt_number": 6
    },
    {
     "cell_type": "markdown",
     "metadata": {},
     "source": [
      "Hmm, let's change $A_{floor}$ to $100$"
     ]
    },
    {
     "cell_type": "code",
     "collapsed": false,
     "input": [
      "gp.sub(A_floor, 100, replace=True)"
     ],
     "language": "python",
     "metadata": {},
     "outputs": [],
     "prompt_number": 7
    },
    {
     "cell_type": "markdown",
     "metadata": {},
     "source": [
      "And $\\alpha$ and $\\gamma$ to $1$"
     ]
    },
    {
     "cell_type": "code",
     "collapsed": false,
     "input": [
      "gp.sub({alpha: 1, gamma: 1}, replace=True)"
     ],
     "language": "python",
     "metadata": {},
     "outputs": [],
     "prompt_number": 8
    },
    {
     "cell_type": "code",
     "collapsed": false,
     "input": [
      "gp"
     ],
     "language": "python",
     "metadata": {},
     "outputs": [
      {
       "latex": [
        "$$\\begin{array}[ll]\n",
        "\\text{}\n",
        "\\text{minimize}\n",
        "    & \\frac{1}{w h d}\\mathrm{\\left[ \\tfrac{1}{m^{3}} \\right]} \\\\\n",
        "\\text{subject to}\n",
        "    & A_{wall} \\geq 2h d + 2w h \\\\\n",
        "    & A_{floor} \\geq w d \\\\\n",
        "    & \\alpha \\leq \\frac{h}{w} \\\\\n",
        "    & \\beta \\geq \\frac{h}{w} \\\\\n",
        "    & \\gamma \\leq \\frac{d}{w} \\\\\n",
        "    & \\delta \\geq \\frac{d}{w} \\\\\n",
        "\\text{substituting}\n",
        "    & A_{floor} = 100 \\\\\n",
        "    & A_{wall} = 200 \\\\\n",
        "    & \\alpha = 1 \\\\\n",
        "    & \\beta = 10 \\\\\n",
        "    & \\delta = 10 \\\\\n",
        "    & \\gamma = 1 \\\\\n",
        "\\end{array}$$"
       ],
       "metadata": {},
       "output_type": "pyout",
       "prompt_number": 9,
       "text": [
        "                                          gpkit.GP( # minimize                \n",
        "                                        w**-1*h**-1*d**-1, units='1/m**3',    \n",
        "                                                 [   # subject to             \n",
        "                                              A_{wall} >= 2*h*d + 2*w*h,      \n",
        "                                                  A_{floor} >= w*d,           \n",
        "                                                  \\alpha <= w**-1*h,          \n",
        "                                                  \\beta >= w**-1*h,           \n",
        "                                                  \\gamma <= w**-1*d,          \n",
        "                                                  \\delta >= w**-1*d,          \n",
        "                                                        ],                    \n",
        "          substitutions={ \\beta: 10, \\gamma: 1, \\delta: 10, A_{wall}: 200, A_{\n",
        "                                                 solver=\"cvxopt\")             \n",
        "\n",
        "                         \n",
        "                         \n",
        "                         \n",
        "                         \n",
        "                         \n",
        "                         \n",
        "                         \n",
        "                         \n",
        "                         \n",
        "                         \n",
        "floor}: 100, \\alpha: 1 },\n",
        "                         "
       ]
      }
     ],
     "prompt_number": 9
    },
    {
     "cell_type": "heading",
     "level": 3,
     "metadata": {},
     "source": [
      "Solve the GP"
     ]
    },
    {
     "cell_type": "code",
     "collapsed": false,
     "input": [
      "sol = gp.solve()"
     ],
     "language": "python",
     "metadata": {},
     "outputs": [
      {
       "output_type": "stream",
       "stream": "stdout",
       "text": [
        "Using solver 'cvxopt'\n",
        "Solving took 0.0788 seconds"
       ]
      },
      {
       "output_type": "stream",
       "stream": "stdout",
       "text": [
        "\n"
       ]
      }
     ],
     "prompt_number": 10
    },
    {
     "cell_type": "heading",
     "level": 3,
     "metadata": {},
     "source": [
      "Analyse the results"
     ]
    },
    {
     "cell_type": "markdown",
     "metadata": {},
     "source": [
      "Finally, we can print the results:"
     ]
    },
    {
     "cell_type": "code",
     "collapsed": false,
     "input": [
      "print sol.table()"
     ],
     "language": "python",
     "metadata": {},
     "outputs": [
      {
       "output_type": "stream",
       "stream": "stdout",
       "text": [
        " 0.0025981 : Cost\n",
        "           | Free variables\n",
        "         d : 11.5     [m] depth\n",
        "         h : 5.77     [m] height\n",
        "         w : 5.77     [m] width\n",
        "           |\n",
        "           | Constants\n",
        " A_{floor} : 100      [m**2] upper limit, floor area\n",
        "  A_{wall} : 200      [m**2] upper limit, wall area\n",
        "    \\alpha : 1        [-] lower limit, wall aspect ratio\n",
        "     \\beta : 10       [-] upper limit, wall aspect ratio\n",
        "    \\delta : 10       [-] upper limit, floor aspect ratio\n",
        "    \\gamma : 1        [-] lower limit, floor aspect ratio\n",
        "           |\n",
        "           | Constant sensitivities\n",
        "  A_{wall} : -1.5     [-] upper limit, wall area\n",
        "    \\alpha : 0.5      [-] lower limit, wall aspect ratio\n",
        "           |\n"
       ]
      }
     ],
     "prompt_number": 11
    },
    {
     "cell_type": "markdown",
     "metadata": {},
     "source": [
      "Why didn't $A_{floor}$ show up in the constant sensitivities list?"
     ]
    },
    {
     "cell_type": "code",
     "collapsed": false,
     "input": [
      "sol.senssubinto(A_floor)"
     ],
     "language": "python",
     "metadata": {},
     "outputs": [
      {
       "metadata": {},
       "output_type": "pyout",
       "prompt_number": 12,
       "text": [
        "-3.4698494246624108e-09"
       ]
      }
     ],
     "prompt_number": 12
    },
    {
     "cell_type": "markdown",
     "metadata": {},
     "source": [
      "It's sensitivity is tiny; that constraint is loose! Let's sweep over a range of $A_{floor}$ values to figure out where it becomes loose."
     ]
    },
    {
     "cell_type": "markdown",
     "metadata": {},
     "source": [
      "### Sweep and plot results\n",
      "\n",
      "Import the plotting library matplotlib and the math library numpy:"
     ]
    },
    {
     "cell_type": "code",
     "collapsed": false,
     "input": [
      "%matplotlib inline\n",
      "import matplotlib.pyplot as plt\n",
      "import numpy as np"
     ],
     "language": "python",
     "metadata": {},
     "outputs": [],
     "prompt_number": 13
    },
    {
     "cell_type": "markdown",
     "metadata": {},
     "source": [
      "Solve for values of $A_{floor}$ from 10 to 100:"
     ]
    },
    {
     "cell_type": "code",
     "collapsed": false,
     "input": [
      "gp.sub(A_floor, ('sweep', np.linspace(10, 100, 50)), replace=True)\n",
      "sol = gp.solve()\n",
      "print sol.table()"
     ],
     "language": "python",
     "metadata": {},
     "outputs": [
      {
       "output_type": "stream",
       "stream": "stdout",
       "text": [
        "Using solver 'cvxopt'\n",
        "Sweeping 1 variables over 50 passes\n",
        "Solving took 2.51 seconds"
       ]
      },
      {
       "output_type": "stream",
       "stream": "stdout",
       "text": [
        "\n",
        " 0.0032211 : Cost (average of 50 values)\n",
        "           | Free variables (average)\n",
        "         d : 8.33     [m] depth\n",
        "         h : 7.74     [m] height\n",
        "         w : 5.69     [m] width\n",
        "           |\n",
        "           | Constants (average)\n",
        " A_{floor} : 55       [m**2] upper limit, floor area\n",
        "  A_{wall} : 200      [m**2] upper limit, wall area\n",
        "    \\alpha : 1        [-] lower limit, wall aspect ratio\n",
        "     \\beta : 10       [-] upper limit, wall aspect ratio\n",
        "    \\delta : 10       [-] upper limit, floor aspect ratio\n",
        "    \\gamma : 1        [-] lower limit, floor aspect ratio\n",
        "           |\n",
        "           | Constant sensitivities (average)\n",
        " A_{floor} : -0.274   [-] upper limit, floor area\n",
        "  A_{wall} : -1.23    [-] upper limit, wall area\n",
        "    \\alpha : 0.226    [-] lower limit, wall aspect ratio\n",
        "           |\n"
       ]
      }
     ],
     "prompt_number": 14
    },
    {
     "cell_type": "markdown",
     "metadata": {},
     "source": [
      "Plot solution:"
     ]
    },
    {
     "cell_type": "code",
     "collapsed": false,
     "input": [
      "plt.plot(sol(A_floor), sol(d))\n",
      "plt.plot(sol(A_floor), sol(h))\n",
      "plt.plot(sol(A_floor), sol(w))\n",
      "plt.legend(['depth', 'height', 'width'])\n",
      "plt.ylabel(\"Optimal dimensions [m]\")\n",
      "plt.xlabel(\"A_floor [m^2]\")"
     ],
     "language": "python",
     "metadata": {},
     "outputs": [
      {
       "metadata": {},
       "output_type": "pyout",
       "prompt_number": 15,
       "text": [
        "<matplotlib.text.Text at 0x7fbd0c305350>"
       ]
      },
      {
       "metadata": {},
       "output_type": "display_data",
       "png": "[encoded data removed]",
       "text": [
        "<matplotlib.figure.Figure at 0x7fbd0cc18f10>"
       ]
      }
     ],
     "prompt_number": 15
    },
    {
     "cell_type": "code",
     "collapsed": false,
     "input": [
      "### save style for nbviewer\n",
      "\n",
      "If you have a local i"
     ],
     "language": "python",
     "metadata": {},
     "outputs": []
    },
    {
     "cell_type": "code",
     "collapsed": false,
     "input": [
      "from IPython import utils\n",
      "from IPython.core.display import HTML\n",
      "import os\n",
      "def css_styling():\n",
      "    \"\"\"Load default custom.css file from ipython profile\"\"\"\n",
      "    base = utils.path.get_ipython_dir()\n",
      "    styles = \"<style>\\n%s\\n</style>\" % (open(os.path.join(base,'profile_default/static/custom/custom.css'),'r').read())\n",
      "    return HTML(styles)\n",
      "css_styling()"
     ],
     "language": "python",
     "metadata": {},
     "outputs": []
    }
   ],
   "metadata": {}
  }
 ]
}