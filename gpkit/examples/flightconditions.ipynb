{
 "metadata": {
  "name": "",
  "signature": "sha256:dbf332fd43bbc3d482caff5ab988e14b7729a486dcd75ed2135bd526ac859251"
 },
 "nbformat": 3,
 "nbformat_minor": 0,
 "worksheets": [
  {
   "cells": [
    {
     "cell_type": "markdown",
     "metadata": {},
     "source": [
      "# Design Exploration and Optimization\n",
      "\n",
      "## Flight Conditions Example\n",
      "\n",
      "Use \"Cell > Run All\" to run this notebook.\n",
      "\n",
      "### import gpkit and enable $\\LaTeX$ printing"
     ]
    },
    {
     "cell_type": "code",
     "collapsed": false,
     "input": [
      "import numpy as np\n",
      "import gpkit\n",
      "import gpkit.interactive\n",
      "gpkit.interactive.init_printing()"
     ],
     "language": "python",
     "metadata": {
      "slideshow": {
       "slide_type": "slide"
      }
     },
     "outputs": [],
     "prompt_number": 1
    },
    {
     "cell_type": "markdown",
     "metadata": {},
     "source": [
      "### declare constants"
     ]
    },
    {
     "cell_type": "code",
     "collapsed": false,
     "input": [
      "mon = gpkit.mon\n",
      "vec = gpkit.vecmon\n",
      "\n",
      "N_lift         = mon(\"N_{lift}\", 6.0, \"-\", \"Wing loading multiplier\")\n",
      "pi             = mon(\"\\\\pi\", np.pi, \"-\", \"Half of the circle constant\")\n",
      "sigma_max      = mon(\"\\\\sigma_{max}\", 250e6, \"Pa\", \"Allowable stress, 6061-T6\")\n",
      "sigma_maxshear = mon(\"\\\\sigma_{max,shear}\", 167e6, \"Pa\", \"Allowable shear stress\")\n",
      "g              = mon(\"g\", 9.8, \"m/s^2\", \"Gravitational constant\")\n",
      "w              = mon(\"w\", 0.5, \"-\", \"Wing-box width/chord\")\n",
      "r_h            = mon(\"r_h\", 0.75, \"-\", \"Wing strut taper parameter\")\n",
      "f_wadd         = mon(\"f_{wadd}\", 2, \"-\", \"Wing added weight fraction\")\n",
      "W_fixed        = mon(\"W_{fixed}\", 14.7e3, \"N\", \"Fixed weight\")\n",
      "C_Lmax         = mon(\"C_{L,max}\", 1.5, \"-\", \"Maximum C_L, flaps down\")\n",
      "rho            = mon(\"\\\\rho\", 0.91, \"kg/m^3\", \"Air density, 3000m\")\n",
      "rho_sl         = mon(\"\\\\rho_{sl}\", 1.23, \"kg/m^3\", \"Air density, sea level\")\n",
      "rho_alum       = mon(\"\\\\rho_{alum}\", 2700, \"kg/m^3\", \"Density of aluminum\")\n",
      "mu             = mon(\"\\\\mu\", 1.69e-5, \"kg/m/s\", \"Dynamic viscosity, 3000m\")\n",
      "e              = mon(\"e\", 0.95, \"-\", \"Wing spanwise efficiency\")\n",
      "A_prop         = mon(\"A_{prop}\", 0.785, \"m^2\", \"Propeller disk area\")\n",
      "eta_eng        = mon(\"\\\\eta_{eng}\", 0.35, \"-\", \"Engine efficiency\")\n",
      "eta_v          = mon(\"\\\\eta_v\", 0.85, \"-\", \"Propeller viscous efficiency\")\n",
      "h_fuel         = mon(\"h_{fuel}\", 42e6, \"J/kg\", \"fuel heating value\")\n",
      "V_sprint_reqt  = mon(\"V_{sprintreqt}\", 150, \"m/s\", \"sprint speed requirement\")"
     ],
     "language": "python",
     "metadata": {
      "slideshow": {
       "slide_type": "slide"
      }
     },
     "outputs": [],
     "prompt_number": 2
    },
    {
     "cell_type": "markdown",
     "metadata": {},
     "source": [
      "### declare sweeps"
     ]
    },
    {
     "cell_type": "code",
     "collapsed": false,
     "input": [
      "R_min          = mon(\"R_{min}\", np.linspace(1e6, 1e7, 10), \"m\", \"Minimum airplane range\")\n",
      "V_stallmax     = mon(\"V_{stall,max}\", np.linspace(30, 50, 10), \"m/s\", \"Stall speed\")"
     ],
     "language": "python",
     "metadata": {},
     "outputs": [],
     "prompt_number": 4
    },
    {
     "cell_type": "markdown",
     "metadata": {},
     "source": [
      "### declare free variables"
     ]
    },
    {
     "cell_type": "code",
     "collapsed": false,
     "input": [
      "V        = vec(3, \"V\", \"m/s\", \"Flight speed\")\n",
      "C_L      = vec(3, \"C_L\", \"-\", \"Wing lift coefficent\")\n",
      "C_D      = vec(3, \"C_D\", \"-\", \"Wing drag coefficent\")\n",
      "C_Dfuse  = vec(3, \"C_{D_{fuse}}\", \"-\", \"Fuselage drag coefficent\")\n",
      "C_Dp     = vec(3, \"C_{D_p}\", \"-\", \"drag model parameter\")\n",
      "C_Di     = vec(3, \"C_{D_i}\", \"-\", \"drag model parameter\")\n",
      "T        = vec(3, \"T\", \"N\", \"Thrust force\")\n",
      "Re       = vec(3, \"Re\", \"-\", \"Reynold's number\")\n",
      "W        = vec(3, \"W\", \"N\", \"Aircraft weight\")\n",
      "eta_i    = vec(3, \"\\\\eta_i\", \"-\", \"Aircraft efficiency\")\n",
      "eta_prop = vec(3, \"\\\\eta_{prop}\", \"-\")\n",
      "eta_0    = vec(3, \"\\\\eta_0\", \"-\")\n",
      "W_fuel   = vec(2, \"W_{fuel}\", \"N\", \"Fuel weight\")\n",
      "z_bre    = vec(2, \"z_{bre}\", \"-\")\n",
      "S        = mon(\"S\", \"m^2\", \"Wing area\")\n",
      "R        = mon(\"R\", \"m\", \"Airplane range\")\n",
      "A        = mon(\"A\", \"-\", \"Aspect Ratio\")\n",
      "I_cap    = mon(\"I_{cap}\", \"m^4\", \"Spar cap area moment of inertia per unit chord\")\n",
      "M_rbar   = mon(\"\\\\bar{M}_r\", \"-\")\n",
      "P_max    = mon(\"P_{max}\", \"W\")\n",
      "V_stall  = mon(\"V_{stall}\", \"m/s\")\n",
      "nu       = mon(\"\\\\nu\", \"-\")\n",
      "p        = mon(\"p\", \"-\")\n",
      "q        = mon(\"q\", \"-\")\n",
      "tau      = mon(\"\\\\tau\", \"-\")\n",
      "t_cap    = mon(\"t_{cap}\", \"-\")\n",
      "t_web    = mon(\"t_{web}\", \"-\")\n",
      "W_cap    = mon(\"W_{cap}\", \"N\")\n",
      "W_zfw    = mon(\"W_{zfw}\", \"N\", \"Zero fuel weight\")\n",
      "W_eng    = mon(\"W_{eng}\", \"N\")\n",
      "W_mto    = mon(\"W_{mto}\", \"N\", \"Maximum takeoff weight\")\n",
      "W_pay    = mon(\"W_{pay}\", \"N\")\n",
      "W_tw     = mon(\"W_{tw}\", \"N\")\n",
      "W_web    = mon(\"W_{web}\", \"N\")\n",
      "W_web    = mon(\"W_{web}\", \"N\")\n",
      "W_wing   = mon(\"W_{wing}\", \"N\")"
     ],
     "language": "python",
     "metadata": {
      "slideshow": {
       "slide_type": "subslide"
      }
     },
     "outputs": [],
     "prompt_number": 5
    },
    {
     "cell_type": "markdown",
     "metadata": {},
     "source": [
      "### show vector constraints"
     ]
    },
    {
     "cell_type": "code",
     "collapsed": false,
     "input": [
      "W == 0.5*rho*C_L*S*V**2"
     ],
     "language": "python",
     "metadata": {},
     "outputs": [
      {
       "latex": [
        "$$\\begin{bmatrix}{W}_{0} = 0.5S \\rho {V}_{0}^{2} {C_L}_{0} & {W}_{1} = 0.5S \\rho {V}_{1}^{2} {C_L}_{1} & {W}_{2} = 0.5S \\rho {V}_{2}^{2} {C_L}_{2}\\end{bmatrix}$$"
       ],
       "metadata": {},
       "output_type": "pyout",
       "prompt_number": 6,
       "text": [
        "[W_0 = 0.5*S*\\rho*V_0**2*C_L_0, W_1 = 0.5*S*\\rho*V_1**2*C_L_1, W_2 = 0.5*S*\\rh\n",
        "o*V_2**2*C_L_2]"
       ]
      }
     ],
     "prompt_number": 6
    },
    {
     "cell_type": "markdown",
     "metadata": {},
     "source": [
      "### create models\n",
      "\n",
      "vector ordering is: outbound, return, sprint"
     ]
    },
    {
     "cell_type": "code",
     "collapsed": false,
     "input": [
      "steady_level_flight = (W == 0.5*rho*C_L*S*V**2,\n",
      "                       T >= 0.5*rho*C_D*S*V**2,\n",
      "                       Re == (rho/mu)*V*(S/A)**0.5)\n",
      "\n",
      "landing_fc = (W_mto <= 0.5*rho_sl*V_stall**2*C_Lmax*S,\n",
      "              V_stall <= V_stallmax)\n",
      "\n",
      "sprint_fc = (P_max >= T[2]*V[2]/eta_0[2],\n",
      "             V[2] >= V_sprint_reqt)\n",
      "\n",
      "drag_model = (C_D >= (0.05/S)*gpkit.units.m**2 +C_Dp + C_L**2/(pi*e*A),\n",
      "              1 >= (2.56*C_L**5.88/(Re**1.54*tau**3.32*C_Dp**2.62) +\n",
      "                   3.8e-9*tau**6.23/(C_L**0.92*Re**1.38*C_Dp**9.57) +\n",
      "                   2.2e-3*Re**0.14*tau**0.033/(C_L**0.01*C_Dp**0.73) +\n",
      "                   1.19e4*C_L**9.78*tau**1.76/(Re*C_Dp**0.91) +\n",
      "                   6.14e-6*C_L**6.53/(Re**0.99*tau**0.52*C_Dp**5.19)))\n",
      "\n",
      "propulsive_efficiency = (eta_0 <= eta_eng*eta_prop,\n",
      "                         eta_prop <= eta_i*eta_v,\n",
      "                         4*eta_i + T*eta_i**2/(0.5*rho*V**2*A_prop) <= 4)\n",
      "\n",
      "# 4th order taylor approximation for e^x\n",
      "z_bre_sum = 0\n",
      "for i in range(1,5):\n",
      "    z_bre_sum += z_bre**i/np.math.factorial(i)\n",
      "\n",
      "range_constraints = (R >= R_min,\n",
      "                     z_bre >= g*R*T[:2]/(h_fuel*eta_0[:2]*W[:2]),\n",
      "                     W_fuel/W[:2] >= z_bre_sum)\n",
      "\n",
      "weight_relations = (W_pay >= 500*g*gpkit.units.kg,\n",
      "                    W_tw >= W_fixed + W_pay + W_eng,\n",
      "                    W_zfw >= W_tw + W_wing,\n",
      "                    W_eng >= 0.0372*P_max**0.8083 * gpkit.units.parse_expression('N/W^0.8083'),\n",
      "                    W_wing/f_wadd >= W_cap + W_web,\n",
      "                    W[0] >= W_zfw + W_fuel[1],\n",
      "                    W[1] >= W_zfw,\n",
      "                    W_mto >= W[0] + W_fuel[0],\n",
      "                    W[2] == W[0])\n",
      "\n",
      "wing_structural_model = (2*q >= 1 + p,\n",
      "                         p >= 1.9,\n",
      "                         tau <= 0.15,\n",
      "                         M_rbar >= W_tw*A*p/(24*gpkit.units.N),\n",
      "                         .92**2/2.*w*tau**2*t_cap >= I_cap * gpkit.units.m**-4 + .92*w*tau*t_cap**2,\n",
      "                         8 >= N_lift*M_rbar*A*q**2*tau/S/I_cap/sigma_max * gpkit.units.parse_expression('Pa*m**6'),\n",
      "                         12 >= A*W_tw*N_lift*q**2/tau/S/t_web/sigma_maxshear,\n",
      "                         nu**3.94 >= .86*p**-2.38 + .14*p**0.56,\n",
      "                         W_cap >= 8*rho_alum*g*w*t_cap*S**1.5*nu/3/A**.5,\n",
      "                         W_web >= 8*rho_alum*g*r_h*tau*t_web*S**1.5*nu/3/A**.5\n",
      "                         )"
     ],
     "language": "python",
     "metadata": {
      "slideshow": {
       "slide_type": "subslide"
      }
     },
     "outputs": [],
     "prompt_number": 7
    },
    {
     "cell_type": "markdown",
     "metadata": {},
     "source": [
      "### specify gp"
     ]
    },
    {
     "cell_type": "code",
     "collapsed": false,
     "input": [
      "eqns = (weight_relations + range_constraints + propulsive_efficiency\n",
      "        + drag_model + steady_level_flight + landing_fc + sprint_fc + wing_structural_model)\n",
      "\n",
      "gp = gpkit.GP(W_fuel.sum(), eqns)\n",
      "\n",
      "gp"
     ],
     "language": "python",
     "metadata": {
      "slideshow": {
       "slide_type": "subslide"
      }
     },
     "outputs": [
      {
       "latex": [
        "$$\\begin{array}[ll]\n",
        "\\text{}\n",
        "\\text{minimize}\n",
        "    & {W_{fuel}}_{0} + {W_{fuel}}_{1}\\mathrm{\\left[ N \\right]} \\\\\n",
        "\\text{subject to}\n",
        "    & 500g \\leq W_{pay} \\\\\n",
        "    & W_{tw} \\geq W_{eng} + W_{fixed} + W_{pay} \\\\\n",
        "    & W_{zfw} \\geq W_{tw} + W_{wing} \\\\\n",
        "    & W_{eng} \\geq 0.0372P_{max}^{0.81} \\\\\n",
        "    & W_{cap} + W_{web} \\leq \\frac{W_{wing}}{f_{wadd}} \\\\\n",
        "    & {W}_{0} \\geq W_{zfw} + {W_{fuel}}_{1} \\\\\n",
        "    & {W}_{1} \\geq W_{zfw} \\\\\n",
        "    & W_{mto} \\geq {W_{fuel}}_{0} + {W}_{0} \\\\\n",
        "    & {W}_{0} = {W}_{2} \\\\\n",
        "    & R \\geq R_{min} \\\\\n",
        "    & {z_{bre}}_{0} \\geq \\frac{R {T}_{0} g}{{\\eta_0}_{0} h_{fuel} {W}_{0}} \\\\\n",
        "    & {z_{bre}}_{1} \\geq \\frac{R {T}_{1} g}{{\\eta_0}_{1} h_{fuel} {W}_{1}} \\\\\n",
        "    & \\frac{{W_{fuel}}_{0}}{{W}_{0}} \\geq 0.04167{z_{bre}}_{0}^{4} + 0.1667{z_{bre}}_{0}^{3} + 0.5{z_{bre}}_{0}^{2} + {z_{bre}}_{0} \\\\\n",
        "    & \\frac{{W_{fuel}}_{1}}{{W}_{1}} \\geq 0.04167{z_{bre}}_{1}^{4} + 0.1667{z_{bre}}_{1}^{3} + 0.5{z_{bre}}_{1}^{2} + {z_{bre}}_{1} \\\\\n",
        "    & {\\eta_0}_{0} \\leq {\\eta_{prop}}_{0} \\eta_{eng} \\\\\n",
        "    & {\\eta_0}_{1} \\leq {\\eta_{prop}}_{1} \\eta_{eng} \\\\\n",
        "    & {\\eta_0}_{2} \\leq {\\eta_{prop}}_{2} \\eta_{eng} \\\\\n",
        "    & {\\eta_{prop}}_{0} \\leq \\eta_v {\\eta_i}_{0} \\\\\n",
        "    & {\\eta_{prop}}_{1} \\leq {\\eta_i}_{1} \\eta_v \\\\\n",
        "    & {\\eta_{prop}}_{2} \\leq {\\eta_i}_{2} \\eta_v \\\\\n",
        "    & 4 \\geq 2\\frac{{T}_{0} {\\eta_i}_{0}^{2}}{\\rho A_{prop} {V}_{0}^{2}} + 4{\\eta_i}_{0} \\\\\n",
        "    & 4 \\geq 2\\frac{{\\eta_i}_{1}^{2} {T}_{1}}{\\rho A_{prop} {V}_{1}^{2}} + 4{\\eta_i}_{1} \\\\\n",
        "    & 4 \\geq 2\\frac{{\\eta_i}_{2}^{2} {T}_{2}}{\\rho A_{prop} {V}_{2}^{2}} + 4{\\eta_i}_{2} \\\\\n",
        "    & {C_D}_{0} \\geq \\frac{0.05}{S} + \\frac{{C_L}_{0}^{2}}{A e \\pi} + {C_{D_p}}_{0} \\\\\n",
        "    & {C_D}_{1} \\geq \\frac{0.05}{S} + \\frac{{C_L}_{1}^{2}}{A e \\pi} + {C_{D_p}}_{1} \\\\\n",
        "    & {C_D}_{2} \\geq \\frac{0.05}{S} + \\frac{{C_L}_{2}^{2}}{A e \\pi} + {C_{D_p}}_{2} \\\\\n",
        "    & 1 \\geq 0.0022\\frac{\\tau^{0.033} {Re}_{0}^{0.14}}{{C_L}_{0}^{0.01} {C_{D_p}}_{0}^{0.73}} + 1.19 \\times 10^{4}\\frac{\\tau^{1.8} {C_L}_{0}^{9.8}}{{C_{D_p}}_{0}^{0.91} {Re}_{0}} + 2.56\\frac{{C_L}_{0}^{5.9}}{\\tau^{3.3} {C_{D_p}}_{0}^{2.6} {Re}_{0}^{1.5}} + 3.8 \\times 10^{-9}\\frac{\\tau^{6.2}}{{C_L}_{0}^{0.92} {C_{D_p}}_{0}^{9.6} {Re}_{0}^{1.4}} + 6.14 \\times 10^{-6}\\frac{{C_L}_{0}^{6.5}}{\\tau^{0.52} {C_{D_p}}_{0}^{5.2} {Re}_{0}^{0.99}} \\\\\n",
        "    & 1 \\geq 0.0022\\frac{\\tau^{0.033} {Re}_{1}^{0.14}}{{C_L}_{1}^{0.01} {C_{D_p}}_{1}^{0.73}} + 1.19 \\times 10^{4}\\frac{\\tau^{1.8} {C_L}_{1}^{9.8}}{{C_{D_p}}_{1}^{0.91} {Re}_{1}} + 2.56\\frac{{C_L}_{1}^{5.9}}{\\tau^{3.3} {C_{D_p}}_{1}^{2.6} {Re}_{1}^{1.5}} + 3.8 \\times 10^{-9}\\frac{\\tau^{6.2}}{{C_L}_{1}^{0.92} {C_{D_p}}_{1}^{9.6} {Re}_{1}^{1.4}} + 6.14 \\times 10^{-6}\\frac{{C_L}_{1}^{6.5}}{\\tau^{0.52} {C_{D_p}}_{1}^{5.2} {Re}_{1}^{0.99}} \\\\\n",
        "    & 1 \\geq 0.0022\\frac{\\tau^{0.033} {Re}_{2}^{0.14}}{{C_L}_{2}^{0.01} {C_{D_p}}_{2}^{0.73}} + 1.19 \\times 10^{4}\\frac{\\tau^{1.8} {C_L}_{2}^{9.8}}{{C_{D_p}}_{2}^{0.91} {Re}_{2}} + 2.56\\frac{{C_L}_{2}^{5.9}}{\\tau^{3.3} {C_{D_p}}_{2}^{2.6} {Re}_{2}^{1.5}} + 3.8 \\times 10^{-9}\\frac{\\tau^{6.2}}{{C_L}_{2}^{0.92} {C_{D_p}}_{2}^{9.6} {Re}_{2}^{1.4}} + 6.14 \\times 10^{-6}\\frac{{C_L}_{2}^{6.5}}{\\tau^{0.52} {C_{D_p}}_{2}^{5.2} {Re}_{2}^{0.99}} \\\\\n",
        "    & {W}_{0} = 0.5S \\rho {V}_{0}^{2} {C_L}_{0} \\\\\n",
        "    & {W}_{1} = 0.5S \\rho {V}_{1}^{2} {C_L}_{1} \\\\\n",
        "    & {W}_{2} = 0.5S \\rho {V}_{2}^{2} {C_L}_{2} \\\\\n",
        "    & {T}_{0} \\geq 0.5S \\rho {V}_{0}^{2} {C_D}_{0} \\\\\n",
        "    & {T}_{1} \\geq 0.5S \\rho {V}_{1}^{2} {C_D}_{1} \\\\\n",
        "    & {T}_{2} \\geq 0.5S \\rho {V}_{2}^{2} {C_D}_{2} \\\\\n",
        "    & {Re}_{0} = \\frac{S^{0.5} \\rho {V}_{0}}{A^{0.5} \\mu} \\\\\n",
        "    & {Re}_{1} = \\frac{S^{0.5} \\rho {V}_{1}}{A^{0.5} \\mu} \\\\\n",
        "    & {Re}_{2} = \\frac{S^{0.5} \\rho {V}_{2}}{A^{0.5} \\mu} \\\\\n",
        "    & W_{mto} \\leq 0.5S V_{stall}^{2} \\rho_{sl} C_{L,max} \\\\\n",
        "    & V_{stall} \\leq V_{stall,max} \\\\\n",
        "    & P_{max} \\geq \\frac{{V}_{2} {T}_{2}}{{\\eta_0}_{2}} \\\\\n",
        "    & {V}_{2} \\geq V_{sprintreqt} \\\\\n",
        "    & 2q \\geq 1 + p \\\\\n",
        "    & p \\geq 1.9 \\\\\n",
        "    & 0.15 \\geq \\tau \\\\\n",
        "    & \\bar{M}_r \\geq 0.04167A p W_{tw} \\\\\n",
        "    & 0.4232\\tau^{2} t_{cap} w \\geq 0.92\\tau t_{cap}^{2} w + I_{cap} \\\\\n",
        "    & 8 \\geq \\frac{A \\bar{M}_r q^{2} \\tau N_{lift}}{S I_{cap} \\sigma_{max}} \\\\\n",
        "    & 12 \\geq \\frac{A q^{2} W_{tw} N_{lift}}{S \\tau t_{web} \\sigma_{max,shear}} \\\\\n",
        "    & \\nu^{3.9} \\geq 0.14p^{0.56} + \\frac{0.86}{p^{2.4}} \\\\\n",
        "    & W_{cap} \\geq 2.667\\frac{S^{1.5} \\nu t_{cap} \\rho_{alum} g w}{A^{0.5}} \\\\\n",
        "    & W_{web} \\geq 2.667\\frac{S^{1.5} \\nu \\tau t_{web} \\rho_{alum} g r_h}{A^{0.5}} \\\\\n",
        "\\text{substituting}\n",
        "    & A_{prop} = 0.785 \\\\\n",
        "    & C_{L,max} = 1.5 \\\\\n",
        "    & N_{lift} = 6 \\\\\n",
        "    & V_{sprintreqt} = 150 \\\\\n",
        "    & W_{fixed} = 1.47 \\times 10^{4} \\\\\n",
        "    & \\eta_v = 0.85 \\\\\n",
        "    & \\eta_{eng} = 0.35 \\\\\n",
        "    & \\mu = 1.69 \\times 10^{-5} \\\\\n",
        "    & \\pi = 3.142 \\\\\n",
        "    & \\rho = 0.91 \\\\\n",
        "    & \\rho_{alum} = 2700 \\\\\n",
        "    & \\rho_{sl} = 1.23 \\\\\n",
        "    & \\sigma_{max,shear} = 1.67 \\times 10^{8} \\\\\n",
        "    & \\sigma_{max} = 2.5 \\times 10^{8} \\\\\n",
        "    & e = 0.95 \\\\\n",
        "    & f_{wadd} = 2 \\\\\n",
        "    & g = 9.8 \\\\\n",
        "    & h_{fuel} = 4.2 \\times 10^{7} \\\\\n",
        "    & r_h = 0.75 \\\\\n",
        "    & w = 0.5 \\\\\n",
        "\\end{array}$$"
       ],
       "metadata": {},
       "output_type": "pyout",
       "prompt_number": 8,
       "text": [
        "                                                                              \n",
        "                                                                              \n",
        "                                                                              \n",
        "                                                                              \n",
        "                                                                              \n",
        "                                                                              \n",
        "                                                                              \n",
        "                                                                              \n",
        "                                                                              \n",
        "                                                                              \n",
        "                                                                              \n",
        "                                                                              \n",
        "                                                                              \n",
        "                                                                              \n",
        "                                                                              \n",
        "                                                                              \n",
        "                                                                              \n",
        "                                                                              \n",
        "                                                                              \n",
        "                                                                              \n",
        "                                                                              \n",
        "                                                                              \n",
        "                                                                              \n",
        "                                                                              \n",
        "                                                                              \n",
        "                                                                              \n",
        "                                                                              \n",
        "                                                                              \n",
        "                                                                              \n",
        "              1 >= 0.0022*\\tau**0.033*C_L_0**-0.01*C_{D_p}_0**-0.73*Re_0**0.14\n",
        "              1 >= 0.0022*\\tau**0.033*C_L_1**-0.01*C_{D_p}_1**-0.73*Re_1**0.14\n",
        "              1 >= 0.0022*\\tau**0.033*C_L_2**-0.01*C_{D_p}_2**-0.73*Re_2**0.14\n",
        "                                                                              \n",
        "                                                                              \n",
        "                                                                              \n",
        "                                                                              \n",
        "                                                                              \n",
        "                                                                              \n",
        "                                                                              \n",
        "                                                                              \n",
        "                                                                              \n",
        "                                                                              \n",
        "                                                                              \n",
        "                                                                              \n",
        "                                                                              \n",
        "                                                                              \n",
        "                                                                              \n",
        "                                                                              \n",
        "                                                                              \n",
        "                                                                              \n",
        "                                                                              \n",
        "                                                                              \n",
        "                                                                              \n",
        "                                                                              \n",
        "                                                                              \n",
        "                                                                              \n",
        "                                                                              \n",
        "                                                                              \n",
        "                                                                              \n",
        "                                                                              \n",
        "                                                                              \n",
        "                                                                              \n",
        "                                                                              \n",
        "                                                                              \n",
        "                                                                              \n",
        "                                                                              \n",
        "                                                                              \n",
        "                                                                              \n",
        "                                                                              \n",
        "                                                                              \n",
        "                                                                              \n",
        "                                                                              \n",
        "                                                                              \n",
        "                                                                              \n",
        "                                                                              \n",
        "                                                                              \n",
        "                                                                              \n",
        "\n",
        "                                                                    gpkit.GP( \n",
        "                                                                 W_{fuel}_0 + \n",
        "                                                                           [  \n",
        "                                                                           5e+\n",
        "                                                                 W_{tw} >= W_{\n",
        "                                                                      W_{zfw} \n",
        "                                                                     W_{eng} >\n",
        "                                                               W_{cap} + W_{we\n",
        "                                                                       W_0 >= \n",
        "                                                                             W\n",
        "                                                                       W_{mto}\n",
        "                                                                              \n",
        "                                                                              \n",
        "                                                         z_{bre}_0 >= \\eta_0_0\n",
        "                                                         z_{bre}_1 >= \\eta_0_1\n",
        "                                       W_{fuel}_0*W_0**-1 >= 0.042*z_{bre}_0**\n",
        "                                       W_{fuel}_1*W_1**-1 >= 0.042*z_{bre}_1**\n",
        "                                                                  \\eta_0_0 <= \n",
        "                                                                  \\eta_0_1 <= \n",
        "                                                                  \\eta_0_2 <= \n",
        "                                                                    \\eta_{prop\n",
        "                                                                    \\eta_{prop\n",
        "                                                                    \\eta_{prop\n",
        "                                                    4 >= 2*\\rho**-1*A_{prop}**\n",
        "                                                    4 >= 2*\\eta_i_1**2*\\rho**-\n",
        "                                                    4 >= 2*\\eta_i_2**2*\\rho**-\n",
        "                                                     C_D_0 >= 0.05*S**-1 + A**\n",
        "                                                     C_D_1 >= 0.05*S**-1 + A**\n",
        "                                                     C_D_2 >= 0.05*S**-1 + A**\n",
        " + 1.2e+04*\\tau**1.8*C_L_0**9.8*C_{D_p}_0**-0.91*Re_0**-1 + 2.6*\\tau**-3.3*C_L\n",
        " + 1.2e+04*\\tau**1.8*C_L_1**9.8*C_{D_p}_1**-0.91*Re_1**-1 + 2.6*\\tau**-3.3*C_L\n",
        " + 1.2e+04*\\tau**1.8*C_L_2**9.8*C_{D_p}_2**-0.91*Re_2**-1 + 2.6*\\tau**-3.3*C_L\n",
        "                                                                      W_0 = 0.\n",
        "                                                                      W_1 = 0.\n",
        "                                                                      W_2 = 0.\n",
        "                                                                     T_0 >= 0.\n",
        "                                                                     T_1 >= 0.\n",
        "                                                                     T_2 >= 0.\n",
        "                                                                 Re_0 = S**0.5\n",
        "                                                                 Re_1 = S**0.5\n",
        "                                                                 Re_2 = S**0.5\n",
        "                                                            W_{mto} <= 0.5*S*V\n",
        "                                                                       V_{stal\n",
        "                                                                     P_{max} >\n",
        "                                                                          V_2 \n",
        "                                                                              \n",
        "                                                                              \n",
        "                                                                              \n",
        "                                                                      \\bar{M}_\n",
        "                                                       0.42*\\tau**2*t_{cap}*w \n",
        "                                                 8 >= S**-1*A*I_{cap}**-1*\\bar\n",
        "                                             12 >= S**-1*A*q**2*\\tau**-1*t_{we\n",
        "                                                                 \\nu**3.9 >= 0\n",
        "                                                        W_{cap} >= 2.7*S**1.5*\n",
        "                                                    W_{web} >= 2.7*S**1.5*A**-\n",
        "                                                                              \n",
        "                                                                     substitut\n",
        "                                                                              \n",
        "                                                                              \n",
        "                                                                              \n",
        "                                                                              \n",
        "                                                                              \n",
        "                                                                              \n",
        "                                                                              \n",
        "                                                                              \n",
        "                                                                              \n",
        "                                                                              \n",
        "                                                                              \n",
        "                                                                           \\si\n",
        "                                                                              \n",
        "                                                                              \n",
        "                                                                              \n",
        "                                                                              \n",
        "                                                                              \n",
        "                                                                              \n",
        "                                                                              \n",
        "                                                                           sol\n",
        "\n",
        "# minimize                                                                    \n",
        "W_{fuel}_1, units='N',                                                        \n",
        " # subject to                                                                 \n",
        "02*g <= W_{pay},                                                              \n",
        "eng} + W_{fixed} + W_{pay},                                                   \n",
        ">= W_{tw} + W_{wing},                                                         \n",
        "= 0.037*P_{max}**0.81,                                                        \n",
        "b} <= W_{wing}*f_{wadd}**-1,                                                  \n",
        "W_{fuel}_1 + W_{zfw},                                                         \n",
        "_1 >= W_{zfw},                                                                \n",
        " >= W_0 + W_{fuel}_0,                                                         \n",
        "  W_0 = W_2,                                                                  \n",
        "R >= R_{min},                                                                 \n",
        "**-1*R*h_{fuel}**-1*T_0*W_0**-1*g,                                            \n",
        "**-1*R*h_{fuel}**-1*T_1*W_1**-1*g,                                            \n",
        "4 + 0.17*z_{bre}_0**3 + 0.5*z_{bre}_0**2 + z_{bre}_0,                         \n",
        "4 + 0.17*z_{bre}_1**3 + 0.5*z_{bre}_1**2 + z_{bre}_1,                         \n",
        "\\eta_{prop}_0*\\eta_{eng},                                                     \n",
        "\\eta_{prop}_1*\\eta_{eng},                                                     \n",
        "\\eta_{prop}_2*\\eta_{eng},                                                     \n",
        "}_0 <= \\eta_v*\\eta_i_0,                                                       \n",
        "}_1 <= \\eta_i_1*\\eta_v,                                                       \n",
        "}_2 <= \\eta_i_2*\\eta_v,                                                       \n",
        "-1*V_0**-2*T_0*\\eta_i_0**2 + 4*\\eta_i_0,                                      \n",
        "1*A_{prop}**-1*V_1**-2*T_1 + 4*\\eta_i_1,                                      \n",
        "1*A_{prop}**-1*V_2**-2*T_2 + 4*\\eta_i_2,                                      \n",
        "-1*e**-1*C_L_0**2*\\pi**-1 + C_{D_p}_0,                                        \n",
        "-1*e**-1*C_L_1**2*\\pi**-1 + C_{D_p}_1,                                        \n",
        "-1*e**-1*C_L_2**2*\\pi**-1 + C_{D_p}_2,                                        \n",
        "_0**5.9*C_{D_p}_0**-2.6*Re_0**-1.5 + 3.8e-09*\\tau**6.2*C_L_0**-0.92*C_{D_p}_0*\n",
        "_1**5.9*C_{D_p}_1**-2.6*Re_1**-1.5 + 3.8e-09*\\tau**6.2*C_L_1**-0.92*C_{D_p}_1*\n",
        "_2**5.9*C_{D_p}_2**-2.6*Re_2**-1.5 + 3.8e-09*\\tau**6.2*C_L_2**-0.92*C_{D_p}_2*\n",
        "5*S*\\rho*V_0**2*C_L_0,                                                        \n",
        "5*S*\\rho*V_1**2*C_L_1,                                                        \n",
        "5*S*\\rho*V_2**2*C_L_2,                                                        \n",
        "5*S*\\rho*V_0**2*C_D_0,                                                        \n",
        "5*S*\\rho*V_1**2*C_D_1,                                                        \n",
        "5*S*\\rho*V_2**2*C_D_2,                                                        \n",
        "*A**-0.5*\\rho*\\mu**-1*V_0,                                                    \n",
        "*A**-0.5*\\rho*\\mu**-1*V_1,                                                    \n",
        "*A**-0.5*\\rho*\\mu**-1*V_2,                                                    \n",
        "_{stall}**2*\\rho_{sl}*C_{L,max},                                              \n",
        "l} <= V_{stall,max},                                                          \n",
        "= \\eta_0_2**-1*V_2*T_2,                                                       \n",
        ">= V_{sprintreqt},                                                            \n",
        "2*q >= 1 + p,                                                                 \n",
        "  p >= 1.9,                                                                   \n",
        "0.15 >= \\tau,                                                                 \n",
        "r >= 0.042*A*p*W_{tw},                                                        \n",
        ">= 0.92*\\tau*t_{cap}**2*w + I_{cap},                                          \n",
        "{M}_r*q**2*\\tau*N_{lift}*\\sigma_{max}**-1,                                    \n",
        "b}**-1*W_{tw}*N_{lift}*\\sigma_{max,shear}**-1,                                \n",
        ".14*p**0.56 + 0.86*p**-2.4,                                                   \n",
        "A**-0.5*\\nu*t_{cap}*\\rho_{alum}*g*w,                                          \n",
        "0.5*\\nu*\\tau*t_{web}*\\rho_{alum}*g*r_h,                                       \n",
        "    ],                                                                        \n",
        "ions={ \\rho: 0.91,                                                            \n",
        "     \\rho_{sl}: 1.23,                                                         \n",
        "    \\rho_{alum}: 2700,                                                        \n",
        "      \\mu: 1.69e-05,                                                          \n",
        "         e: 0.95,                                                             \n",
        "     A_{prop}: 0.785,                                                         \n",
        "    \\eta_{eng}: 0.35,                                                         \n",
        "      \\eta_v: 0.85,                                                           \n",
        "  h_{fuel}: 42000000.0,                                                       \n",
        "   V_{sprintreqt}: 150,                                                       \n",
        "      N_{lift}: 6.0,                                                          \n",
        " \\pi: 3.141592653589793,                                                      \n",
        "gma_{max,shear}: 167000000.0,                                                 \n",
        "\\sigma_{max}: 250000000.0,                                                    \n",
        "         g: 9.8,                                                              \n",
        "         w: 0.5,                                                              \n",
        "        r_h: 0.75,                                                            \n",
        "       f_{wadd}: 2,                                                           \n",
        "   W_{fixed}: 14700.0,                                                        \n",
        "    C_{L,max}: 1.5 },                                                         \n",
        "ver=\"cvxopt\")                                                                 \n",
        "\n",
        "                                                                              \n",
        "                                                                              \n",
        "                                                                              \n",
        "                                                                              \n",
        "                                                                              \n",
        "                                                                              \n",
        "                                                                              \n",
        "                                                                              \n",
        "                                                                              \n",
        "                                                                              \n",
        "                                                                              \n",
        "                                                                              \n",
        "                                                                              \n",
        "                                                                              \n",
        "                                                                              \n",
        "                                                                              \n",
        "                                                                              \n",
        "                                                                              \n",
        "                                                                              \n",
        "                                                                              \n",
        "                                                                              \n",
        "                                                                              \n",
        "                                                                              \n",
        "                                                                              \n",
        "                                                                              \n",
        "                                                                              \n",
        "                                                                              \n",
        "                                                                              \n",
        "                                                                              \n",
        "*-9.6*Re_0**-1.4 + 6.1e-06*\\tau**-0.52*C_L_0**6.5*C_{D_p}_0**-5.2*Re_0**-0.99,\n",
        "*-9.6*Re_1**-1.4 + 6.1e-06*\\tau**-0.52*C_L_1**6.5*C_{D_p}_1**-5.2*Re_1**-0.99,\n",
        "*-9.6*Re_2**-1.4 + 6.1e-06*\\tau**-0.52*C_L_2**6.5*C_{D_p}_2**-5.2*Re_2**-0.99,\n",
        "                                                                              \n",
        "                                                                              \n",
        "                                                                              \n",
        "                                                                              \n",
        "                                                                              \n",
        "                                                                              \n",
        "                                                                              \n",
        "                                                                              \n",
        "                                                                              \n",
        "                                                                              \n",
        "                                                                              \n",
        "                                                                              \n",
        "                                                                              \n",
        "                                                                              \n",
        "                                                                              \n",
        "                                                                              \n",
        "                                                                              \n",
        "                                                                              \n",
        "                                                                              \n",
        "                                                                              \n",
        "                                                                              \n",
        "                                                                              \n",
        "                                                                              \n",
        "                                                                              \n",
        "                                                                              \n",
        "                                                                              \n",
        "                                                                              \n",
        "                                                                              \n",
        "                                                                              \n",
        "                                                                              \n",
        "                                                                              \n",
        "                                                                              \n",
        "                                                                              \n",
        "                                                                              \n",
        "                                                                              \n",
        "                                                                              \n",
        "                                                                              \n",
        "                                                                              \n",
        "                                                                              \n",
        "                                                                              \n",
        "                                                                              \n",
        "                                                                              \n",
        "                                                                              \n",
        "                                                                              \n",
        "                                                                              "
       ]
      }
     ],
     "prompt_number": 8
    },
    {
     "cell_type": "markdown",
     "metadata": {},
     "source": [
      "### design a hundred airplanes"
     ]
    },
    {
     "cell_type": "code",
     "collapsed": false,
     "input": [
      "data = gp.solve()"
     ],
     "language": "python",
     "metadata": {
      "slideshow": {
       "slide_type": "notes"
      }
     },
     "outputs": [
      {
       "output_type": "stream",
       "stream": "stdout",
       "text": [
        "Using solver 'cvxopt'\n",
        "Sweeping 2 variables over 100 passes\n",
        "Solving took 14 seconds"
       ]
      },
      {
       "output_type": "stream",
       "stream": "stdout",
       "text": [
        "\n"
       ]
      }
     ],
     "prompt_number": 9
    },
    {
     "cell_type": "code",
     "collapsed": false,
     "input": [
      "data[\"local_model\"][0].sub(gp.substitutions)"
     ],
     "language": "python",
     "metadata": {},
     "outputs": [
      {
       "latex": [
        "$$0.006484\\frac{R_{min}}{V_{stall,max}^{0.59}}$$"
       ],
       "metadata": {},
       "output_type": "pyout",
       "prompt_number": 10,
       "text": [
        "0.0065*V_{stall,max}**-0.59*R_{min}**1"
       ]
      }
     ],
     "prompt_number": 10
    },
    {
     "cell_type": "code",
     "collapsed": false,
     "input": [
      "data[\"variables\"]['V'].shape"
     ],
     "language": "python",
     "metadata": {},
     "outputs": [
      {
       "metadata": {},
       "output_type": "pyout",
       "prompt_number": 11,
       "text": [
        "(100, 3)"
       ]
      }
     ],
     "prompt_number": 11
    },
    {
     "cell_type": "code",
     "collapsed": false,
     "input": [
      "data.senssubinto(h_fuel/rho)"
     ],
     "language": "python",
     "metadata": {},
     "outputs": [
      {
       "metadata": {},
       "output_type": "pyout",
       "prompt_number": 12,
       "text": [
        "array([ -6.51888119,  -7.70627185,  -9.00062705, -10.41322809,\n",
        "       -11.95687546, -13.64612663, -15.49328684, -15.87287061,\n",
        "       -15.87287599, -15.87287396,  -6.36046716,  -7.52776363,\n",
        "        -8.7981475 , -10.18209568, -11.6913338 , -13.3391908 ,\n",
        "       -15.1408748 , -16.20144002, -16.20217753, -16.20216979,\n",
        "        -6.20170654,  -7.34983969,  -8.59744344,  -9.95428244,\n",
        "       -11.43122768, -13.04050573, -14.79595018, -16.50977654,\n",
        "       -16.53399532, -16.53399494,  -6.04231909,  -7.17220156,\n",
        "        -8.39809531,  -9.72922637, -11.17571834, -12.74887935,\n",
        "       -14.46135729, -16.31930342, -16.86820082, -16.86846294,\n",
        "        -5.88201595,  -6.99448802,  -8.19971847,  -9.50641459,\n",
        "       -10.92410486, -12.4632517 , -14.13547405, -15.95029604,\n",
        "       -17.20536845, -17.20566939,  -5.72049274,  -6.81643118,\n",
        "        -8.00195696,  -9.28538488, -10.67571996, -12.18276583,\n",
        "       -13.81741802, -15.59134764, -17.45664667, -17.54570233,\n",
        "        -5.55739578,  -6.63770741,  -7.80446041,  -9.06571806,\n",
        "       -10.43003795, -11.90670406, -13.50585993, -15.23872526,\n",
        "       -17.11697596, -17.88820616,  -5.39237403,  -6.45797835,\n",
        "        -7.60690194,  -8.8470211 , -10.1865671 , -11.63436107,\n",
        "       -13.19993786, -14.8938616 , -16.72682398, -18.23291633,\n",
        "        -5.2249836 ,  -6.27692303,  -7.40895401,  -8.62892267,\n",
        "        -9.94486498, -11.36515688, -12.89886908, -14.55590726,\n",
        "       -16.3471754 , -18.27221217,  -5.05473789,  -6.09414236,\n",
        "        -7.21025748,  -8.41107921,  -9.70448398, -11.09858071,\n",
        "       -12.60196859, -14.22405381, -15.97517077, -17.86722357])"
       ]
      }
     ],
     "prompt_number": 12
    },
    {
     "cell_type": "code",
     "collapsed": false,
     "input": [
      "data[\"sensitivities\"][\"variables\"][\"h_{fuel}\"][0]/data[\"sensitivities\"][\"variables\"][\"\\\\rho\"][0]"
     ],
     "language": "python",
     "metadata": {},
     "outputs": [
      {
       "metadata": {},
       "output_type": "pyout",
       "prompt_number": 13,
       "text": [
        "-6.5188811911294318"
       ]
      }
     ],
     "prompt_number": 13
    },
    {
     "cell_type": "markdown",
     "metadata": {},
     "source": [
      "### plot pareto frontiers"
     ]
    },
    {
     "cell_type": "code",
     "collapsed": false,
     "input": [
      "%matplotlib inline\n",
      "%config InlineBackend.figure_format = 'retina'\n",
      "\n",
      "plot_frontiers = gpkit.interactive.plot_frontiers\n",
      "plot_frontiers(data, ['S{\\\\rho_{alum}}', 'S{h_{fuel}}', 'S{A_{prop}}'], 1, 3, (15,5))\n",
      "plot_frontiers(data, ['S', 'W_{zfw}', 'P_{max}'], 1, 3, (15,5))"
     ],
     "language": "python",
     "metadata": {
      "slideshow": {
       "slide_type": "slide"
      }
     },
     "outputs": [
      {
       "ename": "AttributeError",
       "evalue": "'GPSolutionArray' object has no attribute 'solution'",
       "output_type": "pyerr",
       "traceback": [
        "\u001b[1;31m---------------------------------------------------------------------------\u001b[0m\n\u001b[1;31mAttributeError\u001b[0m                            Traceback (most recent call last)",
        "\u001b[1;32m<ipython-input-14-bb2c346db23f>\u001b[0m in \u001b[0;36m<module>\u001b[1;34m()\u001b[0m\n\u001b[0;32m      3\u001b[0m \u001b[1;33m\u001b[0m\u001b[0m\n\u001b[0;32m      4\u001b[0m \u001b[0mplot_frontiers\u001b[0m \u001b[1;33m=\u001b[0m \u001b[0mgpkit\u001b[0m\u001b[1;33m.\u001b[0m\u001b[0minteractive\u001b[0m\u001b[1;33m.\u001b[0m\u001b[0mplot_frontiers\u001b[0m\u001b[1;33m\u001b[0m\u001b[0m\n\u001b[1;32m----> 5\u001b[1;33m \u001b[0mplot_frontiers\u001b[0m\u001b[1;33m(\u001b[0m\u001b[0mdata\u001b[0m\u001b[1;33m,\u001b[0m \u001b[1;33m[\u001b[0m\u001b[1;34m'S{\\\\rho_{alum}}'\u001b[0m\u001b[1;33m,\u001b[0m \u001b[1;34m'S{h_{fuel}}'\u001b[0m\u001b[1;33m,\u001b[0m \u001b[1;34m'S{A_{prop}}'\u001b[0m\u001b[1;33m]\u001b[0m\u001b[1;33m,\u001b[0m \u001b[1;36m1\u001b[0m\u001b[1;33m,\u001b[0m \u001b[1;36m3\u001b[0m\u001b[1;33m,\u001b[0m \u001b[1;33m(\u001b[0m\u001b[1;36m15\u001b[0m\u001b[1;33m,\u001b[0m\u001b[1;36m5\u001b[0m\u001b[1;33m)\u001b[0m\u001b[1;33m)\u001b[0m\u001b[1;33m\u001b[0m\u001b[0m\n\u001b[0m\u001b[0;32m      6\u001b[0m \u001b[0mplot_frontiers\u001b[0m\u001b[1;33m(\u001b[0m\u001b[0mdata\u001b[0m\u001b[1;33m,\u001b[0m \u001b[1;33m[\u001b[0m\u001b[1;34m'S'\u001b[0m\u001b[1;33m,\u001b[0m \u001b[1;34m'W_{zfw}'\u001b[0m\u001b[1;33m,\u001b[0m \u001b[1;34m'P_{max}'\u001b[0m\u001b[1;33m]\u001b[0m\u001b[1;33m,\u001b[0m \u001b[1;36m1\u001b[0m\u001b[1;33m,\u001b[0m \u001b[1;36m3\u001b[0m\u001b[1;33m,\u001b[0m \u001b[1;33m(\u001b[0m\u001b[1;36m15\u001b[0m\u001b[1;33m,\u001b[0m\u001b[1;36m5\u001b[0m\u001b[1;33m)\u001b[0m\u001b[1;33m)\u001b[0m\u001b[1;33m\u001b[0m\u001b[0m\n",
        "\u001b[1;32m/home/eburn/bin/src/gpkit/gpkit/interactive/plotting.pyc\u001b[0m in \u001b[0;36mplot_frontiers\u001b[1;34m(gp, Zs, x, y, figsize)\u001b[0m\n\u001b[0;32m    100\u001b[0m \u001b[1;32mdef\u001b[0m \u001b[0mplot_frontiers\u001b[0m\u001b[1;33m(\u001b[0m\u001b[0mgp\u001b[0m\u001b[1;33m,\u001b[0m \u001b[0mZs\u001b[0m\u001b[1;33m,\u001b[0m \u001b[0mx\u001b[0m\u001b[1;33m,\u001b[0m \u001b[0my\u001b[0m\u001b[1;33m,\u001b[0m \u001b[0mfigsize\u001b[0m\u001b[1;33m)\u001b[0m\u001b[1;33m:\u001b[0m\u001b[1;33m\u001b[0m\u001b[0m\n\u001b[0;32m    101\u001b[0m         \u001b[1;34m\"Helper function to plot 2d contour plots.\"\u001b[0m\u001b[1;33m\u001b[0m\u001b[0m\n\u001b[1;32m--> 102\u001b[1;33m         \u001b[0msol\u001b[0m \u001b[1;33m=\u001b[0m \u001b[0mgp\u001b[0m\u001b[1;33m.\u001b[0m\u001b[0msolution\u001b[0m\u001b[1;33m\u001b[0m\u001b[0m\n\u001b[0m\u001b[0;32m    103\u001b[0m         \u001b[0mdata\u001b[0m \u001b[1;33m=\u001b[0m \u001b[0mdict\u001b[0m\u001b[1;33m(\u001b[0m\u001b[0msol\u001b[0m\u001b[1;33m[\u001b[0m\u001b[1;34m\"variables\"\u001b[0m\u001b[1;33m]\u001b[0m\u001b[1;33m)\u001b[0m\u001b[1;33m\u001b[0m\u001b[0m\n\u001b[0;32m    104\u001b[0m         data.update({\"S{%s}\" % k: v\n",
        "\u001b[1;31mAttributeError\u001b[0m: 'GPSolutionArray' object has no attribute 'solution'"
       ]
      }
     ],
     "prompt_number": 14
    },
    {
     "cell_type": "markdown",
     "metadata": {},
     "source": [
      "### generate an interactive widget\n",
      "\n",
      "note that $A\\kern-8mu R$ is much more sensitive to $R_{min}$ than it is to $V_{stall,max}$"
     ]
    },
    {
     "cell_type": "code",
     "collapsed": false,
     "input": [
      "gp = gpkit.GP(W_fuel[0] + W_fuel[1], eqns)\n",
      "gp.sweep = {}\n",
      "from IPython.display import Math, display\n",
      "def outputfn(gp):\n",
      "    def nstr(num):\n",
      "        cstr = \"%.4g\" % num\n",
      "        if 'e' in cstr:\n",
      "            idx = cstr.index('e')\n",
      "            cstr = \"%s\\\\times 10^{%i}\" % (\n",
      "                   cstr[:idx], int(cstr[idx+1:]))\n",
      "        return cstr\n",
      "    \n",
      "    interesting_vars = ['{W_{fuel}}_{0}', '{W_{fuel}}_{1}', 'A\\kern-8mu R', 'S', 'W_{zfw}', 'W_{mto}']\n",
      "    sols = sorted([(sol, nstr(val), gp.var_descrs[sol][0] or \"-\", gp.var_descrs[sol][1])\n",
      "                   for (sol, val) in gp.solution[\"variables\"].items()\n",
      "                   if sol in interesting_vars])\n",
      "    display(Math(\"\\n\".join([r\"\\begin{array}[rlll]\\text{}\"]\n",
      "                   + [r\"%s & %s & \\mathrm{[%s]} & \\text{%s}\\\\\" % sol for sol in sols]\n",
      "                   + [r\"\\end{array}\"])))\n",
      "\n",
      "gpkit.interactive.widget(gp, outputfn, {\"V_{stall,max}\": (30, 50, 1), \"R_{min}\": (1e6, 1e7, 0.5e6)})"
     ],
     "language": "python",
     "metadata": {},
     "outputs": []
    }
   ],
   "metadata": {}
  }
 ]
}