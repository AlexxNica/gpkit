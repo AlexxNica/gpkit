{
 "metadata": {
  "name": "",
  "signature": "sha256:155ab5add882bbea30283879bfc87916d1b190695a0d8f233afccbb28a6c4ded"
 },
 "nbformat": 3,
 "nbformat_minor": 0,
 "worksheets": [
  {
   "cells": [
    {
     "cell_type": "markdown",
     "metadata": {},
     "source": [
      "# Design Exploration and Optimization\n",
      "\n",
      "## Flight Conditions Example\n",
      "\n",
      "Use \"Cell > Run All\" to run this notebook.\n",
      "\n",
      "### import gpkit and enable $\\LaTeX$ printing"
     ]
    },
    {
     "cell_type": "code",
     "collapsed": false,
     "input": [
      "import numpy as np\n",
      "import gpkit\n",
      "import gpkit.interactive\n",
      "gpkit.interactive.init_printing()"
     ],
     "language": "python",
     "metadata": {
      "slideshow": {
       "slide_type": "slide"
      }
     },
     "outputs": [],
     "prompt_number": 1
    },
    {
     "cell_type": "markdown",
     "metadata": {},
     "source": [
      "### declare constants"
     ]
    },
    {
     "cell_type": "code",
     "collapsed": false,
     "input": [
      "N_lift = gpkit.Monomial(\"N_{lift}\", label=\"Wing loading multiplier\")\n",
      "pi = gpkit.Monomial(\"\\\\pi\", label=\"Half of the circle constant\")\n",
      "sigma_max = gpkit.Monomial(\"\\\\sigma_{max}\", units=\"Pa\", label=\"Allowable stress, 6061-T6\")\n",
      "sigma_maxshear = gpkit.Monomial(\"\\\\sigma_{max,shear}\", units=\"Pa\", label=\"Allowable shear stress\")\n",
      "g = gpkit.Monomial(\"g\", units=\"m/s^2\", label=\"Gravitational constant\")\n",
      "w = gpkit.Monomial(\"w\", label=\"Wing-box width/chord\")\n",
      "r_h = gpkit.Monomial(\"r_h\", label=\"Wing strut taper parameter\")\n",
      "f_wadd = gpkit.Monomial(\"f_{wadd}\", label=\"Wing added weight fraction\")\n",
      "W_fixed = gpkit.Monomial(\"W_{fixed}\", units=\"N\", label=\"Fixed weight\")\n",
      "C_Lmax = gpkit.Monomial(\"C_{L,max}\", label=\"Maximum C_L, flaps down\")\n",
      "rho = gpkit.Monomial(\"\\\\rho\", units=\"kg/m^3\", label=\"Air density, 3000m\")\n",
      "rho_sl = gpkit.Monomial(\"\\\\rho_{sl}\", units=\"kg/m^3\", label=\"Air density, sea level\")\n",
      "rho_alum = gpkit.Monomial(\"\\\\rho_{alum}\", units=\"kg/m^3\", label=\"Density of aluminum\")\n",
      "mu = gpkit.Monomial(\"\\\\mu\", units=\"kg/m/s\", label=\"Dynamic viscosity, 3000m\")\n",
      "e = gpkit.Monomial(\"e\", label=\"Wing spanwise efficiency\")\n",
      "A_prop = gpkit.Monomial(\"A_{prop}\", units=\"m^2\", label=\"Propeller disk area\")\n",
      "R_min = gpkit.Monomial(\"R_{min}\", units=\"m\", label=\"Minimum airplane range\")\n",
      "V_stallmax = gpkit.Monomial(\"V_{stall,max}\", units=\"m/s\", label=\"Stall speed\")\n",
      "eta_eng = gpkit.Monomial(\"\\\\eta_{eng}\", label=\"Engine efficiency\")\n",
      "eta_v = gpkit.Monomial(\"\\\\eta_v\", label=\"Propeller viscous efficiency\")\n",
      "h_fuel = gpkit.Monomial(\"h_{fuel}\", units=\"J/kg\", label=\"fuel heating value\")\n",
      "V_sprint_reqt = gpkit.Monomial(\"V_{sprintreqt}\", units=\"m/s\", label=\"sprint speed requirement\")\n",
      "\n",
      "substitutions = {\n",
      "    N_lift: 6.0,\n",
      "    pi: np.pi,\n",
      "    sigma_max: 250e6,\n",
      "    sigma_maxshear: 167e6,\n",
      "    g: 9.8,\n",
      "    w: 0.5,\n",
      "    r_h: 0.75,\n",
      "    f_wadd: 2,\n",
      "    W_fixed: 14.7e3,\n",
      "    C_Lmax: 1.5,\n",
      "    rho: 0.91,\n",
      "    rho_sl: 1.23,\n",
      "    rho_alum: 2700,\n",
      "    mu: 1.69e-5,\n",
      "    e: 0.95,\n",
      "    A_prop: 0.785,\n",
      "    eta_eng: 0.35,\n",
      "    eta_v: 0.85,\n",
      "    h_fuel: 42e6,\n",
      "    V_sprint_reqt: 150,\n",
      "}"
     ],
     "language": "python",
     "metadata": {
      "slideshow": {
       "slide_type": "slide"
      }
     },
     "outputs": [],
     "prompt_number": 2
    },
    {
     "cell_type": "markdown",
     "metadata": {},
     "source": [
      "### declare sweeps"
     ]
    },
    {
     "cell_type": "code",
     "collapsed": false,
     "input": [
      "substitutions.update({\n",
      "    R_min: (\"sweep\", np.linspace(1e6, 1e7, 10)),\n",
      "    V_stallmax: (\"sweep\", np.linspace(30, 50, 10)) })"
     ],
     "language": "python",
     "metadata": {},
     "outputs": [],
     "prompt_number": 3
    },
    {
     "cell_type": "markdown",
     "metadata": {},
     "source": [
      "### declare free variables"
     ]
    },
    {
     "cell_type": "code",
     "collapsed": false,
     "input": [
      "V = gpkit.monovector(3, \"V\", units=\"m/s\", label=\"Flight speed\")\n",
      "C_L = gpkit.monovector(3, \"C_L\", label=\"Wing lift coefficent\")\n",
      "C_D = gpkit.monovector(3, \"C_D\", label=\"Wing drag coefficent\")\n",
      "C_Dfuse = gpkit.monovector(3, \"C_{D_{fuse}}\", label=\"Fuselage drag coefficent\")\n",
      "C_Dp = gpkit.monovector(3, \"C_{D_p}\", label=\"drag model parameter\")\n",
      "C_Di = gpkit.monovector(3, \"C_{D_i}\", label=\"drag model parameter\")\n",
      "T = gpkit.monovector(3, \"T\", units=\"N\", label=\"Thrust force\")\n",
      "Re = gpkit.monovector(3, \"Re\", label=\"Reynold's number\")\n",
      "W = gpkit.monovector(3, \"W\", units=\"N\", label=\"Aircraft weight\")\n",
      "eta_i = gpkit.monovector(3, \"\\\\eta_i\", label=\"Aircraft efficiency\")\n",
      "eta_prop = gpkit.monovector(3, \"\\\\eta_{prop}\")\n",
      "eta_0 = gpkit.monovector(3, \"\\\\eta_0\")\n",
      "W_fuel = gpkit.monovector(2, \"W_{fuel}\", label=\"Fuel weight\")\n",
      "z_bre = gpkit.monovector(2, \"z_{bre}\")\n",
      "\n",
      "S = gpkit.Monomial(\"S\", units=\"m^2\", label=\"Wing area\")\n",
      "R = gpkit.Monomial(\"R\", units=\"m\", label=\"Airplane range\")\n",
      "A = gpkit.Monomial(\"A\", label=\"Aspect Ratio\")\n",
      "I_cap = gpkit.Monomial(\"I_{cap}\", label=\"Spar cap area moment of inertia per unit chord\")\n",
      "M_rbar = gpkit.Monomial(\"\\\\bar{M}_r\")\n",
      "P_max = gpkit.Monomial(\"P_{max}\")\n",
      "V_stall = gpkit.Monomial(\"V_{stall}\")\n",
      "nu = gpkit.Monomial(\"\\\\nu\")\n",
      "p = gpkit.Monomial(\"p\")\n",
      "q = gpkit.Monomial(\"q\")\n",
      "tau = gpkit.Monomial(\"\\\\tau\")\n",
      "t_cap = gpkit.Monomial(\"t_{cap}\")\n",
      "t_web = gpkit.Monomial(\"t_{web}\")\n",
      "W_cap = gpkit.Monomial(\"W_{cap}\")\n",
      "W_zfw = gpkit.Monomial(\"W_{zfw}\", units=\"N\", label=\"Zero fuel weight\")\n",
      "W_eng = gpkit.Monomial(\"W_{eng}\")\n",
      "W_mto = gpkit.Monomial(\"W_{mto}\", units=\"N\", label=\"Maximum takeoff weight\")\n",
      "W_pay = gpkit.Monomial(\"W_{pay}\")\n",
      "W_tw = gpkit.Monomial(\"W_{tw}\")\n",
      "W_web = gpkit.Monomial(\"W_{web}\")\n",
      "W_web = gpkit.Monomial(\"W_{web}\")\n",
      "W_wing = gpkit.Monomial(\"W_{wing}\")"
     ],
     "language": "python",
     "metadata": {
      "slideshow": {
       "slide_type": "subslide"
      }
     },
     "outputs": [],
     "prompt_number": 4
    },
    {
     "cell_type": "markdown",
     "metadata": {},
     "source": [
      "### show vector constraints"
     ]
    },
    {
     "cell_type": "code",
     "collapsed": false,
     "input": [
      "W == 0.5*rho*C_L*S*V**2"
     ],
     "language": "python",
     "metadata": {},
     "outputs": [
      {
       "latex": [
        "$$\\begin{bmatrix}{W}_{0} = 0.5\\rho S {V}_{0}^{2} {C_L}_{0}, & {W}_{1} = 0.5\\rho S {V}_{1}^{2} {C_L}_{1}, & {W}_{2} = 0.5\\rho S {V}_{2}^{2} {C_L}_{2}\\end{bmatrix}$$"
       ],
       "metadata": {},
       "output_type": "pyout",
       "prompt_number": 5,
       "text": [
        "[W_0 = 0.5*\\rho*S*V_0**2*C_L_0, W_1 = 0.5*\\rho*S*V_1**2*C_L_1, W_2 = 0.5*\\rho*\n",
        "S*V_2**2*C_L_2]"
       ]
      }
     ],
     "prompt_number": 5
    },
    {
     "cell_type": "markdown",
     "metadata": {},
     "source": [
      "### create models\n",
      "\n",
      "vector ordering is: outbound, return, sprint"
     ]
    },
    {
     "cell_type": "code",
     "collapsed": false,
     "input": [
      "steady_level_flight = (W == 0.5*rho*C_L*S*V**2,\n",
      "                       T >= 0.5*rho*C_D*S*V**2,\n",
      "                       Re == (rho/mu)*V*(S/A)**0.5)\n",
      "\n",
      "landing_fc = (W_mto <= 0.5*rho_sl*V_stall**2*C_Lmax*S,\n",
      "              V_stall <= V_stallmax)\n",
      "\n",
      "sprint_fc = (P_max >= T[2]*V[2]/eta_0[2],\n",
      "             V[2] >= V_sprint_reqt)\n",
      "\n",
      "drag_model = (C_D >= 0.05/S +C_Dp + C_L**2/(pi*e*A),\n",
      "              1 >= (2.56*C_L**5.88/(Re**1.54*tau**3.32*C_Dp**2.62) +\n",
      "                   3.8e-9*tau**6.23/(C_L**0.92*Re**1.38*C_Dp**9.57) +\n",
      "                   2.2e-3*Re**0.14*tau**0.033/(C_L**0.01*C_Dp**0.73) +\n",
      "                   1.19e4*C_L**9.78*tau**1.76/(Re*C_Dp**0.91) +\n",
      "                   6.14e-6*C_L**6.53/(Re**0.99*tau**0.52*C_Dp**5.19)))\n",
      "\n",
      "propulsive_efficiency = (eta_0 <= eta_eng*eta_prop,\n",
      "                         eta_prop <= eta_i*eta_v,\n",
      "                         4*eta_i + T*eta_i**2/(0.5*rho*V**2*A_prop) <= 4)\n",
      "\n",
      "# 4th order taylor approximation for e^x\n",
      "z_bre_sum = 0\n",
      "for i in range(1,5):\n",
      "    z_bre_sum += z_bre**i/np.math.factorial(i)\n",
      "\n",
      "range_constraints = (R >= R_min,\n",
      "                     z_bre >= g*R*T[:2]/(h_fuel*eta_0[:2]*W[:2]),\n",
      "                     W_fuel/W[:2] >= z_bre_sum)\n",
      "\n",
      "weight_relations = (W_pay >= 500*g,\n",
      "                    W_tw >= W_fixed + W_pay + W_eng,\n",
      "                    W_zfw >= W_tw + W_wing,\n",
      "                    W_eng >= 0.0372*P_max**0.8083,\n",
      "                    W_wing/f_wadd >= W_web + W_cap,\n",
      "                    W[0] >= W_zfw + W_fuel[1],\n",
      "                    W[1] >= W_zfw,\n",
      "                    W_mto >= W[0] + W_fuel[0],\n",
      "                    W[2] == W[0])\n",
      "\n",
      "wing_structural_model = (2*q >= 1 + p,\n",
      "                         p >= 1.9,\n",
      "                         tau <= 0.15,\n",
      "                         M_rbar >= W_tw*A*p/24.,\n",
      "                         .92**2/2.*w*tau**2*t_cap >= I_cap + .92*w*tau*t_cap**2,\n",
      "                         8 >= N_lift*M_rbar*A*q**2*tau/S/I_cap/sigma_max,\n",
      "                         12 >= A*W_tw*N_lift*q**2/tau/S/t_web/sigma_maxshear,\n",
      "                         nu**3.94 >= .86*p**-2.38 + .14*p**0.56,\n",
      "                         W_cap >= 8*rho_alum*g*w*t_cap*S**1.5*nu/3/A**.5,\n",
      "                         W_web >= 8*rho_alum*g*r_h*tau*t_web*S**1.5*nu/3/A**.5\n",
      "                         )"
     ],
     "language": "python",
     "metadata": {
      "slideshow": {
       "slide_type": "subslide"
      }
     },
     "outputs": [],
     "prompt_number": 8
    },
    {
     "cell_type": "markdown",
     "metadata": {},
     "source": [
      "### specify gp"
     ]
    },
    {
     "cell_type": "code",
     "collapsed": false,
     "input": [
      "eqns = (weight_relations + range_constraints + propulsive_efficiency\n",
      "        + drag_model + steady_level_flight + landing_fc + sprint_fc + wing_structural_model)\n",
      "\n",
      "gp = gpkit.GP(W_fuel.sum(), eqns, substitutions)\n",
      "\n",
      "gp"
     ],
     "language": "python",
     "metadata": {
      "slideshow": {
       "slide_type": "subslide"
      }
     },
     "outputs": [
      {
       "latex": [
        "$$\\begin{array}[ll]\n",
        "\\text{}\n",
        "\\text{minimize}\n",
        "    & {W_{fuel}}_{0} + {W_{fuel}}_{1} \\\\\n",
        "\\text{subject to}\n",
        "    & 500g \\leq W_{pay} \\\\\n",
        "    & W_{tw} \\geq W_{eng} + W_{fixed} + W_{pay} \\\\\n",
        "    & W_{zfw} \\geq W_{tw} + W_{wing} \\\\\n",
        "    & W_{eng} \\geq 0.0372P_{max}^{0.81} \\\\\n",
        "    & W_{cap} + W_{web} \\leq \\frac{W_{wing}}{f_{wadd}} \\\\\n",
        "    & {W}_{0} \\geq W_{zfw} + {W_{fuel}}_{1} \\\\\n",
        "    & {W}_{1} \\geq W_{zfw} \\\\\n",
        "    & W_{mto} \\geq {W_{fuel}}_{0} + {W}_{0} \\\\\n",
        "    & {W}_{0} = {W}_{2} \\\\\n",
        "    & R \\geq R_{min} \\\\\n",
        "    & {z_{bre}}_{0} \\geq \\frac{{T}_{0} g R}{{W}_{0} h_{fuel} {\\eta_0}_{0}} \\\\\n",
        "    & {z_{bre}}_{1} \\geq \\frac{{T}_{1} g R}{{W}_{1} h_{fuel} {\\eta_0}_{1}} \\\\\n",
        "    & \\frac{{W_{fuel}}_{0}}{{W}_{0}} \\geq 0.04167{z_{bre}}_{0}^{4} + 0.1667{z_{bre}}_{0}^{3} + 0.5{z_{bre}}_{0}^{2} + {z_{bre}}_{0} \\\\\n",
        "    & \\frac{{W_{fuel}}_{1}}{{W}_{1}} \\geq 0.04167{z_{bre}}_{1}^{4} + 0.1667{z_{bre}}_{1}^{3} + 0.5{z_{bre}}_{1}^{2} + {z_{bre}}_{1} \\\\\n",
        "    & {\\eta_0}_{0} \\leq \\eta_{eng} {\\eta_{prop}}_{0} \\\\\n",
        "    & {\\eta_0}_{1} \\leq \\eta_{eng} {\\eta_{prop}}_{1} \\\\\n",
        "    & {\\eta_0}_{2} \\leq \\eta_{eng} {\\eta_{prop}}_{2} \\\\\n",
        "    & {\\eta_{prop}}_{0} \\leq {\\eta_i}_{0} \\eta_v \\\\\n",
        "    & {\\eta_{prop}}_{1} \\leq {\\eta_i}_{1} \\eta_v \\\\\n",
        "    & {\\eta_{prop}}_{2} \\leq {\\eta_i}_{2} \\eta_v \\\\\n",
        "    & 4 \\geq 2\\frac{{T}_{0} {\\eta_i}_{0}^{2}}{\\rho A_{prop} {V}_{0}^{2}} + 4{\\eta_i}_{0} \\\\\n",
        "    & 4 \\geq 2\\frac{{T}_{1} {\\eta_i}_{1}^{2}}{\\rho A_{prop} {V}_{1}^{2}} + 4{\\eta_i}_{1} \\\\\n",
        "    & 4 \\geq 2\\frac{{T}_{2} {\\eta_i}_{2}^{2}}{\\rho A_{prop} {V}_{2}^{2}} + 4{\\eta_i}_{2} \\\\\n",
        "    & {C_D}_{0} \\geq \\frac{0.05}{S} + \\frac{{C_L}_{0}^{2}}{\\pi e A} + {C_{D_p}}_{0} \\\\\n",
        "    & {C_D}_{1} \\geq \\frac{0.05}{S} + \\frac{{C_L}_{1}^{2}}{\\pi e A} + {C_{D_p}}_{1} \\\\\n",
        "    & {C_D}_{2} \\geq \\frac{0.05}{S} + \\frac{{C_L}_{2}^{2}}{\\pi e A} + {C_{D_p}}_{2} \\\\\n",
        "    & 1 \\geq 0.0022\\frac{{Re}_{0}^{0.14} \\tau^{0.033}}{{C_{D_p}}_{0}^{0.73} {C_L}_{0}^{0.01}} + 1.19\\times 10^{4}\\frac{\\tau^{1.8} {C_L}_{0}^{9.8}}{{C_{D_p}}_{0}^{0.91} {Re}_{0}} + 2.56\\frac{{C_L}_{0}^{5.9}}{{C_{D_p}}_{0}^{2.6} {Re}_{0}^{1.5} \\tau^{3.3}} + 3.8\\times 10^{-9}\\frac{\\tau^{6.2}}{{C_{D_p}}_{0}^{9.6} {Re}_{0}^{1.4} {C_L}_{0}^{0.92}} + 6.14\\times 10^{-6}\\frac{{C_L}_{0}^{6.5}}{{C_{D_p}}_{0}^{5.2} {Re}_{0}^{0.99} \\tau^{0.52}} \\\\\n",
        "    & 1 \\geq 0.0022\\frac{{Re}_{1}^{0.14} \\tau^{0.033}}{{C_{D_p}}_{1}^{0.73} {C_L}_{1}^{0.01}} + 1.19\\times 10^{4}\\frac{\\tau^{1.8} {C_L}_{1}^{9.8}}{{C_{D_p}}_{1}^{0.91} {Re}_{1}} + 2.56\\frac{{C_L}_{1}^{5.9}}{{C_{D_p}}_{1}^{2.6} {Re}_{1}^{1.5} \\tau^{3.3}} + 3.8\\times 10^{-9}\\frac{\\tau^{6.2}}{{C_{D_p}}_{1}^{9.6} {Re}_{1}^{1.4} {C_L}_{1}^{0.92}} + 6.14\\times 10^{-6}\\frac{{C_L}_{1}^{6.5}}{{C_{D_p}}_{1}^{5.2} {Re}_{1}^{0.99} \\tau^{0.52}} \\\\\n",
        "    & 1 \\geq 0.0022\\frac{{Re}_{2}^{0.14} \\tau^{0.033}}{{C_{D_p}}_{2}^{0.73} {C_L}_{2}^{0.01}} + 1.19\\times 10^{4}\\frac{\\tau^{1.8} {C_L}_{2}^{9.8}}{{C_{D_p}}_{2}^{0.91} {Re}_{2}} + 2.56\\frac{{C_L}_{2}^{5.9}}{{C_{D_p}}_{2}^{2.6} {Re}_{2}^{1.5} \\tau^{3.3}} + 3.8\\times 10^{-9}\\frac{\\tau^{6.2}}{{C_{D_p}}_{2}^{9.6} {Re}_{2}^{1.4} {C_L}_{2}^{0.92}} + 6.14\\times 10^{-6}\\frac{{C_L}_{2}^{6.5}}{{C_{D_p}}_{2}^{5.2} {Re}_{2}^{0.99} \\tau^{0.52}} \\\\\n",
        "    & {W}_{0} = 0.5\\rho S {V}_{0}^{2} {C_L}_{0} \\\\\n",
        "    & {W}_{1} = 0.5\\rho S {V}_{1}^{2} {C_L}_{1} \\\\\n",
        "    & {W}_{2} = 0.5\\rho S {V}_{2}^{2} {C_L}_{2} \\\\\n",
        "    & {T}_{0} \\geq 0.5\\rho S {V}_{0}^{2} {C_D}_{0} \\\\\n",
        "    & {T}_{1} \\geq 0.5\\rho S {V}_{1}^{2} {C_D}_{1} \\\\\n",
        "    & {T}_{2} \\geq 0.5\\rho S {V}_{2}^{2} {C_D}_{2} \\\\\n",
        "    & {Re}_{0} = \\frac{\\rho S^{0.5} {V}_{0}}{\\mu A^{0.5}} \\\\\n",
        "    & {Re}_{1} = \\frac{\\rho S^{0.5} {V}_{1}}{\\mu A^{0.5}} \\\\\n",
        "    & {Re}_{2} = \\frac{\\rho S^{0.5} {V}_{2}}{\\mu A^{0.5}} \\\\\n",
        "    & W_{mto} \\leq 0.5C_{L,max} \\rho_{sl} S V_{stall}^{2} \\\\\n",
        "    & V_{stall} \\leq V_{stall,max} \\\\\n",
        "    & P_{max} \\geq \\frac{{T}_{2} {V}_{2}}{{\\eta_0}_{2}} \\\\\n",
        "    & {V}_{2} \\geq V_{sprintreqt} \\\\\n",
        "    & 2q \\geq 1 + p \\\\\n",
        "    & p \\geq 1.9 \\\\\n",
        "    & 0.15 \\geq \\tau \\\\\n",
        "    & \\bar{M}_r \\geq 0.04167W_{tw} A p \\\\\n",
        "    & 0.4232\\tau^{2} t_{cap} w \\geq 0.92\\tau t_{cap}^{2} w + I_{cap} \\\\\n",
        "    & 8 \\geq \\frac{q^{2} \\tau N_{lift} A \\bar{M}_r}{\\sigma_{max} S I_{cap}} \\\\\n",
        "    & 12 \\geq \\frac{q^{2} W_{tw} N_{lift} A}{\\tau t_{web} \\sigma_{max,shear} S} \\\\\n",
        "    & \\nu^{3.9} \\geq 0.14p^{0.56} + \\frac{0.86}{p^{2.4}} \\\\\n",
        "    & W_{cap} \\geq 2.667\\frac{t_{cap} g w \\rho_{alum} S^{1.5} \\nu}{A^{0.5}} \\\\\n",
        "    & W_{web} \\geq 2.667\\frac{\\tau t_{web} g r_h \\rho_{alum} S^{1.5} \\nu}{A^{0.5}} \\\\\n",
        "\\text{substituting}\n",
        "    & A_{prop} = 0.785 \\\\\n",
        "    & C_{L,max} = 1.5 \\\\\n",
        "    & N_{lift} = 6 \\\\\n",
        "    & V_{sprintreqt} = 150 \\\\\n",
        "    & W_{fixed} = 1.47\\times 10^{4} \\\\\n",
        "    & \\eta_v = 0.85 \\\\\n",
        "    & \\eta_{eng} = 0.35 \\\\\n",
        "    & \\mu = 1.69\\times 10^{-5} \\\\\n",
        "    & \\pi = 3.142 \\\\\n",
        "    & \\rho = 0.91 \\\\\n",
        "    & \\rho_{alum} = 2700 \\\\\n",
        "    & \\rho_{sl} = 1.23 \\\\\n",
        "    & \\sigma_{max,shear} = 1.67\\times 10^{8} \\\\\n",
        "    & \\sigma_{max} = 2.5\\times 10^{8} \\\\\n",
        "    & e = 0.95 \\\\\n",
        "    & f_{wadd} = 2 \\\\\n",
        "    & g = 9.8 \\\\\n",
        "    & h_{fuel} = 4.2\\times 10^{7} \\\\\n",
        "    & r_h = 0.75 \\\\\n",
        "    & w = 0.5 \\\\\n",
        "\\end{array}$$"
       ],
       "metadata": {},
       "output_type": "pyout",
       "prompt_number": 9,
       "text": [
        "                                                                              \n",
        "                                                                              \n",
        "                                                                              \n",
        "                                                                              \n",
        "                                                                              \n",
        "                                                                              \n",
        "                                                                              \n",
        "                                                                              \n",
        "                                                                              \n",
        "                                                                              \n",
        "                                                                              \n",
        "                                                                              \n",
        "                                                                              \n",
        "                                                                              \n",
        "                                                                              \n",
        "                                                                              \n",
        "                                                                              \n",
        "                                                                              \n",
        "                                                                              \n",
        "                                                                              \n",
        "                                                                              \n",
        "                                                                              \n",
        "                                                                              \n",
        "                                                                              \n",
        "                                                                              \n",
        "                                                                              \n",
        "                                                                              \n",
        "                                                                              \n",
        "                                                                              \n",
        "              1 >= 0.0022*C_{D_p}_0**-0.73*Re_0**0.14*\\tau**0.033*C_L_0**-0.01\n",
        "              1 >= 0.0022*C_{D_p}_1**-0.73*Re_1**0.14*\\tau**0.033*C_L_1**-0.01\n",
        "              1 >= 0.0022*C_{D_p}_2**-0.73*Re_2**0.14*\\tau**0.033*C_L_2**-0.01\n",
        "                                                                              \n",
        "                                                                              \n",
        "                                                                              \n",
        "                                                                              \n",
        "                                                                              \n",
        "                                                                              \n",
        "                                                                              \n",
        "                                                                              \n",
        "                                                                              \n",
        "                                                                              \n",
        "                                                                              \n",
        "                                                                              \n",
        "                                                                              \n",
        "                                                                              \n",
        "                                                                              \n",
        "                                                                              \n",
        "                                                                              \n",
        "                                                                              \n",
        "                                                                              \n",
        "                                                                              \n",
        "                                                                              \n",
        "                                                                              \n",
        "                                                                              \n",
        "                                                                              \n",
        "                                                                              \n",
        "                                                                              \n",
        "                                                                              \n",
        "                                                                              \n",
        "                                                                              \n",
        "                                                                              \n",
        "                                                                              \n",
        "                                                                              \n",
        "                                                                              \n",
        "                                                                              \n",
        "                                                                              \n",
        "                                                                              \n",
        "                                                                              \n",
        "                                                                              \n",
        "                                                                              \n",
        "                                                                              \n",
        "                                                                              \n",
        "                                                                              \n",
        "                                                                              \n",
        "                                                                              \n",
        "                                                                              \n",
        "\n",
        "                                                                    gpkit.GP( \n",
        "                                                                       W_{fuel\n",
        "                                                                           [  \n",
        "                                                                           5e+\n",
        "                                                                 W_{tw} >= W_{\n",
        "                                                                      W_{zfw} \n",
        "                                                                     W_{eng} >\n",
        "                                                               W_{cap} + W_{we\n",
        "                                                                       W_0 >= \n",
        "                                                                             W\n",
        "                                                                       W_{mto}\n",
        "                                                                              \n",
        "                                                                              \n",
        "                                                         z_{bre}_0 >= T_0*W_0*\n",
        "                                                         z_{bre}_1 >= T_1*W_1*\n",
        "                                       W_0**-1*W_{fuel}_0 >= 0.042*z_{bre}_0**\n",
        "                                       W_1**-1*W_{fuel}_1 >= 0.042*z_{bre}_1**\n",
        "                                                                  \\eta_0_0 <= \n",
        "                                                                  \\eta_0_1 <= \n",
        "                                                                  \\eta_0_2 <= \n",
        "                                                                    \\eta_{prop\n",
        "                                                                    \\eta_{prop\n",
        "                                                                    \\eta_{prop\n",
        "                                                    4 >= 2*T_0*\\eta_i_0**2*\\rh\n",
        "                                                    4 >= 2*T_1*\\eta_i_1**2*\\rh\n",
        "                                                    4 >= 2*T_2*\\eta_i_2**2*\\rh\n",
        "                                                     C_D_0 >= 0.05*S**-1 + C_{\n",
        "                                                     C_D_1 >= 0.05*S**-1 + C_{\n",
        "                                                     C_D_2 >= 0.05*S**-1 + C_{\n",
        " + 1.2e+04*C_{D_p}_0**-0.91*Re_0**-1*\\tau**1.8*C_L_0**9.8 + 2.6*C_{D_p}_0**-2.\n",
        " + 1.2e+04*C_{D_p}_1**-0.91*Re_1**-1*\\tau**1.8*C_L_1**9.8 + 2.6*C_{D_p}_1**-2.\n",
        " + 1.2e+04*C_{D_p}_2**-0.91*Re_2**-1*\\tau**1.8*C_L_2**9.8 + 2.6*C_{D_p}_2**-2.\n",
        "                                                                      W_0 = 0.\n",
        "                                                                      W_1 = 0.\n",
        "                                                                      W_2 = 0.\n",
        "                                                                     T_0 >= 0.\n",
        "                                                                     T_1 >= 0.\n",
        "                                                                     T_2 >= 0.\n",
        "                                                                 Re_0 = \\rho*\\\n",
        "                                                                 Re_1 = \\rho*\\\n",
        "                                                                 Re_2 = \\rho*\\\n",
        "                                                            W_{mto} <= 0.5*C_{\n",
        "                                                                       V_{stal\n",
        "                                                                     P_{max} >\n",
        "                                                                          V_2 \n",
        "                                                                              \n",
        "                                                                              \n",
        "                                                                              \n",
        "                                                                      \\bar{M}_\n",
        "                                                       0.42*\\tau**2*t_{cap}*w \n",
        "                                                 8 >= q**2*\\tau*N_{lift}*\\sigm\n",
        "                                             12 >= q**2*\\tau**-1*t_{web}**-1*W\n",
        "                                                                 \\nu**3.9 >= 0\n",
        "                                                        W_{cap} >= 2.7*t_{cap}\n",
        "                                                    W_{web} >= 2.7*\\tau*t_{web\n",
        "                                                                              \n",
        "                                                                   substitutio\n",
        "                                                                              \n",
        "                                                                              \n",
        "                                                                              \n",
        "                                                                              \n",
        "                                                                              \n",
        "                                                                              \n",
        "                                                                              \n",
        "                                                                              \n",
        "                                                                              \n",
        "                                                                              \n",
        "                                                                              \n",
        "                                                                              \n",
        "                                                                              \n",
        "                                                                              \n",
        "                                                                              \n",
        "                                                                           \\si\n",
        "                                                                              \n",
        "                                                                              \n",
        "                                                                              \n",
        "                                                                           sol\n",
        "\n",
        "# minimize                                                                    \n",
        "}_0 + W_{fuel}_1,                                                             \n",
        " # subject to                                                                 \n",
        "02*g <= W_{pay},                                                              \n",
        "eng} + W_{fixed} + W_{pay},                                                   \n",
        ">= W_{tw} + W_{wing},                                                         \n",
        "= 0.037*P_{max}**0.81,                                                        \n",
        "b} <= W_{wing}*f_{wadd}**-1,                                                  \n",
        "W_{fuel}_1 + W_{zfw},                                                         \n",
        "_1 >= W_{zfw},                                                                \n",
        " >= W_0 + W_{fuel}_0,                                                         \n",
        "  W_0 = W_2,                                                                  \n",
        "R >= R_{min},                                                                 \n",
        "*-1*g*h_{fuel}**-1*\\eta_0_0**-1*R,                                            \n",
        "*-1*g*h_{fuel}**-1*\\eta_0_1**-1*R,                                            \n",
        "4 + 0.17*z_{bre}_0**3 + 0.5*z_{bre}_0**2 + z_{bre}_0,                         \n",
        "4 + 0.17*z_{bre}_1**3 + 0.5*z_{bre}_1**2 + z_{bre}_1,                         \n",
        "\\eta_{eng}*\\eta_{prop}_0,                                                     \n",
        "\\eta_{eng}*\\eta_{prop}_1,                                                     \n",
        "\\eta_{eng}*\\eta_{prop}_2,                                                     \n",
        "}_0 <= \\eta_i_0*\\eta_v,                                                       \n",
        "}_1 <= \\eta_i_1*\\eta_v,                                                       \n",
        "}_2 <= \\eta_i_2*\\eta_v,                                                       \n",
        "o**-1*A_{prop}**-1*V_0**-2 + 4*\\eta_i_0,                                      \n",
        "o**-1*A_{prop}**-1*V_1**-2 + 4*\\eta_i_1,                                      \n",
        "o**-1*A_{prop}**-1*V_2**-2 + 4*\\eta_i_2,                                      \n",
        "D_p}_0 + \\pi**-1*e**-1*A**-1*C_L_0**2,                                        \n",
        "D_p}_1 + \\pi**-1*e**-1*A**-1*C_L_1**2,                                        \n",
        "D_p}_2 + \\pi**-1*e**-1*A**-1*C_L_2**2,                                        \n",
        "6*Re_0**-1.5*\\tau**-3.3*C_L_0**5.9 + 3.8e-09*C_{D_p}_0**-9.6*Re_0**-1.4*\\tau**\n",
        "6*Re_1**-1.5*\\tau**-3.3*C_L_1**5.9 + 3.8e-09*C_{D_p}_1**-9.6*Re_1**-1.4*\\tau**\n",
        "6*Re_2**-1.5*\\tau**-3.3*C_L_2**5.9 + 3.8e-09*C_{D_p}_2**-9.6*Re_2**-1.4*\\tau**\n",
        "5*\\rho*S*V_0**2*C_L_0,                                                        \n",
        "5*\\rho*S*V_1**2*C_L_1,                                                        \n",
        "5*\\rho*S*V_2**2*C_L_2,                                                        \n",
        "5*\\rho*S*V_0**2*C_D_0,                                                        \n",
        "5*\\rho*S*V_1**2*C_D_1,                                                        \n",
        "5*\\rho*S*V_2**2*C_D_2,                                                        \n",
        "mu**-1*S**0.5*A**-0.5*V_0,                                                    \n",
        "mu**-1*S**0.5*A**-0.5*V_1,                                                    \n",
        "mu**-1*S**0.5*A**-0.5*V_2,                                                    \n",
        "L,max}*\\rho_{sl}*S*V_{stall}**2,                                              \n",
        "l} <= V_{stall,max},                                                          \n",
        "= T_2*\\eta_0_2**-1*V_2,                                                       \n",
        ">= V_{sprintreqt},                                                            \n",
        "2*q >= 1 + p,                                                                 \n",
        "  p >= 1.9,                                                                   \n",
        "0.15 >= \\tau,                                                                 \n",
        "r >= 0.042*W_{tw}*A*p,                                                        \n",
        ">= 0.92*\\tau*t_{cap}**2*w + I_{cap},                                          \n",
        "a_{max}**-1*S**-1*A*I_{cap}**-1*\\bar{M}_r,                                    \n",
        "_{tw}*N_{lift}*\\sigma_{max,shear}**-1*S**-1*A,                                \n",
        ".14*p**0.56 + 0.86*p**-2.4,                                                   \n",
        "*g*w*\\rho_{alum}*S**1.5*A**-0.5*\\nu,                                          \n",
        "}*g*r_h*\\rho_{alum}*S**1.5*A**-0.5*\\nu,                                       \n",
        "    ],                                                                        \n",
        "ns={ A_{prop}: 0.785,                                                         \n",
        "         w: 0.5,                                                              \n",
        "     C_{L,max}: 1.5,                                                          \n",
        "        r_h: 0.75,                                                            \n",
        "       \\rho: 0.91,                                                            \n",
        "     \\rho_{sl}: 1.23,                                                         \n",
        "       f_{wadd}: 2,                                                           \n",
        " \\pi: 3.141592653589793,                                                      \n",
        "    \\eta_{eng}: 0.35,                                                         \n",
        "   V_{sprintreqt}: 150,                                                       \n",
        "\\sigma_{max}: 250000000.0,                                                    \n",
        "         g: 9.8,                                                              \n",
        "      \\mu: 1.69e-05,                                                          \n",
        "   W_{fixed}: 14700.0,                                                        \n",
        "    \\rho_{alum}: 2700,                                                        \n",
        "      \\eta_v: 0.85,                                                           \n",
        "gma_{max,shear}: 167000000.0,                                                 \n",
        "      N_{lift}: 6.0,                                                          \n",
        "  h_{fuel}: 42000000.0,                                                       \n",
        "        e: 0.95 },                                                            \n",
        "ver=\"mosek\")                                                                  \n",
        "\n",
        "                                                                              \n",
        "                                                                              \n",
        "                                                                              \n",
        "                                                                              \n",
        "                                                                              \n",
        "                                                                              \n",
        "                                                                              \n",
        "                                                                              \n",
        "                                                                              \n",
        "                                                                              \n",
        "                                                                              \n",
        "                                                                              \n",
        "                                                                              \n",
        "                                                                              \n",
        "                                                                              \n",
        "                                                                              \n",
        "                                                                              \n",
        "                                                                              \n",
        "                                                                              \n",
        "                                                                              \n",
        "                                                                              \n",
        "                                                                              \n",
        "                                                                              \n",
        "                                                                              \n",
        "                                                                              \n",
        "                                                                              \n",
        "                                                                              \n",
        "                                                                              \n",
        "                                                                              \n",
        "6.2*C_L_0**-0.92 + 6.1e-06*C_{D_p}_0**-5.2*Re_0**-0.99*\\tau**-0.52*C_L_0**6.5,\n",
        "6.2*C_L_1**-0.92 + 6.1e-06*C_{D_p}_1**-5.2*Re_1**-0.99*\\tau**-0.52*C_L_1**6.5,\n",
        "6.2*C_L_2**-0.92 + 6.1e-06*C_{D_p}_2**-5.2*Re_2**-0.99*\\tau**-0.52*C_L_2**6.5,\n",
        "                                                                              \n",
        "                                                                              \n",
        "                                                                              \n",
        "                                                                              \n",
        "                                                                              \n",
        "                                                                              \n",
        "                                                                              \n",
        "                                                                              \n",
        "                                                                              \n",
        "                                                                              \n",
        "                                                                              \n",
        "                                                                              \n",
        "                                                                              \n",
        "                                                                              \n",
        "                                                                              \n",
        "                                                                              \n",
        "                                                                              \n",
        "                                                                              \n",
        "                                                                              \n",
        "                                                                              \n",
        "                                                                              \n",
        "                                                                              \n",
        "                                                                              \n",
        "                                                                              \n",
        "                                                                              \n",
        "                                                                              \n",
        "                                                                              \n",
        "                                                                              \n",
        "                                                                              \n",
        "                                                                              \n",
        "                                                                              \n",
        "                                                                              \n",
        "                                                                              \n",
        "                                                                              \n",
        "                                                                              \n",
        "                                                                              \n",
        "                                                                              \n",
        "                                                                              \n",
        "                                                                              \n",
        "                                                                              \n",
        "                                                                              \n",
        "                                                                              \n",
        "                                                                              \n",
        "                                                                              \n",
        "                                                                              "
       ]
      }
     ],
     "prompt_number": 9
    },
    {
     "cell_type": "markdown",
     "metadata": {},
     "source": [
      "### design a hundred airplanes"
     ]
    },
    {
     "cell_type": "code",
     "collapsed": false,
     "input": [
      "data = gp.solve()"
     ],
     "language": "python",
     "metadata": {
      "slideshow": {
       "slide_type": "notes"
      }
     },
     "outputs": [
      {
       "output_type": "stream",
       "stream": "stdout",
       "text": [
        "Using solver 'mosek'\n",
        "Sweeping 2 variables over 100 passes\n",
        "Solving took 8.33 seconds   "
       ]
      },
      {
       "output_type": "stream",
       "stream": "stdout",
       "text": [
        "\n"
       ]
      }
     ],
     "prompt_number": 10
    },
    {
     "cell_type": "code",
     "collapsed": false,
     "input": [
      "data[\"local_model\"][0].sub(substitutions)"
     ],
     "language": "python",
     "metadata": {},
     "outputs": [
      {
       "latex": [
        "$$0.006484\\frac{R_{min}}{V_{stall,max}^{0.59}}$$"
       ],
       "metadata": {},
       "output_type": "pyout",
       "prompt_number": 11,
       "text": [
        "0.0065*R_{min}**1*V_{stall,max}**-0.59"
       ]
      }
     ],
     "prompt_number": 11
    },
    {
     "cell_type": "code",
     "collapsed": false,
     "input": [
      "data[\"variables\"]['V'].shape"
     ],
     "language": "python",
     "metadata": {},
     "outputs": [
      {
       "metadata": {},
       "output_type": "pyout",
       "prompt_number": 12,
       "text": [
        "(100L, 3L)"
       ]
      }
     ],
     "prompt_number": 12
    },
    {
     "cell_type": "code",
     "collapsed": false,
     "input": [
      "data.senssubinto(h_fuel/rho)"
     ],
     "language": "python",
     "metadata": {},
     "outputs": [
      {
       "metadata": {},
       "output_type": "pyout",
       "prompt_number": 13,
       "text": [
        "array([ -6.51888327,  -7.7062632 ,  -9.00062815, -10.41322795,\n",
        "       -11.95685304, -13.64611233, -15.4978542 , -15.8728671 ,\n",
        "       -15.87286705, -15.8728671 ,  -6.36046662,  -7.52775597,\n",
        "        -8.79814693, -10.18208808, -11.69132731, -13.33919246,\n",
        "       -15.14088091, -16.20216456, -16.20216458, -16.2021651 ,\n",
        "        -6.20170749,  -7.34983811,  -8.59744301,  -9.9542815 ,\n",
        "       -11.43122775, -13.04051163, -14.79596579, -16.53399654,\n",
        "       -16.53399663, -16.53399655,  -6.04232246,  -7.17218812,\n",
        "        -8.39809529,  -9.72922837, -11.17571763, -12.74886621,\n",
        "       -14.46136292, -16.32764913, -16.86846462, -16.86846461,\n",
        "        -5.88201893,  -6.9944971 ,  -8.19971864,  -9.50641351,\n",
        "       -10.92409771, -12.46325166, -14.13560866, -15.95439478,\n",
        "       -17.20567145, -17.20567242,  -5.72048789,  -6.81643304,\n",
        "        -8.00195545,  -9.28538489, -10.67571942, -12.18278717,\n",
        "       -13.81746713, -15.59196567, -17.52018287, -17.54572146,\n",
        "        -5.55739546,  -6.63770827,  -7.80446031,  -9.06571801,\n",
        "       -10.43004836, -11.90671449, -13.50588356, -15.23888506,\n",
        "       -17.11854365, -17.88871025,  -5.39236916,  -6.45798941,\n",
        "        -7.60690198,  -8.84702202, -10.18658106, -11.63437085,\n",
        "       -13.19995121, -14.89390039, -16.72812192, -18.23479276,\n",
        "        -5.22498208,  -6.27693095,  -7.4089481 ,  -8.6289284 ,\n",
        "        -9.94486717, -11.36516891, -12.89888217, -14.55593997,\n",
        "       -16.34745235, -18.28608408,  -5.05473232,  -6.09415363,\n",
        "        -7.21025795,  -8.411081  ,  -9.70448766, -11.09858249,\n",
        "       -12.60198558, -14.22407811, -15.97528509, -17.86742603])"
       ]
      }
     ],
     "prompt_number": 13
    },
    {
     "cell_type": "code",
     "collapsed": false,
     "input": [
      "data[\"sensitivities\"][\"variables\"][\"h_{fuel}\"][0]/data[\"sensitivities\"][\"variables\"][\"\\\\rho\"][0]"
     ],
     "language": "python",
     "metadata": {},
     "outputs": [
      {
       "metadata": {},
       "output_type": "pyout",
       "prompt_number": 16,
       "text": [
        "-6.5188832669114554"
       ]
      }
     ],
     "prompt_number": 16
    },
    {
     "cell_type": "markdown",
     "metadata": {},
     "source": [
      "### plot pareto frontiers"
     ]
    },
    {
     "cell_type": "code",
     "collapsed": false,
     "input": [
      "%matplotlib inline\n",
      "%config InlineBackend.figure_format = 'retina'\n",
      "\n",
      "plot_frontiers = gpkit.interactive.plot_frontiers\n",
      "plot_frontiers(data, ['S{\\\\rho_{alum}}', 'S{h_{fuel}}', 'S{A_{prop}}'], 1, 3, (15,5))\n",
      "plot_frontiers(data, ['S', 'W_{zfw}', 'P_{max}'], 1, 3, (15,5))"
     ],
     "language": "python",
     "metadata": {
      "slideshow": {
       "slide_type": "slide"
      }
     },
     "outputs": []
    },
    {
     "cell_type": "markdown",
     "metadata": {},
     "source": [
      "### generate an interactive widget\n",
      "\n",
      "note that $A\\kern-8mu R$ is much more sensitive to $R_{min}$ than it is to $V_{stall,max}$"
     ]
    },
    {
     "cell_type": "code",
     "collapsed": false,
     "input": [
      "gp = gpkit.GP(W_fuel[0] + W_fuel[1], eqns, substitutions)\n",
      "gp.sweep = {}\n",
      "from IPython.display import Math, display\n",
      "def outputfn(gp):\n",
      "    def nstr(num):\n",
      "        cstr = \"%.4g\" % num\n",
      "        if 'e' in cstr:\n",
      "            idx = cstr.index('e')\n",
      "            cstr = \"%s\\\\times 10^{%i}\" % (\n",
      "                   cstr[:idx], int(cstr[idx+1:]))\n",
      "        return cstr\n",
      "    \n",
      "    interesting_vars = ['{W_{fuel}}_{0}', '{W_{fuel}}_{1}', 'A\\kern-8mu R', 'S', 'W_{zfw}', 'W_{mto}']\n",
      "    sols = sorted([(sol, nstr(val), gp.var_descrs[sol][0] or \"-\", gp.var_descrs[sol][1])\n",
      "                   for (sol, val) in gp.solution[\"variables\"].items()\n",
      "                   if sol in interesting_vars])\n",
      "    display(Math(\"\\n\".join([r\"\\begin{array}[rlll]\\text{}\"]\n",
      "                   + [r\"%s & %s & \\mathrm{[%s]} & \\text{%s}\\\\\" % sol for sol in sols]\n",
      "                   + [r\"\\end{array}\"])))\n",
      "\n",
      "gpkit.interactive.widget(gp, outputfn, {\"V_{stall,max}\": (30, 50, 1), \"R_{min}\": (1e6, 1e7, 0.5e6)})"
     ],
     "language": "python",
     "metadata": {},
     "outputs": []
    }
   ],
   "metadata": {}
  }
 ]
}