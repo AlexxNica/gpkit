{
 "metadata": {
  "name": "",
  "signature": "sha256:1228f638f5e5807666ace110557f28dd75968855c8e7c148c15ed647cb8d19e5"
 },
 "nbformat": 3,
 "nbformat_minor": 0,
 "worksheets": [
  {
   "cells": [
    {
     "cell_type": "heading",
     "level": 1,
     "metadata": {},
     "source": [
      "GP Tutorial Example 1: Box Volume"
     ]
    },
    {
     "cell_type": "markdown",
     "metadata": {},
     "source": [
      "This example is a simple demonstration of GPkit, based on the simple box volume maximization example in <a href=\"http://stanford.edu/~boyd/papers/pdf/gp_tutorial.pdf\">A Tutorial on Geometric Programming</a> by Boyd et al..\n",
      "\n",
      "The objective is to maximise the volume of a box given constraints on the aspect ratio and area of its sides."
     ]
    },
    {
     "cell_type": "heading",
     "level": 3,
     "metadata": {},
     "source": [
      "Set up the modelling environment"
     ]
    },
    {
     "cell_type": "markdown",
     "metadata": {},
     "source": [
      "First, we need to import GPkit and turn on Latex printing for GPkit variables and equations."
     ]
    },
    {
     "cell_type": "code",
     "collapsed": false,
     "input": [
      "import gpkit\n",
      "gpkit.init_ipynb_printing()"
     ],
     "language": "python",
     "metadata": {},
     "outputs": [],
     "prompt_number": 11
    },
    {
     "cell_type": "markdown",
     "metadata": {},
     "source": [
      "Now, we declare the optimisation parameters:"
     ]
    },
    {
     "cell_type": "code",
     "collapsed": false,
     "input": [
      "\n",
      "constants = {\n",
      "    'alpha': (1, \"lower limit, wall aspect ratio\"),\n",
      "    'beta': (10, \"upper limit, wall aspect ratio\"),\n",
      "    'gamma': (1, \"lower limit, floor aspect ratio\"),\n",
      "    'delta': (10, \"upper limit, floor aspect ratio\"),\n",
      "    'A_wall': (200, \"m^2\", \"upper limit, wall area\"),\n",
      "    'A_floor': (100, \"m^2\", \"upper limit, floor area\")\n",
      "    }\n",
      "\n",
      "gpkit.monify_up(globals(), constants)"
     ],
     "language": "python",
     "metadata": {},
     "outputs": [],
     "prompt_number": 16
    },
    {
     "cell_type": "markdown",
     "metadata": {},
     "source": [
      "Next, we declare the decision variables:"
     ]
    },
    {
     "cell_type": "code",
     "collapsed": false,
     "input": [
      "free_variables = {\n",
      "    'h': \"height\",\n",
      "    'w': \"width\",\n",
      "    'd': \"depth\",\n",
      "}\n",
      "\n",
      "gpkit.monify_up(globals(), free_variables)"
     ],
     "language": "python",
     "metadata": {},
     "outputs": [],
     "prompt_number": 3
    },
    {
     "cell_type": "heading",
     "level": 3,
     "metadata": {},
     "source": [
      "Formulate the optimisation problem"
     ]
    },
    {
     "cell_type": "markdown",
     "metadata": {},
     "source": [
      "Here we write the optimisation problem as a standard form geometric program:"
     ]
    },
    {
     "cell_type": "code",
     "collapsed": false,
     "input": [
      "gp = gpkit.GP(  #minimize\n",
      "                (h**-1)*(w**-1)*(d**-1),\n",
      "                [   #subject to\n",
      "                    1 >= (2/Awall)*h*w + (2/Awall)*h*d,\n",
      "                    1 >= (1/A_floor)*w*d,\n",
      "                    1 >= alpha*(h**-1)*w,\n",
      "                    1 >= (1/beta)*h*(w**-1),\n",
      "                    1 >= gamma*w*(d**-1),\n",
      "                    1 >= (1/delta)*(w**-1)*d,\n",
      "                ], substitutions = constants)"
     ],
     "language": "python",
     "metadata": {},
     "outputs": [],
     "prompt_number": 20
    },
    {
     "cell_type": "markdown",
     "metadata": {},
     "source": [
      "Now, we can check that our equations are correct by looking at them in a more readable format using the built-in latex printing feature of gpkit."
     ]
    },
    {
     "cell_type": "code",
     "collapsed": false,
     "input": [
      "gp"
     ],
     "language": "python",
     "metadata": {},
     "outputs": [
      {
       "latex": [
        "$$\\begin{array}[ll]\n",
        "\\text{}\\text{minimize}\n",
        "    & \\frac{1}{h d w} \\\\\n",
        "\\text{subject to}\n",
        "    & 1 \\geq 2\\frac{h w}{Awall} + 2\\frac{h d}{Awall} \\\\\n",
        "    & 1 \\geq \\frac{d w}{A_{floor}} \\\\\n",
        "    & 1 \\geq \\frac{alpha w}{h} \\\\\n",
        "    & 1 \\geq \\frac{h}{beta w} \\\\\n",
        "    & 1 \\geq \\frac{w gamma}{d} \\\\\n",
        "    & 1 \\geq \\frac{d}{w delta} \\\\\n",
        "\\end{array}$$"
       ],
       "metadata": {},
       "output_type": "pyout",
       "prompt_number": 19,
       "text": [
        "                                           gpkit.GP( # minimize               \n",
        "                                                 h**-1*d**-1*w**-1,           \n",
        "                                                  [   # subject to            \n",
        "                                        1 >= 2*Awall**-1*h*w + 2*Awall**-1*h*d\n",
        "                                                 1 >= A_floor**-1*d*w,        \n",
        "                                                  1 >= h**-1*alpha*w,         \n",
        "                                                 1 >= beta**-1*w**-1*h,       \n",
        "                                                  1 >= d**-1*w*gamma,         \n",
        "                                                1 >= w**-1*delta**-1*d,       \n",
        "                                                         ],                   \n",
        "          substitutions={ 'A_floor': 100, 'Awall': 200, 'alpha': 1, 'beta': 10\n",
        "                                                  solver=\"mosek\")             \n",
        "\n",
        "                            \n",
        "                            \n",
        "                            \n",
        ",                           \n",
        "                            \n",
        "                            \n",
        "                            \n",
        "                            \n",
        "                            \n",
        "                            \n",
        ", 'delta': 10, 'gamma': 1 },\n",
        "                            "
       ]
      }
     ],
     "prompt_number": 19
    },
    {
     "cell_type": "heading",
     "level": 3,
     "metadata": {},
     "source": [
      "Solve the GP"
     ]
    },
    {
     "cell_type": "code",
     "collapsed": false,
     "input": [
      "data = gp.solve()"
     ],
     "language": "python",
     "metadata": {},
     "outputs": [
      {
       "output_type": "stream",
       "stream": "stdout",
       "text": [
        "Using solver 'mosek'\n",
        "Solving took 0.0269 seconds   \n"
       ]
      }
     ],
     "prompt_number": 6
    },
    {
     "cell_type": "heading",
     "level": 3,
     "metadata": {},
     "source": [
      "Analyse the results"
     ]
    },
    {
     "cell_type": "markdown",
     "metadata": {},
     "source": [
      "Finally, we can print the results:"
     ]
    },
    {
     "cell_type": "code",
     "collapsed": false,
     "input": [
      "print \"                 | Averages\"\n",
      "for key, table in data.iteritems():\n",
      "    try:\n",
      "        val = table.mean()\n",
      "    except AttributeError:\n",
      "        val = table\n",
      "    descr = gp.var_descrs[key]\n",
      "    if descr:\n",
      "        if descr[0] is None:\n",
      "            descr = \"[-] %s\" % descr[1]\n",
      "        else:\n",
      "            descr = \"[%s] %s\" % (descr[0], descr[1])\n",
      "    print \"%16s\" % key, \": %-8.3g\" % val, descr\n",
      "print \"                 |\""
     ],
     "language": "python",
     "metadata": {},
     "outputs": [
      {
       "output_type": "stream",
       "stream": "stdout",
       "text": [
        "                 | Averages\n",
        "        S{delta} : -1.15e-10 \n",
        "        S{alpha} : 0.5      \n",
        "            beta : 10       [-] upper limit, wall aspect ratio\n",
        "       S{Afloor} : -3.64e-10 \n",
        "           delta : 10       [-] upper limit, floor aspect ratio\n",
        "           alpha : 1        [-] lower limit, wall aspect ratio\n",
        "        S{gamma} : 1.14e-10 \n",
        "            S{d} : 1.07e-10 \n",
        "        S{Awall} : -1.5     \n",
        "          Afloor : 100      \n",
        "               d : 11.5     [-] depth\n",
        "               h : 5.77     [-] height\n",
        "            S{w} : 1.07e-10 \n",
        "            S{h} : 1.07e-10 \n",
        "         S{beta} : -7.08e-11 \n",
        "               w : 5.77     [-] width\n",
        "           Awall : 200      [m^2] upper limit, wall area\n",
        "           gamma : 1        [-] lower limit, floor aspect ratio\n",
        "                 |\n"
       ]
      }
     ],
     "prompt_number": 36
    }
   ],
   "metadata": {}
  }
 ]
}