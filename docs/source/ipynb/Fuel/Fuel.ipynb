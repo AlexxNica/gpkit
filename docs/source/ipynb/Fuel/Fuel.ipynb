{
 "cells": [
  {
   "cell_type": "markdown",
   "metadata": {},
   "source": [
    "<img src=\"fuellogo.svg\" style=\"float:left; padding-right:1em;\" width=150 />\n",
    "\n",
    "# AIRPLANE FUEL\n",
    "*Minimize fuel burn for a plane that can sprint and land quickly.*\n",
    "\n",
    "### Set up the modelling environment\n",
    "\n",
    "First we'll to import GPkit and turn on $\\LaTeX$ printing for GPkit variables and equations."
   ]
  },
  {
   "cell_type": "code",
   "execution_count": 1,
   "metadata": {
    "collapsed": false,
    "slideshow": {
     "slide_type": "slide"
    }
   },
   "outputs": [
    {
     "name": "stdout",
     "output_type": "stream",
     "text": [
      "tryna init printing\n"
     ]
    }
   ],
   "source": [
    "import numpy as np\n",
    "from gpkit.shortcuts import *\n",
    "import gpkit.interactive\n",
    "%matplotlib inline"
   ]
  },
  {
   "cell_type": "markdown",
   "metadata": {},
   "source": [
    "### declare constants"
   ]
  },
  {
   "cell_type": "code",
   "execution_count": 2,
   "metadata": {
    "collapsed": false,
    "slideshow": {
     "slide_type": "slide"
    }
   },
   "outputs": [],
   "source": [
    "N_lift         = Var(\"N_{lift}\", 6.0, \"-\", \"Wing loading multiplier\")\n",
    "pi             = Var(\"\\\\pi\", np.pi, \"-\", \"Half of the circle constant\")\n",
    "sigma_max      = Var(\"\\\\sigma_{max}\", 250e6, \"Pa\", \"Allowable stress, 6061-T6\")\n",
    "sigma_maxshear = Var(\"\\\\sigma_{max,shear}\", 167e6, \"Pa\", \"Allowable shear stress\")\n",
    "g              = Var(\"g\", 9.8, \"m/s^2\", \"Gravitational constant\")\n",
    "w              = Var(\"w\", 0.5, \"-\", \"Wing-box width/chord\")\n",
    "r_h            = Var(\"r_h\", 0.75, \"-\", \"Wing strut taper parameter\")\n",
    "f_wadd         = Var(\"f_{wadd}\", 2, \"-\", \"Wing added weight fraction\")\n",
    "W_fixed        = Var(\"W_{fixed}\", 14.7e3, \"N\", \"Fixed weight\")\n",
    "C_Lmax         = Var(\"C_{L,max}\", 1.5, \"-\", \"Maximum C_L, flaps down\")\n",
    "rho            = Var(\"\\\\rho\", 0.91, \"kg/m^3\", \"Air density, 3000m\")\n",
    "rho_sl         = Var(\"\\\\rho_{sl}\", 1.23, \"kg/m^3\", \"Air density, sea level\")\n",
    "rho_alum       = Var(\"\\\\rho_{alum}\", 2700, \"kg/m^3\", \"Density of aluminum\")\n",
    "mu             = Var(\"\\\\mu\", 1.69e-5, \"kg/m/s\", \"Dynamic viscosity, 3000m\")\n",
    "e              = Var(\"e\", 0.95, \"-\", \"Wing spanwise efficiency\")\n",
    "A_prop         = Var(\"A_{prop}\", 0.785, \"m^2\", \"Propeller disk area\")\n",
    "eta_eng        = Var(\"\\\\eta_{eng}\", 0.35, \"-\", \"Engine efficiency\")\n",
    "eta_v          = Var(\"\\\\eta_v\", 0.85, \"-\", \"Propeller viscous efficiency\")\n",
    "h_fuel         = Var(\"h_{fuel}\", 42e6, \"J/kg\", \"fuel heating value\")\n",
    "V_sprint_reqt  = Var(\"V_{sprintreqt}\", 150, \"m/s\", \"sprint speed requirement\")\n",
    "W_pay          = Var(\"W_{pay}\", 500*9.81, \"N\")\n",
    "R_min          = Var(\"R_{min}\", 1e6, \"m\", \"Minimum airplane range\")\n",
    "V_stallmax     = Var(\"V_{stall,max}\", 40, \"m/s\", \"Stall speed\")\n",
    "# sweep variables\n",
    "R_min          = Var(\"R_{min}\", 5e6, \"m\", \"Minimum airplane range\")\n",
    "V_stallmax     = Var(\"V_{stall,max}\", 40, \"m/s\", \"Stall speed\")"
   ]
  },
  {
   "cell_type": "markdown",
   "metadata": {},
   "source": [
    "### declare free variables"
   ]
  },
  {
   "cell_type": "code",
   "execution_count": 3,
   "metadata": {
    "collapsed": false,
    "slideshow": {
     "slide_type": "subslide"
    }
   },
   "outputs": [],
   "source": [
    "V        = Vec(3, \"V\", \"m/s\", \"Flight speed\")\n",
    "C_L      = Vec(3, \"C_L\", \"-\", \"Wing lift coefficent\")\n",
    "C_D      = Vec(3, \"C_D\", \"-\", \"Wing drag coefficent\")\n",
    "C_Dfuse  = Vec(3, \"C_{D_{fuse}}\", \"-\", \"Fuselage drag coefficent\")\n",
    "C_Dp     = Vec(3, \"C_{D_p}\", \"-\", \"drag model parameter\")\n",
    "C_Di     = Vec(3, \"C_{D_i}\", \"-\", \"drag model parameter\")\n",
    "T        = Vec(3, \"T\", \"N\", \"Thrust force\")\n",
    "Re       = Vec(3, \"Re\", \"-\", \"Reynold's number\")\n",
    "W        = Vec(3, \"W\", \"N\", \"Aircraft weight\")\n",
    "eta_i    = Vec(3, \"\\\\eta_i\", \"-\", \"Aircraft efficiency\")\n",
    "eta_prop = Vec(3, \"\\\\eta_{prop}\", \"-\")\n",
    "eta_0    = Vec(3, \"\\\\eta_0\", \"-\")\n",
    "W_fuel   = Vec(2, \"W_{fuel}\", \"N\", \"Fuel weight\")\n",
    "z_bre    = Vec(2, \"z_{bre}\", \"-\")\n",
    "S        = Var(\"S\", \"m^2\", \"Wing area\")\n",
    "R        = Var(\"R\", \"m\", \"Airplane range\")\n",
    "A        = Var(\"A\", \"-\", \"Aspect Ratio\")\n",
    "I_cap    = Var(\"I_{cap}\", \"m^4\", \"Spar cap area moment of inertia per unit chord\")\n",
    "M_rbar   = Var(\"\\\\bar{M}_r\", \"-\")\n",
    "P_max    = Var(\"P_{max}\", \"W\")\n",
    "V_stall  = Var(\"V_{stall}\", \"m/s\")\n",
    "nu       = Var(\"\\\\nu\", \"-\")\n",
    "p        = Var(\"p\", \"-\")\n",
    "q        = Var(\"q\", \"-\")\n",
    "tau      = Var(\"\\\\tau\", \"-\")\n",
    "t_cap    = Var(\"t_{cap}\", \"-\")\n",
    "t_web    = Var(\"t_{web}\", \"-\")\n",
    "W_cap    = Var(\"W_{cap}\", \"N\")\n",
    "W_zfw    = Var(\"W_{zfw}\", \"N\", \"Zero fuel weight\")\n",
    "W_eng    = Var(\"W_{eng}\", \"N\")\n",
    "W_mto    = Var(\"W_{mto}\", \"N\", \"Maximum takeoff weight\")\n",
    "W_pay    = Var(\"W_{pay}\", \"N\")\n",
    "W_tw     = Var(\"W_{tw}\", \"N\")\n",
    "W_web    = Var(\"W_{web}\", \"N\")\n",
    "W_wing   = Var(\"W_{wing}\", \"N\")"
   ]
  },
  {
   "cell_type": "markdown",
   "metadata": {},
   "source": [
    "Check the vector constraints:"
   ]
  },
  {
   "cell_type": "code",
   "execution_count": 4,
   "metadata": {
    "collapsed": false
   },
   "outputs": [
    {
     "data": {
      "text/plain": [
       "gpkit.PosyArray([W_(0,) [N] == 0.5*C_L_(0,)*S*V_(0,)**2*\\rho [kg*m/s**2], W_(1,) [N] == 0.5*C_L_(1,)*S*V_(1,)**2*\\rho [kg*m/s**2], W_(2,) [N] == 0.5*C_L_(2,)*S*V_(2,)**2*\\rho [kg*m/s**2]])"
      ]
     },
     "execution_count": 4,
     "metadata": {},
     "output_type": "execute_result"
    }
   ],
   "source": [
    "W == 0.5*rho*C_L*S*V**2"
   ]
  },
  {
   "cell_type": "markdown",
   "metadata": {},
   "source": [
    "### Form the optimization problem\n",
    "\n",
    "In the 3-element vector variables, indices 0, 1, and 2 are the outbound, return and sprint flights."
   ]
  },
  {
   "cell_type": "code",
   "execution_count": 5,
   "metadata": {
    "collapsed": false,
    "slideshow": {
     "slide_type": "subslide"
    }
   },
   "outputs": [],
   "source": [
    "steady_level_flight = (W == 0.5*rho*C_L*S*V**2,\n",
    "                       T >= 0.5*rho*C_D*S*V**2,\n",
    "                       Re == (rho/mu)*V*(S/A)**0.5)\n",
    "\n",
    "landing_fc = (W_mto <= 0.5*rho_sl*V_stall**2*C_Lmax*S,\n",
    "              V_stall <= V_stallmax)\n",
    "\n",
    "sprint_fc = (P_max >= T[2]*V[2]/eta_0[2],\n",
    "             V[2] >= V_sprint_reqt)\n",
    "\n",
    "drag_model = (C_D >= (0.05/S)*gpkit.units.m**2 +C_Dp + C_L**2/(pi*e*A),\n",
    "              1 >= (2.56*C_L**5.88/(Re**1.54*tau**3.32*C_Dp**2.62) +\n",
    "                   3.8e-9*tau**6.23/(C_L**0.92*Re**1.38*C_Dp**9.57) +\n",
    "                   2.2e-3*Re**0.14*tau**0.033/(C_L**0.01*C_Dp**0.73) +\n",
    "                   1.19e4*C_L**9.78*tau**1.76/(Re*C_Dp**0.91) +\n",
    "                   6.14e-6*C_L**6.53/(Re**0.99*tau**0.52*C_Dp**5.19)))\n",
    "\n",
    "propulsive_efficiency = (eta_0 <= eta_eng*eta_prop,\n",
    "                         eta_prop <= eta_i*eta_v,\n",
    "                         4*eta_i + T*eta_i**2/(0.5*rho*V**2*A_prop) <= 4)\n",
    "\n",
    "# 4th order taylor approximation for e^x\n",
    "z_bre_sum = 0\n",
    "for i in range(1,5):\n",
    "    z_bre_sum += z_bre**i/np.math.factorial(i)\n",
    "\n",
    "range_constraints = (R >= R_min,\n",
    "                     z_bre >= g*R*T[:2]/(h_fuel*eta_0[:2]*W[:2]),\n",
    "                     W_fuel/W[:2] >= z_bre_sum)\n",
    "\n",
    "punits = gpkit.units.parse_expression('N/W^0.8083')\n",
    "weight_relations = (W_pay >= 500*g*gpkit.units.kg,\n",
    "                    W_tw >= W_fixed + W_pay + W_eng,\n",
    "                    W_zfw >= W_tw + W_wing,\n",
    "                    W_eng >= 0.0372*P_max**0.8083 * punits,\n",
    "                    W_wing/f_wadd >= W_cap + W_web,\n",
    "                    W[0] >= W_zfw + W_fuel[1],\n",
    "                    W[1] >= W_zfw,\n",
    "                    W_mto >= W[0] + W_fuel[0],\n",
    "                    W[2] == W[0])\n",
    "\n",
    "wunits = gpkit.units.m**-4\n",
    "munits = gpkit.units.parse_expression('Pa*m**6')\n",
    "wing_structural_model = (2*q >= 1 + p,\n",
    "                         p >= 2.2,\n",
    "                         tau <= 0.25,\n",
    "                         M_rbar >= W_tw*A*p/(24*gpkit.units.N),\n",
    "                         .92**2/2.*w*tau**2*t_cap >= I_cap * wunits + .92*w*tau*t_cap**2,\n",
    "                         8 >= N_lift*M_rbar*A*q**2*tau/S/I_cap/sigma_max * munits,\n",
    "                         12 >= A*W_tw*N_lift*q**2/tau/S/t_web/sigma_maxshear,\n",
    "                         nu**3.94 >= .86*p**-2.38 + .14*p**0.56,\n",
    "                         W_cap >= 8*rho_alum*g*w*t_cap*S**1.5*nu/3/A**.5,\n",
    "                         W_web >= 8*rho_alum*g*r_h*tau*t_web*S**1.5*nu/3/A**.5\n",
    "                         )"
   ]
  },
  {
   "cell_type": "code",
   "execution_count": 6,
   "metadata": {
    "collapsed": false,
    "slideshow": {
     "slide_type": "subslide"
    }
   },
   "outputs": [],
   "source": [
    "eqns = (weight_relations + range_constraints + propulsive_efficiency\n",
    "        + drag_model + steady_level_flight + landing_fc + sprint_fc + wing_structural_model)\n",
    "\n",
    "m = gpkit.Model(W_fuel.sum(), eqns)"
   ]
  },
  {
   "cell_type": "code",
   "execution_count": 9,
   "metadata": {
    "collapsed": true
   },
   "outputs": [],
   "source": [
    "from ipywidgets import interactive\n",
    "def prix(x=1.0):\n",
    "    print x\n",
    "interactive(prix, x=(0.0,10.0))"
   ]
  },
  {
   "cell_type": "code",
   "execution_count": 16,
   "metadata": {
    "collapsed": false
   },
   "outputs": [
    {
     "name": "stdout",
     "output_type": "stream",
     "text": [
      "1.0\n"
     ]
    }
   ],
   "source": [
    "def prix(x=1.0):\n",
    "    print x\n",
    "interactive(prix, x=(0.0,10.0))"
   ]
  },
  {
   "cell_type": "code",
   "execution_count": 7,
   "metadata": {
    "collapsed": false
   },
   "outputs": [
    {
     "name": "stdout",
     "output_type": "stream",
     "text": [
      "\n",
      "Cost\n",
      "----\n",
      " 7559 [N] \n",
      "\n",
      "Free Variables\n",
      "--------------\n",
      "          A : 21.09                                    Aspect Ratio                                  \n",
      "    I_{cap} : 6.713e-05                         [m**4] Spar cap area moment of inertia per unit chord\n",
      "    P_{max} : 1.423e+06                         [W]                                                  \n",
      "          R : 5e+06                             [m]    Airplane range                                \n",
      "          S : 26.94                             [m**2] Wing area                                     \n",
      "  V_{stall} : 40                                [m/s]                                                \n",
      "    W_{cap} : 4377                              [N]                                                  \n",
      "    W_{eng} : 3502                              [N]                                                  \n",
      "    W_{mto} : 3.976e+04                         [N]    Maximum takeoff weight                        \n",
      "    W_{pay} : 4900                              [N]                                                  \n",
      "     W_{tw} : 2.31e+04                          [N]                                                  \n",
      "    W_{web} : 171                               [N]                                                  \n",
      "   W_{wing} : 9097                              [N]                                                  \n",
      "    W_{zfw} : 3.22e+04                          [N]    Zero fuel weight                              \n",
      "  \\bar{M}_r : 4.466e+04                                                                              \n",
      "        \\nu : 0.7658                                                                                 \n",
      "       \\tau : 0.25                                                                                   \n",
      "          p : 2.2                                                                                    \n",
      "          q : 1.6                                                                                    \n",
      "    t_{cap} : 0.005323                                                                               \n",
      "    t_{web} : 0.0005545                                                                              \n",
      "        C_D : [ 0.016     0.0161    0.00952  ]         Wing drag coefficent                          \n",
      "        C_L : [ 0.67      0.671     0.13     ]         Wing lift coefficent                          \n",
      "    C_{D_p} : [ 0.00704   0.00708   0.00739  ]         drag model parameter                          \n",
      "         Re : [ 4.02e+06  3.81e+06  9.13e+06 ]         Reynold's number                              \n",
      "          T : [ 856       772       2.62e+03 ]  [N]    Thrust force                                  \n",
      "          V : [ 66        62.6      150      ]  [m/s]  Flight speed                                  \n",
      "          W : [ 3.58e+04  3.22e+04  3.58e+04 ]  [N]    Aircraft weight                               \n",
      "   W_{fuel} : [ 3.97e+03  3.59e+03 ]            [N]    Fuel weight                                   \n",
      "     \\eta_0 : [ 0.265     0.265     0.277    ]                                                       \n",
      "     \\eta_i : [ 0.891     0.891     0.929    ]         Aircraft efficiency                           \n",
      "\\eta_{prop} : [ 0.757     0.757     0.79     ]                                                       \n",
      "    z_{bre} : [ 0.105     0.106    ]                                                                 \n",
      "\n"
     ]
    }
   ],
   "source": [
    "gpkit.interactive.widget(m)"
   ]
  },
  {
   "cell_type": "markdown",
   "metadata": {},
   "source": [
    "### Design an airplane"
   ]
  },
  {
   "cell_type": "code",
   "execution_count": 7,
   "metadata": {
    "collapsed": false,
    "slideshow": {
     "slide_type": "notes"
    }
   },
   "outputs": [
    {
     "name": "stdout",
     "output_type": "stream",
     "text": [
      "\n",
      "Cost\n",
      "----\n",
      " 7559 [N] \n",
      "\n",
      "Free Variables\n",
      "--------------\n",
      "          A : 21.09                                    Aspect Ratio                                  \n",
      "    I_{cap} : 6.713e-05                         [m**4] Spar cap area moment of inertia per unit chord\n",
      "    P_{max} : 1.423e+06                         [W]                                                  \n",
      "          R : 5e+06                             [m]    Airplane range                                \n",
      "          S : 26.94                             [m**2] Wing area                                     \n",
      "  V_{stall} : 40                                [m/s]                                                \n",
      "    W_{cap} : 4377                              [N]                                                  \n",
      "    W_{eng} : 3502                              [N]                                                  \n",
      "    W_{mto} : 3.976e+04                         [N]    Maximum takeoff weight                        \n",
      "    W_{pay} : 4900                              [N]                                                  \n",
      "     W_{tw} : 2.31e+04                          [N]                                                  \n",
      "    W_{web} : 171                               [N]                                                  \n",
      "   W_{wing} : 9097                              [N]                                                  \n",
      "    W_{zfw} : 3.22e+04                          [N]    Zero fuel weight                              \n",
      "  \\bar{M}_r : 4.466e+04                                                                              \n",
      "        \\nu : 0.7658                                                                                 \n",
      "       \\tau : 0.25                                                                                   \n",
      "          p : 2.2                                                                                    \n",
      "          q : 1.6                                                                                    \n",
      "    t_{cap} : 0.005323                                                                               \n",
      "    t_{web} : 0.0005545                                                                              \n",
      "        C_D : [ 0.016     0.0161    0.00952  ]         Wing drag coefficent                          \n",
      "        C_L : [ 0.67      0.671     0.13     ]         Wing lift coefficent                          \n",
      "    C_{D_p} : [ 0.00704   0.00708   0.00739  ]         drag model parameter                          \n",
      "         Re : [ 4.02e+06  3.81e+06  9.13e+06 ]         Reynold's number                              \n",
      "          T : [ 856       772       2.62e+03 ]  [N]    Thrust force                                  \n",
      "          V : [ 66        62.6      150      ]  [m/s]  Flight speed                                  \n",
      "          W : [ 3.58e+04  3.22e+04  3.58e+04 ]  [N]    Aircraft weight                               \n",
      "   W_{fuel} : [ 3.97e+03  3.59e+03 ]            [N]    Fuel weight                                   \n",
      "     \\eta_0 : [ 0.265     0.265     0.277    ]                                                       \n",
      "     \\eta_i : [ 0.891     0.891     0.929    ]         Aircraft efficiency                           \n",
      "\\eta_{prop} : [ 0.757     0.757     0.79     ]                                                       \n",
      "    z_{bre} : [ 0.105     0.106    ]                                                                 \n",
      "\n",
      "Constants\n",
      "---------\n",
      "          A_{prop} : 0.785     [m**2]    Propeller disk area         \n",
      "         C_{L,max} : 1.5                 Maximum C_L, flaps down     \n",
      "          N_{lift} : 6                   Wing loading multiplier     \n",
      "           R_{min} : 5e+06     [m]       Minimum airplane range      \n",
      "    V_{sprintreqt} : 150       [m/s]     sprint speed requirement    \n",
      "     V_{stall,max} : 40        [m/s]     Stall speed                 \n",
      "         W_{fixed} : 1.47e+04  [N]       Fixed weight                \n",
      "            \\eta_v : 0.85                Propeller viscous efficiency\n",
      "        \\eta_{eng} : 0.35                Engine efficiency           \n",
      "               \\mu : 1.69e-05  [kg/m/s]  Dynamic viscosity, 3000m    \n",
      "               \\pi : 3.142               Half of the circle constant \n",
      "              \\rho : 0.91      [kg/m**3] Air density, 3000m          \n",
      "       \\rho_{alum} : 2700      [kg/m**3] Density of aluminum         \n",
      "         \\rho_{sl} : 1.23      [kg/m**3] Air density, sea level      \n",
      "\\sigma_{max,shear} : 1.67e+08  [Pa]      Allowable shear stress      \n",
      "      \\sigma_{max} : 2.5e+08   [Pa]      Allowable stress, 6061-T6   \n",
      "                 e : 0.95                Wing spanwise efficiency    \n",
      "          f_{wadd} : 2                   Wing added weight fraction  \n",
      "                 g : 9.8       [m/s**2]  Gravitational constant      \n",
      "          h_{fuel} : 4.2e+07   [J/kg]    fuel heating value          \n",
      "               r_h : 0.75                Wing strut taper parameter  \n",
      "                 w : 0.5                 Wing-box width/chord        \n",
      "\n",
      "Sensitivities\n",
      "-------------\n",
      "          A_{prop} : -0.1242  Propeller disk area         \n",
      "         C_{L,max} : -0.2476  Maximum C_L, flaps down     \n",
      "          N_{lift} : 0.3609   Wing loading multiplier     \n",
      "           R_{min} : 1.16     Minimum airplane range      \n",
      "    V_{sprintreqt} : 0.4453   sprint speed requirement    \n",
      "     V_{stall,max} : -0.4951  Stall speed                 \n",
      "         W_{fixed} : 0.7856   Fixed weight                \n",
      "            \\eta_v : -1.311   Propeller viscous efficiency\n",
      "        \\eta_{eng} : -1.311   Engine efficiency           \n",
      "               \\mu : 0.06819  Dynamic viscosity, 3000m    \n",
      "               \\pi : -0.571   Half of the circle constant \n",
      "              \\rho : 0.1129   Air density, 3000m          \n",
      "       \\rho_{alum} : 0.344    Density of aluminum         \n",
      "         \\rho_{sl} : -0.2476  Air density, sea level      \n",
      "\\sigma_{max,shear} : -0.01294 Allowable shear stress      \n",
      "      \\sigma_{max} : -0.348   Allowable stress, 6061-T6   \n",
      "                 e : -0.571   Wing spanwise efficiency    \n",
      "          f_{wadd} : 0.344    Wing added weight fraction  \n",
      "                 g : 1.766    Gravitational constant      \n",
      "          h_{fuel} : -1.16    fuel heating value          \n",
      "               r_h : 0.01294  Wing strut taper parameter  \n",
      "                 w : -0.01689 Wing-box width/chord        \n",
      "\n"
     ]
    }
   ],
   "source": [
    "sol = m.solve(solver='mosek')"
   ]
  },
  {
   "cell_type": "markdown",
   "metadata": {},
   "source": [
    "The \"local model\" is the power-law tangent to the Pareto frontier, gleaned from sensitivities."
   ]
  },
  {
   "cell_type": "code",
   "execution_count": 8,
   "metadata": {
    "collapsed": false
   },
   "outputs": [
    {
     "data": {
      "text/plain": [
       "gpkit.Monomial(5.58*A_{prop}**-0.12*C_{L,max}**-0.25*N_{lift}**0.36*R_{min}**1.2*V_{sprintreqt}**0.45*V_{stall,max}**-0.5*W_{fixed}**0.79*\\eta_v**-1.3*\\eta_{eng}**-1.3*\\pi**-0.57*\\rho**0.11*\\rho_{alum}**0.34*\\rho_{sl}**-0.25*\\sigma_{max}**-0.35*e**-0.57*f_{wadd}**0.34*g**1.8*h_{fuel}**-1.2)"
      ]
     },
     "execution_count": 8,
     "metadata": {},
     "output_type": "execute_result"
    }
   ],
   "source": [
    "sol[\"localmodel\"].flatten()[0]"
   ]
  },
  {
   "cell_type": "markdown",
   "metadata": {},
   "source": [
    "### plot design frontiers"
   ]
  },
  {
   "cell_type": "code",
   "execution_count": 9,
   "metadata": {
    "collapsed": false,
    "slideshow": {
     "slide_type": "slide"
    }
   },
   "outputs": [],
   "source": [
    "#%matplotlib inline\n",
    "#%config InlineBackend.figure_format = 'retina'\n",
    "\n",
    "#plot_frontiers = gpkit.interactive.plot_frontiers\n",
    "#plot_frontiers(m, [V[0], V[1], V[2]])\n",
    "#plot_frontiers(m, [S, W_zfw, P_max])\n",
    "#plot_frontiers(m, ['S{\\\\rho_{alum}}', 'S{h_{fuel}}', 'S{A_{prop}}'])"
   ]
  },
  {
   "cell_type": "code",
   "execution_count": 10,
   "metadata": {
    "collapsed": false
   },
   "outputs": [
    {
     "data": {
      "image/png": "[encoded data removed]",
      "text/plain": [
       "<matplotlib.figure.Figure at 0x7f70301cc1d0>"
      ]
     },
     "metadata": {},
     "output_type": "display_data"
    }
   ],
   "source": [
    "from gpkit.interactive.plotting import sensitivity_plot\n",
    "_ = sensitivity_plot(m)"
   ]
  },
  {
   "cell_type": "markdown",
   "metadata": {},
   "source": [
    "### Interactive analysis\n",
    "\n",
    "Let's investigate it with the [cadtoons](https://github.com/bqpd/cadtoons) library. Running `cadtoon.py flightconditions.svg` in this folder creates an interactive SVG graphic for us.\n",
    "\n",
    "First, import the functions to display HTML in iPython Notebook, and the [ractivejs](http://www.ractivejs.org/) library."
   ]
  },
  {
   "cell_type": "code",
   "execution_count": 11,
   "metadata": {
    "collapsed": false
   },
   "outputs": [],
   "source": [
    "from string import Template\n",
    "\n",
    "fuelupdate_js = Template(\"\"\"\n",
    "var W_eng = $W_eng,\n",
    "    lam = $lam\n",
    "\n",
    "fuel.shearinner.scalex = 1-$tcap*10\n",
    "fuel.shearinner.scaley = 1-$tweb*100\n",
    "fuel.airfoil.scaley = $tau/0.13\n",
    "fuel.fuse.scalex = $W_fus/24000\n",
    "fuel.wing.scalex = $b/2/14\n",
    "fuel.wing.scaley = $cr*1.21\n",
    "\"\"\")\n",
    "\n",
    "def fuelupdate_py(m):\n",
    "    varstrs = (\"p\", \"S\", \"A\", \"t_{cap}\", \"t_{web}\", \"w\",\n",
    "               \"\\\\tau\", \"W_{eng}\", \"W_{mto}\", \"W_{wing}\")\n",
    "    p, S, A, t_cap, t_web, w, tau, W_eng, W_mto, W_wing = m.solution.getvars(*varstrs)\n",
    "    lam = 0.5*(p-1)\n",
    "    return fuelupdate_js.substitute(lam = lam,\n",
    "                                    b = (S*A)**0.5,\n",
    "                                    cr = 2/(1+lam)*(S/A)**0.5,\n",
    "                                    tcap = t_cap/tau,\n",
    "                                    tweb = t_web/w,\n",
    "                                    tau = tau,\n",
    "                                    W_eng = W_eng,\n",
    "                                    W_fus = W_mto - W_wing - W_eng)\n",
    "\n",
    "fuelconstraint_js = \"\"\"\n",
    "fuel.engine1.scale = Math.pow(W_eng/3000, 2/3)\n",
    "fuel.engine2.scale = Math.pow(W_eng/3000, 2/3)\n",
    "fuel.engine1.y = 6*lam\n",
    "fuel.engine2.y = 6*lam\n",
    "fuel.wingrect.scaley = 1-lam\n",
    "fuel.wingrect.y = -6 + 5*lam\n",
    "fuel.wingtaper.scaley = lam\n",
    "fuel.wingtaper.y = 5*lam\n",
    "\"\"\""
   ]
  },
  {
   "cell_type": "code",
   "execution_count": 12,
   "metadata": {
    "collapsed": false
   },
   "outputs": [
    {
     "data": {
      "text/html": [
       "<div id='ractivecontainer'></div>\n",
       "<script id='ractivetemplate' type='text/ractive'>\n",
       "<svg width=\"300\" height=\"300\" version=\"1.1\">\n",
       "\t<g transform=\"scale(3.00)\">\n",
       "\t\t<g transform=\"translate(0,-952.36218)\">\n",
       "\t\t\t<g transform=\"matrix(0.35423407,0,0,0.42994087,-35.858031,688.41834)\">\n",
       "\t\t\t\t<g class=\"plane\" transform=\"matrix({{plane.scalex * plane.scale}}, 0, 0, {{plane.scaley * plane.scale}}, {{plane.x + 126.01282195 * (1-plane.scalex * plane.scale)}}, {{plane.y + 662.03094 * (1-plane.scaley * plane.scale)}})\">\n",
       "\t\t\t\t\t<path d=\"m 232.14732,750.54867 0,-126.8125 c 0,-13.41493 20,-12.7923 20,0 l 0,126.8125 z\" style=\"font-size:medium;font-style:normal;font-variant:normal;font-weight:normal;font-stretch:normal;text-indent:0;text-align:start;text-decoration:none;line-height:normal;letter-spacing:normal;word-spacing:normal;text-transform:none;direction:ltr;block-progression:tb;writing-mode:lr-tb;text-anchor:start;baseline-shift:baseline;color:#000000;fill:#000000;fill-opacity:1;stroke:none;stroke-width:1;marker:none;visibility:visible;display:inline;overflow:visible;enable-background:accumulate;font-family:Sans;-inkscape-font-specification:Sans\" transform=\"matrix({{fuse.scalex * fuse.scale}}, 0, 0, {{fuse.scaley * fuse.scale}}, {{fuse.x + 242.14732 * (1-fuse.scalex * fuse.scale)}}, {{fuse.y + 687.14242 * (1-fuse.scaley * fuse.scale)}})\" class=\"fuse\"></path>\n",
       "\t\t\t\t\t<path d=\"m 303.49107,650.87477 a 5.0005,3.6595115 0 0 0 -4.90625,3.70488 l 0,14.63658 a 5.0005,3.6595115 0 1 0 10,0 l 0,-14.63658 a 5.0005,3.6595115 0 0 0 -5.09375,-3.70488 z\" style=\"font-size:medium;font-style:normal;font-variant:normal;font-weight:normal;font-stretch:normal;text-indent:0;text-align:start;text-decoration:none;line-height:normal;letter-spacing:normal;word-spacing:normal;text-transform:none;direction:ltr;block-progression:tb;writing-mode:lr-tb;text-anchor:start;baseline-shift:baseline;color:#000000;fill:#000000;fill-opacity:1;stroke:none;stroke-width:1;marker:none;visibility:visible;display:inline;overflow:visible;enable-background:accumulate;font-family:Sans;-inkscape-font-specification:Sans\" transform=\"matrix({{engine2.scalex * engine2.scale}}, 0, 0, {{engine2.scaley * engine2.scale}}, {{engine2.x + 303.58482 * (1-engine2.scalex * engine2.scale)}}, {{engine2.y + 660.0455 * (1-engine2.scaley * engine2.scale)}})\" class=\"engine2\"></path>\n",
       "\t\t\t\t\t<path d=\"m 182.05357,650.87478 a 5.0005,3.7433229 0 0 0 -4.90625,3.78974 l 0,14.97179 a 5.0005,3.7433229 0 1 0 10,0 l 0,-14.97179 a 5.0005,3.7433229 0 0 0 -5.09375,-3.78974 z\" style=\"font-size:medium;font-style:normal;font-variant:normal;font-weight:normal;font-stretch:normal;text-indent:0;text-align:start;text-decoration:none;line-height:normal;letter-spacing:normal;word-spacing:normal;text-transform:none;direction:ltr;block-progression:tb;writing-mode:lr-tb;text-anchor:start;baseline-shift:baseline;color:#000000;fill:#000000;fill-opacity:1;stroke:none;stroke-width:1;marker:none;visibility:visible;display:inline;overflow:visible;enable-background:accumulate;font-family:Sans;-inkscape-font-specification:Sans\" transform=\"matrix({{engine1.scalex * engine1.scale}}, 0, 0, {{engine1.scaley * engine1.scale}}, {{engine1.x + 182.14732 * (1-engine1.scalex * engine1.scale)}}, {{engine1.y + 660.255545 * (1-engine1.scaley * engine1.scale)}})\" class=\"engine1\"></path>\n",
       "\t\t\t\t\t<path d=\"m 239.64285,741.66071 -27.5,7.14286 0,10.71428 60,0 0,-10.71428 -27.5,-7.14286 -5,0 z\" style=\"fill:#ffffff;fill-opacity:1;stroke:#000000;stroke-width:1;stroke-miterlimit:4;stroke-opacity:1;stroke-dasharray:none\"></path>\n",
       "\t\t\t\t\t<path d=\"m 239.64285,741.66071 -27.5,7.14286 0,10.71428 60,0 0,-10.71428 -27.5,-7.14286 -5,0 z\" style=\"fill:#000000;fill-opacity:1;stroke:#000000;stroke-width:2;stroke-miterlimit:4;stroke-opacity:1;stroke-dasharray:none\"></path>\n",
       "\t\t\t\t\t<g transform=\"translate(116.42857,10)\">\n",
       "\t\t\t\t\t\t<g class=\"wing\" transform=\"matrix({{wing.scalex * wing.scale}}, 0, 0, {{wing.scaley * wing.scale}}, {{wing.x + 126.01282195 * (1-wing.scalex * wing.scale)}}, {{wing.y + 662.03094 * (1-wing.scaley * wing.scale)}})\">\n",
       "\t\t\t\t\t\t\t<path style=\"fill:#000000;fill-opacity:1;stroke:none\" d=\"m 5.6979239,661.98376 0,11.62951 239.9543361,0 0,-11.62951 z\" transform=\"matrix({{wingrect.scalex * wingrect.scale}}, 0, 0, {{wingrect.scaley * wingrect.scale}}, {{wingrect.x + 125.67509195 * (1-wingrect.scalex * wingrect.scale)}}, {{wingrect.y + 667.798515 * (1-wingrect.scaley * wingrect.scale)}})\" class=\"wingrect\"></path>\n",
       "\t\t\t\t\t\t\t<path style=\"fill:#000000;fill-opacity:1;stroke:none\" d=\"m 116.35246,650.44861 -109.9790744,11.62951 239.9543344,0 -109.97907,-11.62951 z\" transform=\"matrix({{wingtaper.scalex * wingtaper.scale}}, 0, 0, {{wingtaper.scaley * wingtaper.scale}}, {{wingtaper.x + 126.3505528 * (1-wingtaper.scalex * wingtaper.scale)}}, {{wingtaper.y + 656.263365 * (1-wingtaper.scaley * wingtaper.scale)}})\" class=\"wingtaper\"></path>\n",
       "\t\t\t\t\t\t</g>\n",
       "\t\t\t\t\t</g>\n",
       "\t\t\t\t</g>\n",
       "\t\t\t</g>\n",
       "\t\t\t<g transform=\"matrix(0.33791059,0,0,0.33791059,-39.058658,848.18441)\">\n",
       "\t\t\t\t<g class=\"airfoil\" transform=\"matrix({{airfoil.scalex * airfoil.scale}}, 0, 0, {{airfoil.scaley * airfoil.scale}}, {{airfoil.x + 263.55751 * (1-airfoil.scalex * airfoil.scale)}}, {{airfoil.y + 555.132635 * (1-airfoil.scaley * airfoil.scale)}})\">\n",
       "\t\t\t\t\t<path d=\"m 116.59001,559.39951 c 0.16625,-9.0575 20.87875,-15.98625 45.98625,-19.4375 42.72125,-4.05625 87.9375,-5.07375 135.115,0.2375 16.51085,1.7946 34.20674,3.82764 51.79946,6.65278 21.25232,3.41282 42.35407,7.98155 61.03429,14.68222 -28.6475,-2.54375 -65.85625,2.9375 -112.59625,8.76875 -49.39875,4.5325 -90.3825,4.37125 -135.3525,0 -31.0175,-2.06125 -46.1475,-5.23625 -45.98625,-10.90375 z\" style=\"fill:#cccccc;stroke:#646464;stroke-width:2;stroke-linecap:butt;stroke-linejoin:miter;stroke-miterlimit:4;stroke-opacity:1;stroke-dasharray:none\"></path>\n",
       "\t\t\t\t\t<path d=\"m 162.57626,539.96201 0,30.10625 c 44.24875,4.74 89.445,4.74 135.58875,0 l 0,-29.86875 c -45.43375,-4.61 -82.8075,-5.17625 -135.58875,-0.2375 z\" style=\"fill:#000000;fill-opacity:1;stroke:#000000;stroke-width:0.85749996;stroke-linecap:butt;stroke-linejoin:miter;stroke-miterlimit:4;stroke-opacity:1;stroke-dasharray:none\"></path>\n",
       "\t\t\t\t\t<path d=\"m 162.57626,539.96201 0,30.10625 c 44.24874,4.74 89.445,4.74 135.58875,0 l 0,-29.86875 c -45.43376,-4.61 -82.80751,-5.17625 -135.58875,-0.2375 z\" style=\"fill:#ffffff;fill-opacity:1;stroke:#000000;stroke-width:0.85749996;stroke-linecap:butt;stroke-linejoin:miter;stroke-miterlimit:4;stroke-opacity:1;stroke-dasharray:none\" transform=\"matrix({{shearinner.scalex * shearinner.scale}}, 0, 0, {{shearinner.scaley * shearinner.scale}}, {{shearinner.x + 230.370635 * (1-shearinner.scalex * shearinner.scale)}}, {{shearinner.y + 555.015135 * (1-shearinner.scaley * shearinner.scale)}})\" class=\"shearinner\"></path>\n",
       "\t\t\t\t</g>\n",
       "\t\t\t</g>\n",
       "\t\t</g>\n",
       "\t</g>\n",
       "</svg>\n",
       "<div style=\"text-align: right; font-weight: 700; font-size: 2em;\">{{infeasibilitywarning}}</div>\n",
       "    </script>\n",
       "    <!-- <script src=\"https://ajax.googleapis.com/ajax/libs/jquery/2.1.3/jquery.min.js\"></script> -->\n",
       "    <script>\n",
       "    var fuel = {\n",
       "infeasibilitywarning: \"\",\n",
       "airfoil: {scalex: 1, scaley: 1, scale: 1, x:0, y:0},\n",
       "engine1: {scalex: 1, scaley: 1, scale: 1, x:0, y:0},\n",
       "engine2: {scalex: 1, scaley: 1, scale: 1, x:0, y:0},\n",
       "fuse: {scalex: 1, scaley: 1, scale: 1, x:0, y:0},\n",
       "plane: {scalex: 1, scaley: 1, scale: 1, x:0, y:0},\n",
       "shearinner: {scalex: 1, scaley: 1, scale: 1, x:0, y:0},\n",
       "wing: {scalex: 1, scaley: 1, scale: 1, x:0, y:0},\n",
       "wingrect: {scalex: 1, scaley: 1, scale: 1, x:0, y:0},\n",
       "wingtaper: {scalex: 1, scaley: 1, scale: 1, x:0, y:0},\n",
       "      }\n",
       "$.getScript('http://cdn.ractivejs.org/0.6.1/ractive.min.js', function () {\n",
       "var ractive = new Ractive({\n",
       "          el: 'ractivecontainer',\n",
       "          template: '#ractivetemplate',\n",
       "          magic: true,\n",
       "          data: fuel\n",
       "        }) })\n",
       "</script>\n",
       "<style> #ractivecontainer { position:absolute; height:0; right:0; top:24em; } </style>"
      ],
      "text/plain": [
       "<IPython.core.display.HTML object>"
      ]
     },
     "metadata": {},
     "output_type": "display_data"
    }
   ],
   "source": [
    "gpkit.interactive.showcadtoon(\"fuel\",\n",
    "\"position:absolute; height:0; right:0; top:24em;\")"
   ]
  },
  {
   "cell_type": "code",
   "execution_count": 14,
   "metadata": {
    "collapsed": false
   },
   "outputs": [
    {
     "data": {
      "text/html": [
       "<script>\n",
       "var W_eng = 4043.87397256,\n",
       "    lam = 0.600000003027\n",
       "\n",
       "fuel.shearinner.scalex = 1-0.0151828850772*10\n",
       "fuel.shearinner.scaley = 1-0.000809252674938*100\n",
       "fuel.airfoil.scaley = 0.198358367745/0.13\n",
       "fuel.fuse.scalex = 28743.8531739/24000\n",
       "fuel.wing.scalex = 24.9153154265/2/14\n",
       "fuel.wing.scaley = 1.87829737256*1.21\n",
       "\n",
       "\n",
       "fuel.engine1.scale = Math.pow(W_eng/3000, 2/3)\n",
       "fuel.engine2.scale = Math.pow(W_eng/3000, 2/3)\n",
       "fuel.engine1.y = 6*lam\n",
       "fuel.engine2.y = 6*lam\n",
       "fuel.wingrect.scaley = 1-lam\n",
       "fuel.wingrect.y = -6 + 5*lam\n",
       "fuel.wingtaper.scaley = lam\n",
       "fuel.wingtaper.y = 5*lam\n",
       "</script>"
      ],
      "text/plain": [
       "<IPython.core.display.HTML object>"
      ]
     },
     "metadata": {},
     "output_type": "display_data"
    },
    {
     "name": "stdout",
     "output_type": "stream",
     "text": [
      "\n",
      "Cost\n",
      "----\n",
      " 9144 [N] \n",
      "\n",
      "Sensitivities\n",
      "-------------\n",
      "          A_{prop} : -0.147   Propeller disk area         \n",
      "         C_{L,max} : -0.3388  Maximum C_L, flaps down     \n",
      "          N_{lift} : 0.3892   Wing loading multiplier     \n",
      "           R_{min} : 1.207    Minimum airplane range      \n",
      "    V_{sprintreqt} : 0.5452   sprint speed requirement    \n",
      "     V_{stall,max} : -0.6777  Stall speed                 \n",
      "         W_{fixed} : 0.8232   Fixed weight                \n",
      "            \\eta_v : -1.39    Propeller viscous efficiency\n",
      "        \\eta_{eng} : -1.39    Engine efficiency           \n",
      "               \\mu : 0.05899  Dynamic viscosity, 3000m    \n",
      "               \\pi : -0.6053  Half of the circle constant \n",
      "              \\rho : 0.1516   Air density, 3000m          \n",
      "       \\rho_{alum} : 0.3764   Density of aluminum         \n",
      "         \\rho_{sl} : -0.3388  Air density, sea level      \n",
      "\\sigma_{max,shear} : -0.01447 Allowable shear stress      \n",
      "      \\sigma_{max} : -0.3748  Allowable stress, 6061-T6   \n",
      "                 e : -0.6053  Wing spanwise efficiency    \n",
      "          f_{wadd} : 0.3764   Wing added weight fraction  \n",
      "                 g : 1.858    Gravitational constant      \n",
      "          h_{fuel} : -1.207   fuel heating value          \n",
      "               r_h : 0.01447  Wing strut taper parameter  \n",
      "                 w : -0.01279 Wing-box width/chord        \n",
      "\n"
     ]
    }
   ],
   "source": [
    "gpkit.interactive.ractorpy(m, fuelupdate_py,\n",
    "         {\"V_{stall,max}\": (20, 50, 0.3),\n",
    "          \"R_{min}\": (1e6, 1e7, 1e5),\n",
    "          \"V_{sprintreqt}\": (100, 200, 1)},\n",
    "         fuelconstraint_js)"
   ]
  },
  {
   "cell_type": "code",
   "execution_count": 14,
   "metadata": {
    "collapsed": false
   },
   "outputs": [],
   "source": [
    "# gpkit.interactive.ractorjs(\"fuel\", gp, fuelupdate_py,\n",
    "#          {\"V_{stall,max}\": (20, 50, 3),\n",
    "#           \"R_{min}\": (1e6, 1e7, 2e6),\n",
    "#           \"V_{sprintreqt}\": (100, 200, 20)},\n",
    "#          fuelconstraint_js)"
   ]
  },
  {
   "cell_type": "markdown",
   "metadata": {},
   "source": [
    "This concludes the aircraft example. Try playing around with the sliders up above until you're bored; then check out one of the other examples. Thanks for reading!"
   ]
  },
  {
   "cell_type": "markdown",
   "metadata": {},
   "source": [
    "### Import CSS for nbviewer\n",
    "\n",
    "If you have a local iPython stylesheet installed, this will add it to the iPython Notebook:"
   ]
  },
  {
   "cell_type": "code",
   "execution_count": 15,
   "metadata": {
    "collapsed": false
   },
   "outputs": [
    {
     "data": {
      "text/html": [
       "<style>\n",
       "@import url('http://fonts.googleapis.com/css?family=Crimson+Text');\n",
       "@import url('http://fonts.googleapis.com/css?family=Roboto');\n",
       "@import url('http://fonts.googleapis.com/css?family=Kameron');\n",
       "@import url('http://fonts.googleapis.com/css?family=Lato:200');\n",
       "@import url('http://fonts.googleapis.com/css?family=Lato:300');\n",
       "@import url('http://fonts.googleapis.com/css?family=Lato:400');\n",
       "@import url('http://fonts.googleapis.com/css?family=Source+Code+Pro');\n",
       "\n",
       "/* Change code font */\n",
       "pre {\n",
       "    font-family: 'Source Code Pro', Consolas, monocco, monospace;\n",
       "}\n",
       "\n",
       "div.input_area {\n",
       "    border-width: 0 0 0 1px;\n",
       "    border-color: rgba(0,0,0,0.10);\n",
       "    background: white;\n",
       "    border-radius: 0;\n",
       "}\n",
       "\n",
       "div.text_cell {\n",
       "    max-width: 105ex; /* instead of 100%, */\n",
       "}\n",
       "\n",
       "div.text_cell_render {\n",
       "    font-family: Roboto;\n",
       "    font-size: 12pt;\n",
       "    line-height: 145%; /* added for some line spacing of text. */\n",
       "}\n",
       "\n",
       "div.text_cell_render h1,\n",
       "div.text_cell_render h2,\n",
       "div.text_cell_render h3,\n",
       "div.text_cell_render h4,\n",
       "div.text_cell_render h5,\n",
       "div.text_cell_render h6 {\n",
       "    font-family: 'Roboto';\n",
       "}\n",
       "\n",
       "div.text_cell_render h1 {\n",
       "    font-size: 24pt;\n",
       "}\n",
       "\n",
       "div.text_cell_render h2 {\n",
       "    font-size: 18pt;\n",
       "}\n",
       "\n",
       "div.text_cell_render h3 {\n",
       "    font-size: 14pt;\n",
       "}\n",
       "\n",
       ".rendered_html pre,\n",
       ".rendered_html code {\n",
       "    font-size: medium;\n",
       "}\n",
       "\n",
       ".rendered_html ol {\n",
       "    list-style:decimal;\n",
       "    margin: 1em 2em;\n",
       "}\n",
       "\n",
       ".prompt {\n",
       "    opacity: 0.6;\n",
       "}\n",
       "\n",
       ".prompt.input_prompt {\n",
       "    color: #668;\n",
       "    font-family: 'Source Code Pro', Consolas, monocco, monospace;\n",
       "}\n",
       "\n",
       ".prompt.out_prompt_overlay {\n",
       "    font-family: 'Source Code Pro', Consolas, monocco, monospace;\n",
       "}\n",
       "\n",
       ".cell.command_mode.selected {\n",
       "    border-color: rgba(0,0,0,0.1);\n",
       "}\n",
       "\n",
       "div.cell.selected {\n",
       "    border-width: 0 0 0 1px;\n",
       "    border-color: rgba(0,0,0,0.1);\n",
       "    border-radius: 0;\n",
       "}\n",
       "\n",
       "div.output_scroll {\n",
       "    -webkit-box-shadow: inset 0 2px 8px rgba(0,0,0,0.1);\n",
       "    box-shadow: inset 0 2px 8px rgba(0,0,0,0.1);\n",
       "    border-radious: 2px;\n",
       "}\n",
       "\n",
       "#menubar .navbar-inner {\n",
       "    background: #fff;\n",
       "    -webkit-box-shadow: none;\n",
       "    box-shadow: none;\n",
       "    border-radius: 0;\n",
       "    border: none;\n",
       "    font-family: Roboto;\n",
       "    font-weight: 400;\n",
       "}\n",
       "\n",
       ".navbar-fixed-top .navbar-inner,\n",
       ".navbar-static-top .navbar-inner {\n",
       "    box-shadow: none;\n",
       "    -webkit-box-shadow: none;\n",
       "    border: none;\n",
       "}\n",
       "\n",
       "div#notebook_panel {\n",
       "    box-shadow: none;\n",
       "    -webkit-box-shadow: none;\n",
       "    border-top: none;\n",
       "}\n",
       "\n",
       "div#notebook {\n",
       "    border-top: 1px solid rgba(0,0,0,0.15);\n",
       "}\n",
       "\n",
       "#menubar .navbar .navbar-inner,\n",
       ".toolbar-inner {\n",
       "    padding-left: 0;\n",
       "    padding-right: 0;\n",
       "}\n",
       "\n",
       "#checkpoint_status,\n",
       "#autosave_status {\n",
       "    color: rgba(0,0,0,0.5);\n",
       "}\n",
       "\n",
       "#header {\n",
       "    font-family: Roboto;\n",
       "}\n",
       "\n",
       "#notebook_name {\n",
       "    font-weight: 200;\n",
       "}\n",
       "\n",
       "/*\n",
       "    This is a lazy fix, we *should* fix the\n",
       "    background for each Bootstrap button type\n",
       "*/\n",
       "#site * .btn {\n",
       "    background: #fafafa;\n",
       "    -webkit-box-shadow: none;\n",
       "    box-shadow: none;\n",
       "}\n",
       "\n",
       "</style>"
      ],
      "text/plain": [
       "<IPython.core.display.HTML object>"
      ]
     },
     "execution_count": 15,
     "metadata": {},
     "output_type": "execute_result"
    }
   ],
   "source": [
    "from IPython import utils\n",
    "from IPython.core.display import HTML\n",
    "import os\n",
    "def css_styling():\n",
    "    \"\"\"Load default custom.css file from ipython profile\"\"\"\n",
    "    base = utils.path.get_ipython_dir()\n",
    "    csspath = os.path.join(base,'profile_default/static/custom/custom.css')\n",
    "    styles = \"<style>\\n%s\\n</style>\" % (open(csspath,'r').read())\n",
    "    return HTML(styles)\n",
    "css_styling()"
   ]
  }
 ],
 "metadata": {
  "kernelspec": {
   "display_name": "Python 2",
   "language": "python",
   "name": "python2"
  },
  "language_info": {
   "codemirror_mode": {
    "name": "ipython",
    "version": 2
   },
   "file_extension": ".py",
   "mimetype": "text/x-python",
   "name": "python",
   "nbconvert_exporter": "python",
   "pygments_lexer": "ipython2",
   "version": "2.7.6"
  }
 },
 "nbformat": 4,
 "nbformat_minor": 0
}
