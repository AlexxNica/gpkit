{
 "metadata": {
  "name": "",
  "signature": "sha256:2f7f0d46287a4de0193e1bb83653895e6ad2ce1bce7e836191d361f373eace8e"
 },
 "nbformat": 3,
 "nbformat_minor": 0,
 "worksheets": [
  {
   "cells": [
    {
     "cell_type": "markdown",
     "metadata": {},
     "source": [
      "# WIND"
     ]
    },
    {
     "cell_type": "code",
     "collapsed": false,
     "input": [
      "import gpkit\n",
      "import gpkit.interactive\n",
      "gpkit.interactive.init_printing()\n",
      "\n",
      "%matplotlib inline\n",
      "import numpy as np\n",
      "import matplotlib.pyplot as plt"
     ],
     "language": "python",
     "metadata": {},
     "outputs": [],
     "prompt_number": 28
    },
    {
     "cell_type": "markdown",
     "metadata": {},
     "source": [
      "## Maximizing Differential Power"
     ]
    },
    {
     "cell_type": "code",
     "collapsed": false,
     "input": [
      "var = gpkit.Variable\n",
      "vec = gpkit.VectorVariable\n",
      "\n",
      "dCpdy = var(\"\\\\frac{dC_P}{dy}\")\n",
      "a = var(\"a\")\n",
      "b = var(\"b\")\n",
      "lam = var(\"\\\\lambda\")\n",
      "s = var(\"s\")\n",
      "xi = var(\"\\\\xi\")\n",
      "F = var(\"F\")\n",
      "y = var(\"y\")\n",
      "eps = var(\"\\\\epsilon\")"
     ],
     "language": "python",
     "metadata": {},
     "outputs": [],
     "prompt_number": 2
    },
    {
     "cell_type": "code",
     "collapsed": false,
     "input": [
      "gp = gpkit.GP(1/dCpdy,\n",
      "              [1 >= a + b,\n",
      "               2*a*b >= s*lam*y + s*xi,\n",
      "               xi**2 >= (lam*y)**2 + 4*a*b,\n",
      "               s*b >= dCpdy/(8*lam*y**2*F) + eps*a*b],\n",
      "              {F: 1, y: 0.75, eps: 1.0/30.0})\n",
      "gp"
     ],
     "language": "python",
     "metadata": {},
     "outputs": [
      {
       "latex": [
        "$$\\begin{array}[ll]\n",
        "\\text{}\n",
        "\\text{minimize}\n",
        "    & \\frac{1}{\\frac{dC_P}{dy}} \\\\\n",
        "\\text{subject to}\n",
        "    & 1 \\geq a + b \\\\\n",
        "    & 2a b \\geq \\lambda s y + s \\xi \\\\\n",
        "    & \\xi^{2} \\geq 4a b + \\lambda^{2} y^{2} \\\\\n",
        "    & b s \\geq 0.125\\frac{\\frac{dC_P}{dy}}{\\lambda F y^{2}} + a b \\epsilon \\\\\n",
        "\\text{substituting}\n",
        "    & F = 1 \\\\\n",
        "    & \\epsilon = 0.03333 \\\\\n",
        "    & y = 0.75 \\\\\n",
        "\\end{array}$$"
       ],
       "metadata": {},
       "output_type": "pyout",
       "prompt_number": 3,
       "text": [
        "                               gpkit.GP( # minimize                           \n",
        "                                    \\frac{dC_P}{dy}**-1,                      \n",
        "                                      [   # subject to                        \n",
        "                                          1 >= a + b,                         \n",
        "                                 2*a*b >= \\lambda*s*y + s*\\xi,                \n",
        "                               \\xi**2 >= 4*a*b + \\lambda**2*y**2,             \n",
        "              b*s >= 0.12*\\frac{dC_P}{dy}*\\lambda**-1*F**-1*y**-2 + a*b*\\epsil\n",
        "                                             ],                               \n",
        "              substitutions={ y: 0.75, F: 1, \\epsilon: 0.03333333333333333 }, \n",
        "                                      solver=\"cvxopt\")                        \n",
        "\n",
        "   \n",
        "   \n",
        "   \n",
        "   \n",
        "   \n",
        "   \n",
        "on,\n",
        "   \n",
        "   \n",
        "   "
       ]
      }
     ],
     "prompt_number": 3
    },
    {
     "cell_type": "code",
     "collapsed": false,
     "input": [
      "print gp.solve().table()"
     ],
     "language": "python",
     "metadata": {},
     "outputs": [
      {
       "output_type": "stream",
       "stream": "stdout",
       "text": [
        "Using solver 'cvxopt'\n",
        "Solving took 0.0168 seconds\n",
        "    1.3203 : Cost\n",
        "           | Free variables\n",
        "\\frac{dC_P}{dy} : 0.757    [-] \n",
        "   \\lambda : 2.57     [-] \n",
        "       \\xi : 2.14     [-] \n",
        "         a : 0.315    [-] \n",
        "         b : 0.685    [-] \n",
        "         s : 0.106    [-] \n",
        "           |\n",
        "           | Constants\n",
        "         F : 1        [-] \n",
        "  \\epsilon : 0.0333   [-] \n",
        "         y : 0.75     [-] \n",
        "           |\n",
        "           | Constant sensitivities\n",
        "         F : -1       [-] \n",
        "  \\epsilon : 0.11     [-] \n",
        "         y : -1       [-] \n",
        "           |\n"
       ]
      }
     ],
     "prompt_number": 4
    },
    {
     "cell_type": "markdown",
     "metadata": {},
     "source": [
      "## Maximizing Total Power"
     ]
    },
    {
     "cell_type": "code",
     "collapsed": false,
     "input": [
      "B = 3\n",
      "N = 20\n",
      "\n",
      "f = var(\"f\")\n",
      "pi = var(\"\\\\pi\", np.pi)\n",
      "DCp = var(\"(\\Delta C_P)\")\n",
      "xi = vec(N, \"\\\\xi\")\n",
      "#zeta = vec(N, \"\\\\zeta\")\n",
      "y = vec(N, \"y\")\n",
      "dy = vec(N, \"(\\Delta y)\")\n",
      "\n",
      "constraints = [1 >= a + b,\n",
      "               2*a*b >= s*lam*y + s*xi,\n",
      "               xi**2 >= (lam*y)**2 + 4*a*b,\n",
      "               s*b >= DCp/(8*lam*dy**2*F) + eps*a*b]\n",
      "\n",
      "constraints += [ y[-1] + dy[-1]/2 <= 1,\n",
      "                [y[i] + dy[i]/2 + dy[i+1]/2 <= y[i+1] for i in range(N-1)],\n",
      "                 #B*zeta[0]/(2*pi) + dy[0]/2 <= y[0],\n",
      "                 dy[0]/2 <= y[0],\n",
      "                 1/y >= 1 + 2*f*s/(B*a),\n",
      "                 1 >= F**1.56 + 1.655*F**5.51*f**-2.76   ]\n",
      "\n",
      "sol = gpkit.GP(1/(N*DCp), constraints, {eps: 0.05}).solve()\n",
      "print sol.table()"
     ],
     "language": "python",
     "metadata": {},
     "outputs": [
      {
       "output_type": "stream",
       "stream": "stdout",
       "text": [
        "Using solver 'cvxopt'\n",
        "Solving took 0.243 seconds"
       ]
      },
      {
       "output_type": "stream",
       "stream": "stdout",
       "text": [
        "\n",
        "    30.242 : Cost\n",
        "           | Free variables\n",
        "(\\Delta C_P) : 0.00165  [-] \n",
        "(\\Delta y) : 0.0402   [-] \n",
        "         F : 0.883    [-] \n",
        "   \\lambda : 3.57     [-] \n",
        "       \\xi : 2.47     [-] \n",
        "         a : 0.324    [-] \n",
        "         b : 0.676    [-] \n",
        "         f : 1.76     [-] \n",
        "         s : 0.0762   [-] \n",
        "         y : 0.402    [-] \n",
        "           |\n",
        "           | Constants\n",
        "  \\epsilon : 0.05     [-] \n",
        "           |\n",
        "           | Constant sensitivities\n",
        "  \\epsilon : 0.27     [-] \n",
        "           |\n"
       ]
      }
     ],
     "prompt_number": 36
    },
    {
     "cell_type": "code",
     "collapsed": false,
     "input": [
      "plt.plot(sol(xi))"
     ],
     "language": "python",
     "metadata": {},
     "outputs": [
      {
       "metadata": {},
       "output_type": "pyout",
       "prompt_number": 44,
       "text": [
        "[<matplotlib.lines.Line2D at 0x7f11d1adfad0>]"
       ]
      },
      {
       "metadata": {},
       "output_type": "display_data",
       "png": "[encoded data removed]",
       "text": [
        "<matplotlib.figure.Figure at 0x7f11d1b6d790>"
       ]
      }
     ],
     "prompt_number": 44
    }
   ],
   "metadata": {}
  }
 ]
}