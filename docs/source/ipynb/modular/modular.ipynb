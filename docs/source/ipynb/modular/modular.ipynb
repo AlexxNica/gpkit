{
 "metadata": {
  "name": "",
  "signature": "sha256:d7acaa522c99ae056586a944f4239258835d80b3c314b79931c21281475859e6"
 },
 "nbformat": 3,
 "nbformat_minor": 0,
 "worksheets": [
  {
   "cells": [
    {
     "cell_type": "markdown",
     "metadata": {},
     "source": [
      "<img src=\"fuellogo.svg\" style=\"float:left; padding-right:1em;\" width=150 />\n",
      "\n",
      "# (MODULAR) AIRPLANE FUEL\n",
      "*Minimize fuel needed for a plane that can sprint and land quickly.*\n",
      "\n",
      "### Set up the modelling environment\n",
      "\n",
      "First we'll to import GPkit and turn on $\\LaTeX$ printing for GPkit variables and equations."
     ]
    },
    {
     "cell_type": "code",
     "collapsed": false,
     "input": [
      "import numpy as np\n",
      "import gpkit\n",
      "import gpkit.interactive\n",
      "gpkit.interactive.init_printing()\n",
      "mon = gpkit.Variable\n",
      "vec = gpkit.VectorVariable\n",
      "\n",
      "def m(unitstr):\n",
      "    return gpkit.Variable(units=unitstr, value=1)\n",
      "def v(unitstr):\n",
      "    return gpkit.VectorVariable(3, units=unitstr, value=[1, 1, 1])"
     ],
     "language": "python",
     "metadata": {
      "slideshow": {
       "slide_type": "slide"
      }
     },
     "outputs": [],
     "prompt_number": 10
    },
    {
     "cell_type": "code",
     "collapsed": false,
     "input": [
      "class LandingCondition(gpkit.GP):\n",
      "    def setup(self, S=u(\"m^2\"), V_stallmax=40, C_Lmax=1.5):\n",
      "        W_mto = mon(\"W_{mto}\", \"N\", \"Maximum takeoff weight\")\n",
      "        rho_sl = mon(\"\\\\rho_{sl}\", 1.23, \"kg/m^3\", \"Air density, sea level\")\n",
      "        C_Lmax = mon(\"C_{L,max}\", C_Lmax, \"-\", \"Maximum C_L, flaps down\")\n",
      "        V_stallmax = mon(\"V_{stall,max}\", V_stallmax, \"m/s\", \"Stall speed\")\n",
      "        V_stall  = mon(\"V_{stall}\", \"m/s\", \"Stall speed\")\n",
      "    \n",
      "        constraints = (W_mto <= 0.5*rho_sl*V_stall**2*C_Lmax*S,\n",
      "                       V_stall <= V_stallmax)\n",
      "        cost = 1/W_mto\n",
      "        return cost, constraints\n",
      "    \n",
      "LandingCondition().test()"
     ],
     "language": "python",
     "metadata": {},
     "outputs": [
      {
       "output_type": "stream",
       "stream": "stdout",
       "text": [
        "LandingCondition solved successfully with default settings.\n"
       ]
      }
     ],
     "prompt_number": 12
    },
    {
     "cell_type": "code",
     "collapsed": false,
     "input": [
      "class SteadyLevelFlight(gpkit.GP):\n",
      "    def setup(self, S=m(\"m^2\"), A=m(\"-\"), V=v(\"m/s\"), T=v(\"N\"),\n",
      "              C_L=v(\"-\"), C_D=v(\"-\"), rho=m(\"kg/m^3\"), mu=m(\"kg/m/s\")):\n",
      "        N = len(V)\n",
      "        Re = vec(N, \"Re\", \"-\", \"Reynold's number\", model=\"FlightConditions\")\n",
      "        W  = vec(N, \"W\", \"N\", \"Aircraft weight\", model=\"FlightConditions\")\n",
      "        constraints = (W == 0.5*rho*C_L*S*V**2,\n",
      "                       T >= 0.5*rho*C_D*S*V**2,\n",
      "                       Re == (rho/mu)*V*(S/A)**0.5)\n",
      "        cost = T.prod()/W.prod()\n",
      "        return cost, constraints\n",
      "\n",
      "SteadyLevelFlight().test()"
     ],
     "language": "python",
     "metadata": {},
     "outputs": [
      {
       "output_type": "stream",
       "stream": "stdout",
       "text": [
        "SteadyLevelFlight solved successfully with default settings.\n"
       ]
      }
     ],
     "prompt_number": 62
    },
    {
     "cell_type": "code",
     "collapsed": false,
     "input": [
      "class SprintCondition(gpkit.GP):\n",
      "    def setup(self, T=v(\"N\"), V=v(\"m/s\"), eta_0=v(\"-\"), V_sprint=0.1):\n",
      "        V_sprint = mon(\"V_{sprintreqt}\", V_sprint, \"m/s\", \"sprint speed requirement\")\n",
      "        P        = mon(\"P\", \"W\", \"engine power\")\n",
      "        W_eng    = mon(\"W_{eng}\", \"N\")\n",
      "        \n",
      "        constraints = (P >= T[2]*V[2]/eta_0[2],\n",
      "                       V[2] >= V_sprint,\n",
      "                       W_eng >= 0.0372*P**0.8083 * gpkit.units.parse_expression('N/W^0.8083'))\n",
      "        cost = W_eng\n",
      "        return cost, constraints\n",
      "\n",
      "SprintCondition().test()"
     ],
     "language": "python",
     "metadata": {},
     "outputs": [
      {
       "output_type": "stream",
       "stream": "stdout",
       "text": [
        "SprintCondition solved successfully with default settings.\n"
       ]
      }
     ],
     "prompt_number": 14
    },
    {
     "cell_type": "code",
     "collapsed": false,
     "input": [
      "class DragFitModel(gpkit.GP):\n",
      "    def setup(self, C_D=10*v(\"-\"), C_L=v(\"-\"), pi=3.14, A=m(\"-\"),\n",
      "              S=m(\"m^2\"), tau=m(\"-\"), Re=1e4*v(\"-\")):\n",
      "        e    = mon(\"e\", 0.95, \"-\", \"Wing spanwise efficiency\")\n",
      "        C_Dp = vec(len(C_D), \"C_{D_p}\", \"-\", \"fit to xrotor drag\")\n",
      "        \n",
      "        constraints = (C_D >= (0.05/S)*gpkit.units.m**2 + C_Dp + C_L**2/(pi*e*A),\n",
      "                       1 >= (2.56*C_L**5.88/(Re**1.54*tau**3.32*C_Dp**2.62) +\n",
      "                            3.8e-9*tau**6.23/(C_L**0.92*Re**1.38*C_Dp**9.57) +\n",
      "                            2.2e-3*Re**0.14*tau**0.033/(C_L**0.01*C_Dp**0.73) +\n",
      "                            1.19e4*C_L**9.78*tau**1.76/(Re*C_Dp**0.91) +\n",
      "                            6.14e-6*C_L**6.53/(Re**0.99*tau**0.52*C_Dp**5.19)))\n",
      "        cost = C_D.prod()\n",
      "        return cost, constraints\n",
      "\n",
      "DragFitModel().test()"
     ],
     "language": "python",
     "metadata": {},
     "outputs": [
      {
       "output_type": "stream",
       "stream": "stdout",
       "text": [
        "DragFitModel solved successfully with default settings.\n"
       ]
      }
     ],
     "prompt_number": 40
    },
    {
     "cell_type": "code",
     "collapsed": false,
     "input": [
      "class PropulsiveEfficiency(gpkit.GP):\n",
      "    def setup(self, T=v(\"N\"), rho=m(\"kg/m^3\"), V=v(\"m/s\"), A_prop=1):\n",
      "        A_prop   = mon(\"A_{prop}\", A_prop, \"m^2\", \"Propeller disk area\")\n",
      "        eta_eng  = mon(\"\\\\eta_{eng}\", 0.35, \"-\", \"Engine efficiency\")\n",
      "        eta_v    = mon(\"\\\\eta_v\", 0.85, \"-\", \"Propeller viscous efficiency\")\n",
      "        eta_i    = vec(3, \"\\\\eta_i\", \"-\", \"Aircraft efficiency\")\n",
      "        eta_prop = vec(3, \"\\\\eta_{prop}\", \"-\", \"Propeller efficiency\")\n",
      "        eta_0    = vec(3, \"\\\\eta_0\", \"-\")\n",
      "        \n",
      "        constraints = (eta_0 <= eta_eng*eta_prop,\n",
      "                       eta_prop <= eta_i*eta_v,\n",
      "                       4*eta_i + T*eta_i**2/(0.5*rho*V**2*A_prop) <= 4)\n",
      "        cost = 1/eta_0.prod()\n",
      "        return cost, constraints\n",
      "\n",
      "PropulsiveEfficiency().test()"
     ],
     "language": "python",
     "metadata": {},
     "outputs": [
      {
       "output_type": "stream",
       "stream": "stdout",
       "text": [
        "PropulsiveEfficiency solved successfully with default settings.\n"
       ]
      }
     ],
     "prompt_number": 42
    },
    {
     "cell_type": "code",
     "collapsed": false,
     "input": [
      "class FuelConsumption(gpkit.GP):\n",
      "    def setup(self, g=m(\"m/s^2\"), T=v(\"N\"), eta_0=v(\"-\"), W=v(\"N\"), R_min=10):\n",
      "        R_min  = mon(\"R_{min}\", R_min, \"m\", \"Minimum airplane range\")\n",
      "        h_fuel = mon(\"h_{fuel}\", 42e6, \"J/kg\", \"fuel heating value\")\n",
      "        R      = mon(\"R\", \"m\", \"Airplane range\")\n",
      "        z_bre  = vec(2, \"z_{bre}\", \"-\")\n",
      "        W_fuel = vec(2, \"W_{fuel}\", \"N\", \"Fuel weight\")\n",
      "\n",
      "        # 4th order taylor approximation for e^x\n",
      "        z_bre_sum = 0\n",
      "        for i in range(1,5):\n",
      "            z_bre_sum += z_bre**i/np.math.factorial(i)\n",
      "\n",
      "        constraints = (R >= R_min,\n",
      "                       z_bre >= g*R*T[:2]/(h_fuel*eta_0[:2]*W[:2]),\n",
      "                       W_fuel/W[:2] >= z_bre_sum)\n",
      "        cost = W_fuel.sum()\n",
      "        return cost, constraints\n",
      "\n",
      "FuelConsumption().test()"
     ],
     "language": "python",
     "metadata": {},
     "outputs": [
      {
       "output_type": "stream",
       "stream": "stdout",
       "text": [
        "FuelConsumption solved successfully with default settings.\n"
       ]
      }
     ],
     "prompt_number": 54
    },
    {
     "cell_type": "code",
     "collapsed": false,
     "input": [
      "class SparModel(gpkit.GP):\n",
      "    def setup(self, g=9.81*m(\"m/s^2\"), tau=0.25*m(\"-\"), A=21*m(\"-\"), S=21*m(\"m^2\"), W=3e5*v(\"N\"), W_tw=2e4*m(\"N\")):\n",
      "        N_lift         = mon(\"N_{lift}\", 6.0, \"-\", \"Wing loading multiplier\")\n",
      "        sigma_max      = mon(\"\\\\sigma_{max}\", 250e6, \"Pa\", \"Allowable stress, 6061-T6\")\n",
      "        sigma_maxshear = mon(\"\\\\sigma_{max,shear}\", 167e6, \"Pa\", \"Allowable shear stress\")\n",
      "        w              = mon(\"w\", 0.5, \"-\", \"Wing-box width/chord\")\n",
      "        r_h            = mon(\"r_h\", 0.75, \"-\", \"Wing strut taper parameter\")\n",
      "        I_cap          = mon(\"I_{cap}\", \"m^4\", \"Spar cap area moment of inertia per unit chord\")\n",
      "        M_rbar         = mon(\"\\\\bar{M}_r\", \"-\")\n",
      "        rho_alum       = mon(\"\\\\rho_{alum}\", 2700, \"kg/m^3\", \"Density of aluminum\")\n",
      "        nu             = mon(\"\\\\nu\", \"-\")\n",
      "        p              = mon(\"p\", \"-\")\n",
      "        q              = mon(\"q\", \"-\")\n",
      "        t_cap          = mon(\"t_{cap}\", \"-\")\n",
      "        t_web          = mon(\"t_{web}\", \"-\")\n",
      "        W_cap          = mon(\"W_{cap}\", \"N\")\n",
      "        W_web          = mon(\"W_{web}\", \"N\")\n",
      "        \n",
      "        constraints = (2*q >= 1 + p,\n",
      "                       p >= 2.2,\n",
      "                       tau <= 0.25,\n",
      "                       M_rbar >= W_tw*A*p/(24*gpkit.units.N),\n",
      "                       .92**2/2.*w*tau**2*t_cap >= I_cap * gpkit.units.m**-4 + .92*w*tau*t_cap**2,\n",
      "                       8 >= N_lift*M_rbar*A*q**2*tau/S/I_cap/sigma_max * gpkit.units.parse_expression('Pa*m**6'),\n",
      "                       12 >= A*W_tw*N_lift*q**2/tau/S/t_web/sigma_maxshear,\n",
      "                       nu**3.94 >= .86*p**-2.38 + .14*p**0.56,\n",
      "                       W_cap >= 8*rho_alum*g*w*t_cap*S**1.5*nu/3/A**.5,\n",
      "                       W_web >= 8*rho_alum*g*r_h*tau*t_web*S**1.5*nu/3/A**.5)\n",
      "        cost = W_cap + W_web\n",
      "        return cost, constraints\n",
      "\n",
      "SparModel().test()"
     ],
     "language": "python",
     "metadata": {},
     "outputs": [
      {
       "output_type": "stream",
       "stream": "stdout",
       "text": [
        "SparModel solved successfully with default settings.\n"
       ]
      }
     ],
     "prompt_number": 75
    },
    {
     "cell_type": "code",
     "collapsed": false,
     "input": [
      "class FlightConditions(gpkit.GP):\n",
      "    def setup(self):\n",
      "        pi       = mon(\"\\\\pi\", np.pi, \"-\", \"Half of the circle constant\", model=\"FlightConditions\")\n",
      "        g        = mon(\"g\", 9.8, \"m/s^2\", \"Gravitational constant\", model=\"FlightConditions\")\n",
      "        f_wadd   = mon(\"f_{wadd}\", 2, \"-\", \"Wing added weight fraction\", model=\"FlightConditions\")\n",
      "        W_fixed  = mon(\"W_{fixed}\", 14.7e3, \"N\", \"Fixed weight\", model=\"FlightConditions\")\n",
      "        rho      = mon(\"\\\\rho\", 0.91, \"kg/m^3\", \"Air density, 3000m\", model=\"FlightConditions\")\n",
      "        mu       = mon(\"\\\\mu\", 1.69e-5, \"kg/m/s\", \"Dynamic viscosity, 3000m\", model=\"FlightConditions\")\n",
      "        S        = mon(\"S\", \"m^2\", \"Wing area\", model=\"FlightConditions\")\n",
      "        A        = mon(\"A\", \"-\", \"Aspect Ratio\", model=\"FlightConditions\")\n",
      "        tau      = mon(\"\\\\tau\", \"-\", model=\"FlightConditions\")\n",
      "        W_zfw    = mon(\"W_{zfw}\", \"N\", \"Zero fuel weight\", model=\"FlightConditions\")\n",
      "        W_pay    = mon(\"W_{pay}\", \"N\", model=\"FlightConditions\")\n",
      "        W_tw     = mon(\"W_{tw}\", \"N\", model=\"FlightConditions\")\n",
      "        W_wing   = mon(\"W_{wing}\", \"N\", model=\"FlightConditions\")\n",
      "        V        = vec(3, \"V\", \"m/s\", \"Flight speed\", model=\"FlightConditions\")\n",
      "        C_L      = vec(3, \"C_L\", \"-\", \"Wing lift coefficent\", model=\"FlightConditions\")\n",
      "        C_D      = vec(3, \"C_D\", \"-\", \"Wing drag coefficent\", model=\"FlightConditions\")\n",
      "        T        = vec(3, \"T\", \"N\", \"Thrust force\", model=\"FlightConditions\")\n",
      "\n",
      "        constraints = (W_pay >= 500*g*gpkit.units.kg, )\n",
      "\n",
      "        self.slf = SteadyLevelFlight(S, A, V, T, C_L, C_D, rho, mu)\n",
      "        W, Re = self.slf.vars(\"W\", \"Re\")\n",
      "\n",
      "        self.drag = DragFitModel(C_D, C_L, pi, A, S, tau, Re)\n",
      "\n",
      "        self.propeff = PropulsiveEfficiency(T, rho, V, A_prop=0.785)\n",
      "        eta_0 = self.propeff.vars(\"\\\\eta_0\")\n",
      "\n",
      "        self.fuelcon = FuelConsumption(g, T, eta_0, W, R_min=1e6)\n",
      "        W_fuel = self.fuelcon.vars(\"W_{fuel}\")\n",
      "\n",
      "        self.landing = LandingCondition(S, V_stallmax=40, C_Lmax=1.5)\n",
      "        W_mto = self.landing.vars(\"W_{mto}\")\n",
      "\n",
      "        constraints += (W_mto >= W[0] + W_fuel[0],\n",
      "                        W[0] >= W_zfw + W_fuel[1],\n",
      "                        W[1] >= W_zfw,\n",
      "                        W[2] == W[0], )\n",
      "\n",
      "        self.sprint = SprintCondition(T, V, eta_0, V_sprint=150)\n",
      "        P, W_eng = self.sprint.vars(\"P\", \"W_{eng}\")\n",
      "\n",
      "        constraints += (W_tw >= W_fixed + W_pay + W_eng,\n",
      "                        W_zfw >= W_tw + W_wing, )\n",
      "\n",
      "        self.spar = SparModel(g, tau, A, S, W, W_tw)\n",
      "        W_cap, W_web = self.spar.vars(\"W_{cap}\", \"W_{web}\")\n",
      "\n",
      "        constraints += (W_wing/f_wadd >= W_cap + W_web, )\n",
      "\n",
      "        constraints += (self.slf + self.drag + self.propeff + self.sprint + self.landing + self.spar + self.fuelcon).constraints\n",
      "\n",
      "        cost = W_fuel.sum()\n",
      "\n",
      "        return cost, constraints\n",
      "\n",
      "    def calc(self, sol):\n",
      "        return {\"\\\\lambda\": 0.5*(self(self.spar[\"p\"]) - 1)}"
     ],
     "language": "python",
     "metadata": {
      "slideshow": {
       "slide_type": "slide"
      }
     },
     "outputs": [],
     "prompt_number": 63
    },
    {
     "cell_type": "code",
     "collapsed": false,
     "input": [
      "fc = FlightConditions()"
     ],
     "language": "python",
     "metadata": {},
     "outputs": [],
     "prompt_number": 64
    },
    {
     "cell_type": "code",
     "collapsed": false,
     "input": [
      "__ = fc.solve()"
     ],
     "language": "python",
     "metadata": {},
     "outputs": [
      {
       "output_type": "stream",
       "stream": "stdout",
       "text": [
        "Using solver 'cvxopt'\n",
        "Solving took 0.114 seconds"
       ]
      },
      {
       "output_type": "stream",
       "stream": "stdout",
       "text": [
        "\n"
       ]
      }
     ],
     "prompt_number": 65
    },
    {
     "cell_type": "code",
     "collapsed": false,
     "input": [
      "fc[\"T\"]"
     ],
     "language": "python",
     "metadata": {},
     "outputs": [
      {
       "metadata": {},
       "output_type": "pyout",
       "prompt_number": 8,
       "text": [
        "array([  772.25658165,   756.2504692 ,  2227.53145292])"
       ]
      }
     ],
     "prompt_number": 8
    },
    {
     "cell_type": "code",
     "collapsed": false,
     "input": [
      "fc.varkeys"
     ],
     "language": "python",
     "metadata": {},
     "outputs": [
      {
       "metadata": {},
       "output_type": "pyout",
       "prompt_number": 76,
       "text": [
        "{'A': A_FlightConditions,\n",
        " 'A_{prop}': A_{prop}_PropulsiveEfficiency1,\n",
        " 'C_D_0': C_D_FlightConditions_0,\n",
        " 'C_D_1': C_D_FlightConditions_1,\n",
        " 'C_D_2': C_D_FlightConditions_2,\n",
        " 'C_L_0': C_L_FlightConditions_0,\n",
        " 'C_L_1': C_L_FlightConditions_1,\n",
        " 'C_L_2': C_L_FlightConditions_2,\n",
        " 'C_{D_p}_0': C_{D_p}_DragFitModel1_0,\n",
        " 'C_{D_p}_1': C_{D_p}_DragFitModel1_1,\n",
        " 'C_{D_p}_2': C_{D_p}_DragFitModel1_2,\n",
        " 'C_{L,max}': C_{L,max}_LandingCondition1,\n",
        " 'I_{cap}': I_{cap}_SparModel1,\n",
        " 'N_{lift}': N_{lift}_SparModel1,\n",
        " 'P': P_SprintCondition1,\n",
        " 'R': R_FuelConsumption1,\n",
        " 'R_{min}': R_{min}_FuelConsumption1,\n",
        " 'Re_0': Re_FlightConditions_0,\n",
        " 'Re_1': Re_FlightConditions_1,\n",
        " 'Re_2': Re_FlightConditions_2,\n",
        " 'S': S_FlightConditions,\n",
        " 'T_0': T_FlightConditions_0,\n",
        " 'T_1': T_FlightConditions_1,\n",
        " 'T_2': T_FlightConditions_2,\n",
        " 'V_0': V_FlightConditions_0,\n",
        " 'V_1': V_FlightConditions_1,\n",
        " 'V_2': V_FlightConditions_2,\n",
        " 'V_{sprintreqt}': V_{sprintreqt}_SprintCondition1,\n",
        " 'V_{stall,max}': V_{stall,max}_LandingCondition1,\n",
        " 'V_{stall}': V_{stall}_LandingCondition1,\n",
        " 'W_0': W_FlightConditions_0,\n",
        " 'W_1': W_FlightConditions_1,\n",
        " 'W_2': W_FlightConditions_2,\n",
        " 'W_{cap}': W_{cap}_SparModel1,\n",
        " 'W_{eng}': W_{eng}_SprintCondition1,\n",
        " 'W_{fixed}': W_{fixed}_FlightConditions,\n",
        " 'W_{fuel}_0': W_{fuel}_FuelConsumption1_0,\n",
        " 'W_{fuel}_1': W_{fuel}_FuelConsumption1_1,\n",
        " 'W_{mto}': W_{mto}_LandingCondition1,\n",
        " 'W_{pay}': W_{pay}_FlightConditions,\n",
        " 'W_{tw}': W_{tw}_FlightConditions,\n",
        " 'W_{web}': W_{web}_SparModel1,\n",
        " 'W_{wing}': W_{wing}_FlightConditions,\n",
        " 'W_{zfw}': W_{zfw}_FlightConditions,\n",
        " '\\\\bar{M}_r': \\bar{M}_r_SparModel1,\n",
        " '\\\\eta_0_0': \\eta_0_PropulsiveEfficiency1_0,\n",
        " '\\\\eta_0_1': \\eta_0_PropulsiveEfficiency1_1,\n",
        " '\\\\eta_0_2': \\eta_0_PropulsiveEfficiency1_2,\n",
        " '\\\\eta_i_0': \\eta_i_PropulsiveEfficiency1_0,\n",
        " '\\\\eta_i_1': \\eta_i_PropulsiveEfficiency1_1,\n",
        " '\\\\eta_i_2': \\eta_i_PropulsiveEfficiency1_2,\n",
        " '\\\\eta_v': \\eta_v_PropulsiveEfficiency1,\n",
        " '\\\\eta_{eng}': \\eta_{eng}_PropulsiveEfficiency1,\n",
        " '\\\\eta_{prop}_0': \\eta_{prop}_PropulsiveEfficiency1_0,\n",
        " '\\\\eta_{prop}_1': \\eta_{prop}_PropulsiveEfficiency1_1,\n",
        " '\\\\eta_{prop}_2': \\eta_{prop}_PropulsiveEfficiency1_2,\n",
        " '\\\\mu': \\mu_FlightConditions,\n",
        " '\\\\nu': \\nu_SparModel1,\n",
        " '\\\\pi': \\pi_FlightConditions,\n",
        " '\\\\rho': \\rho_FlightConditions,\n",
        " '\\\\rho_{alum}': \\rho_{alum}_SparModel1,\n",
        " '\\\\rho_{sl}': \\rho_{sl}_LandingCondition1,\n",
        " '\\\\sigma_{max,shear}': \\sigma_{max,shear}_SparModel1,\n",
        " '\\\\sigma_{max}': \\sigma_{max}_SparModel1,\n",
        " '\\\\tau': \\tau_FlightConditions,\n",
        " 'e': e_DragFitModel1,\n",
        " 'f_{wadd}': f_{wadd}_FlightConditions,\n",
        " 'g': g_FlightConditions,\n",
        " 'h_{fuel}': h_{fuel}_FuelConsumption1,\n",
        " 'p': p_SparModel1,\n",
        " 'q': q_SparModel1,\n",
        " 'r_h': r_h_SparModel1,\n",
        " 't_{cap}': t_{cap}_SparModel1,\n",
        " 't_{web}': t_{web}_SparModel1,\n",
        " 'w': w_SparModel1,\n",
        " 'z_{bre}_0': z_{bre}_FuelConsumption1_0,\n",
        " 'z_{bre}_1': z_{bre}_FuelConsumption1_1}"
       ]
      }
     ],
     "prompt_number": 76
    },
    {
     "cell_type": "markdown",
     "metadata": {},
     "source": [
      "### Import CSS for nbviewer\n",
      "\n",
      "If you have a local iPython stylesheet installed, this will add it to the iPython Notebook:"
     ]
    },
    {
     "cell_type": "code",
     "collapsed": false,
     "input": [
      "from IPython import utils\n",
      "from IPython.core.display import HTML\n",
      "import os\n",
      "def css_styling():\n",
      "    \"\"\"Load default custom.css file from ipython profile\"\"\"\n",
      "    base = utils.path.get_ipython_dir()\n",
      "    styles = \"<style>\\n%s\\n</style>\" % (open(os.path.join(base,'profile_default/static/custom/custom.css'),'r').read())\n",
      "    return HTML(styles)\n",
      "css_styling()"
     ],
     "language": "python",
     "metadata": {},
     "outputs": []
    },
    {
     "cell_type": "code",
     "collapsed": false,
     "input": [],
     "language": "python",
     "metadata": {},
     "outputs": []
    }
   ],
   "metadata": {}
  }
 ]
}