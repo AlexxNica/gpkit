{
 "cells": [
  {
   "cell_type": "markdown",
   "metadata": {},
   "source": [
    "<img src=\"fuellogo.svg\" style=\"float:left; padding-right:1em;\" width=150 />\n",
    "\n",
    "# (MODULAR) AIRPLANE FUEL\n",
    "*Minimize fuel needed for a plane that can sprint and land quickly.*\n",
    "\n",
    "### Set up the modelling environment\n",
    "\n",
    "First we'll to import GPkit and turn on $\\LaTeX$ printing for GPkit variables and equations. Then we'll create a few helper functions, though there should really be a better way to do this."
   ]
  },
  {
   "cell_type": "code",
   "execution_count": 1,
   "metadata": {
    "collapsed": false,
    "slideshow": {
     "slide_type": "slide"
    }
   },
   "outputs": [],
   "source": [
    "import numpy as np\n",
    "from gpkit import Model, Variable, units, ConstraintBase"
   ]
  },
  {
   "cell_type": "markdown",
   "metadata": {},
   "source": [
    "## Model.setup(self, ...)\n",
    "\n",
    "Note the `setup` function, which creates the Model's cost and constraints, then returns them to the `__init__` function."
   ]
  },
  {
   "cell_type": "markdown",
   "metadata": {},
   "source": [
    "## Model().test()\n",
    "\n",
    "It's a good idea to check that the model works with some default values."
   ]
  },
  {
   "cell_type": "code",
   "execution_count": 2,
   "metadata": {
    "collapsed": false
   },
   "outputs": [
    {
     "data": {
      "text/latex": [
       "$$\\begin{bmatrix}{W}_{['Cruising']} = 0.5{C_L}_{['Cruising']} {S}_{['Cruising']} {V}_{['Cruising']}^{2} {\\rho}_{['Cruising']} \\\\\n",
       "{T}_{['Cruising']} \\geq 0.5{C_D}_{['Cruising']} {S}_{['Cruising']} {V}_{['Cruising']}^{2} {\\rho}_{['Cruising']} \\\\\n",
       "{Re}_{['Cruising']} = \\frac{{S}_{['Cruising']}^{0.5} {V}_{['Cruising']} {\\rho}_{['Cruising']}}{{A}_{['Cruising']}^{0.5} {\\mu}_{['Cruising']}}\\end{bmatrix}$$"
      ],
      "text/plain": [
       "gpkit.Cruising([W_['Cruising'] [N] = 0.5*C_L_['Cruising']*S_['Cruising']*V_['Cruising']**2*\\rho_['Cruising'] [kg*m/s**2], T_['Cruising'] [N] >= 0.5*C_D_['Cruising']*S_['Cruising']*V_['Cruising']**2*\\rho_['Cruising'] [kg*m/s**2], Re_['Cruising'] [-] = A_['Cruising']**-0.5*S_['Cruising']**0.5*V_['Cruising']*\\mu_['Cruising']**-1*\\rho_['Cruising'] [-]])"
      ]
     },
     "execution_count": 2,
     "metadata": {},
     "output_type": "execute_result"
    }
   ],
   "source": [
    "class Cruising(ConstraintBase):\n",
    "    def setup(self):\n",
    "        rho = Variable(\"\\\\rho\", 0.91, \"kg/m^3\", \"Air density, 3000m\")\n",
    "        mu = Variable(\"\\\\mu\", 1.69e-5, \"kg/m/s\", \"Dynamic viscosity, 3000m\")\n",
    "        A = Variable(\"A\", \"-\", \"Aspect Ratio\")\n",
    "        S = Variable(\"S\", \"m^2\", \"Wing area\")\n",
    "        V = Variable(\"V\", \"m/s\", \"Flight speed\")\n",
    "        C_L = Variable(\"C_L\", \"-\", \"Wing lift coefficent\")\n",
    "        C_D = Variable(\"C_D\", \"-\", \"Wing drag coefficent\")\n",
    "        T = Variable(\"T\", \"N\", \"Thrust force\")\n",
    "        Re = Variable(\"Re\", \"-\", \"Reynold's number\")\n",
    "        W  = Variable(\"W\", \"N\", \"Aircraft weight\")\n",
    "        constraints = [W == 0.5*rho*C_L*S*V**2,\n",
    "                       T >= 0.5*rho*C_D*S*V**2,\n",
    "                       Re == (rho/mu)*V*(S/A)**0.5]\n",
    "#         cost = T/W\n",
    "        return constraints\n",
    "\n",
    "#     def test(self):\n",
    "#         self.substitutions.update({\"S\":10, \"C_L\":1, \"C_D\":1, \"V\":10, \"A\":1})\n",
    "#         self.solve(verbosity=0)\n",
    "\n",
    "Cruising()"
   ]
  },
  {
   "cell_type": "code",
   "execution_count": 3,
   "metadata": {
    "collapsed": false
   },
   "outputs": [
    {
     "data": {
      "text/latex": [
       "$$\\begin{bmatrix}{\\eta_0}_{['Engine']} \\leq {\\eta_{eng}}_{['Engine']} {\\eta_{prop}}_{['Engine']} \\\\\n",
       "{\\eta_{prop}}_{['Engine']} \\leq {\\eta_i}_{['Engine']} {\\eta_v}_{['Engine']} \\\\\n",
       "4 \\geq 2\\frac{{T}_{['Engine']} {\\eta_i}_{['Engine']}^{2}}{{A_{prop}}_{['Engine']} {V}_{['Engine']}^{2} {\\rho}_{['Engine']}} + 4{\\eta_i}_{['Engine']} \\\\\n",
       "{P}_{['Engine']} \\geq \\frac{{T}_{['Engine']} {V}_{['Engine']}}{{\\eta_0}_{['Engine']}} \\\\\n",
       "{W_{eng}}_{['Engine']} \\geq 0.0372{P}_{['Engine']}^{0.81}\\end{bmatrix}$$"
      ],
      "text/plain": [
       "gpkit.Engine([\\eta_0_['Engine'] [-] <= \\eta_{eng}_['Engine']*\\eta_{prop}_['Engine'] [-], \\eta_{prop}_['Engine'] [-] <= \\eta_i_['Engine']*\\eta_v_['Engine'] [-], 4 >= 2*A_{prop}_['Engine']**-1*T_['Engine']*V_['Engine']**-2*\\eta_i_['Engine']**2*\\rho_['Engine']**-1 + 4*\\eta_i_['Engine'] [-], P_['Engine'] [W] >= T_['Engine']*V_['Engine']*\\eta_0_['Engine']**-1 [N*m/s], W_{eng}_['Engine'] [N] >= 0.0372*P_['Engine']**0.81 [N]])"
      ]
     },
     "execution_count": 3,
     "metadata": {},
     "output_type": "execute_result"
    }
   ],
   "source": [
    "class Engine(ConstraintBase):\n",
    "    def setup(self):\n",
    "        T = Variable(\"T\", \"N\", \"Thrust force\")\n",
    "        rho = Variable(\"\\\\rho\", 0.91, \"kg/m^3\", \"Air density, 3000m\")\n",
    "        V = Variable(\"V\", \"m/s\", \"Flight speed\")\n",
    "        P = Variable(\"P\", \"W\", \"engine power\")\n",
    "        W_eng = Variable(\"W_{eng}\", \"N\")\n",
    "        A_prop   = Variable(\"A_{prop}\", 0.785, \"m^2\", \"Propeller disk area\")\n",
    "        eta_eng  = Variable(\"\\\\eta_{eng}\", 0.35, \"-\", \"Engine efficiency\")\n",
    "        eta_v    = Variable(\"\\\\eta_v\", 0.85, \"-\", \"Propeller viscous efficiency\")\n",
    "        eta_i    = Variable(\"\\\\eta_i\", \"-\", \"Aircraft efficiency\")\n",
    "        eta_prop = Variable(\"\\\\eta_{prop}\", \"-\", \"Propeller efficiency\")\n",
    "        eta_0    = Variable(\"\\\\eta_0\", \"-\")\n",
    "        \n",
    "        constraints = (eta_0 <= eta_eng*eta_prop,\n",
    "                       eta_prop <= eta_i*eta_v,\n",
    "                       4*eta_i + T*eta_i**2/(0.5*rho*V**2*A_prop) <= 4,\n",
    "                       P >= T*V/eta_0,\n",
    "                       W_eng >= 0.0372*P**0.8083 * units('N/W^0.8083'))\n",
    "        cost = W_eng\n",
    "        return constraints\n",
    "\n",
    "#     def test(self):\n",
    "#         self.substitutions.update({\"T\":1e3, \"V\":20})\n",
    "#         self.solve(verbosity=0)\n",
    "\n",
    "Engine()"
   ]
  },
  {
   "cell_type": "code",
   "execution_count": 4,
   "metadata": {
    "collapsed": true
   },
   "outputs": [],
   "source": [
    "from gpkit import LinkConstraint"
   ]
  },
  {
   "cell_type": "code",
   "execution_count": 5,
   "metadata": {
    "collapsed": false
   },
   "outputs": [
    {
     "name": "stdout",
     "output_type": "stream",
     "text": [
      "{}\n"
     ]
    }
   ],
   "source": [
    "lc = LinkConstraint([Cruising(), Engine()])"
   ]
  },
  {
   "cell_type": "code",
   "execution_count": 6,
   "metadata": {
    "collapsed": false
   },
   "outputs": [
    {
     "data": {
      "text/plain": [
       "{\\rho_['Engine']: \\rho,\n",
       " V_['Engine']: V,\n",
       " T_['Engine']: T,\n",
       " V_['Cruising']: V,\n",
       " T_['Cruising']: T,\n",
       " \\rho_['Cruising']: \\rho}"
      ]
     },
     "execution_count": 6,
     "metadata": {},
     "output_type": "execute_result"
    }
   ],
   "source": [
    "lc.linked"
   ]
  },
  {
   "cell_type": "code",
   "execution_count": 7,
   "metadata": {
    "collapsed": false
   },
   "outputs": [
    {
     "data": {
      "text/latex": [
       "$$\\begin{bmatrix}{W_{mto}}_{['Landing']} \\leq 0.5{C_{L,max}}_{['Landing']} {S}_{['Landing']} {V_{stall}}_{['Landing']}^{2} {\\rho_{sl}}_{['Landing']} \\\\\n",
       "{V_{stall}}_{['Landing']} \\leq {V_{stall,max}}_{['Landing']}\\end{bmatrix}$$"
      ],
      "text/plain": [
       "gpkit.Landing([W_{mto}_['Landing'] [N] <= 0.5*C_{L,max}_['Landing']*S_['Landing']*V_{stall}_['Landing']**2*\\rho_{sl}_['Landing'] [kg*m/s**2], V_{stall}_['Landing'] [m/s] <= V_{stall,max}_['Landing'] [m/s]])"
      ]
     },
     "execution_count": 7,
     "metadata": {},
     "output_type": "execute_result"
    }
   ],
   "source": [
    "class Landing(ConstraintBase):\n",
    "    def setup(self):\n",
    "        S = Variable(\"S\", \"m^2\", \"Wing area\")\n",
    "        W_mto = Variable(\"W_{mto}\", \"N\", \"Maximum takeoff weight\")\n",
    "        rho_sl = Variable(\"\\\\rho_{sl}\", 1.23, \"kg/m^3\", \"Air density, sea level\")\n",
    "        C_Lmax = Variable(\"C_{L,max}\", 1.5, \"-\", \"Maximum C_L, flaps down\")\n",
    "        V_stallmax = Variable(\"V_{stall,max}\", 40, \"m/s\", \"Stall speed\")\n",
    "        V_stall  = Variable(\"V_{stall}\", \"m/s\", \"Stall speed\")\n",
    "    \n",
    "        constraints = [W_mto <= 0.5*rho_sl*V_stall**2*C_Lmax*S,\n",
    "                       V_stall <= V_stallmax]\n",
    "#         cost = 1/W_mto\n",
    "        return constraints\n",
    "    \n",
    "#     def test(self):\n",
    "#         self.substitutions.update({\"S\": 10})\n",
    "#         self.solve(verbosity=0)\n",
    "\n",
    "Landing()"
   ]
  },
  {
   "cell_type": "code",
   "execution_count": 8,
   "metadata": {
    "collapsed": false
   },
   "outputs": [
    {
     "data": {
      "text/latex": [
       "$$\\begin{bmatrix}{C_D}_{['Drag']} \\geq \\frac{0.05}{{S}_{['Drag']}} + \\frac{{C_L}_{['Drag']}^{2}}{{A}_{['Drag']} {\\pi}_{['Drag']} {e}_{['Drag']}} + {C_{D_p}}_{['Drag']} \\\\\n",
       "1 \\geq 0.0022\\frac{{Re}_{['Drag']}^{0.14} {\\tau}_{['Drag']}^{0.033}}{{C_L}_{['Drag']}^{0.01} {C_{D_p}}_{['Drag']}^{0.73}} + 1.19 \\times 10^{4}\\frac{{C_L}_{['Drag']}^{9.8} {\\tau}_{['Drag']}^{1.8}}{{C_{D_p}}_{['Drag']}^{0.91} {Re}_{['Drag']}} + 2.56\\frac{{C_L}_{['Drag']}^{5.9}}{{C_{D_p}}_{['Drag']}^{2.6} {Re}_{['Drag']}^{1.5} {\\tau}_{['Drag']}^{3.3}} + 3.8 \\times 10^{-9}\\frac{{\\tau}_{['Drag']}^{6.2}}{{C_L}_{['Drag']}^{0.92} {C_{D_p}}_{['Drag']}^{9.6} {Re}_{['Drag']}^{1.4}} + 6.14 \\times 10^{-6}\\frac{{C_L}_{['Drag']}^{6.5}}{{C_{D_p}}_{['Drag']}^{5.2} {Re}_{['Drag']}^{0.99} {\\tau}_{['Drag']}^{0.52}}\\end{bmatrix}$$"
      ],
      "text/plain": [
       "gpkit.Drag([C_D_['Drag'] [-] >= 0.05*S_['Drag']**-1 + A_['Drag']**-1*C_L_['Drag']**2*\\pi_['Drag']**-1*e_['Drag']**-1 + C_{D_p}_['Drag'] [-], 1 >= 0.0022*C_L_['Drag']**-0.01*C_{D_p}_['Drag']**-0.73*Re_['Drag']**0.14*\\tau_['Drag']**0.033 + 1.19e+04*C_L_['Drag']**9.8*C_{D_p}_['Drag']**-0.91*Re_['Drag']**-1*\\tau_['Drag']**1.8 + 2.56*C_L_['Drag']**5.9*C_{D_p}_['Drag']**-2.6*Re_['Drag']**-1.5*\\tau_['Drag']**-3.3 + 3.8e-09*C_L_['Drag']**-0.92*C_{D_p}_['Drag']**-9.6*Re_['Drag']**-1.4*\\tau_['Drag']**6.2 + 6.14e-06*C_L_['Drag']**6.5*C_{D_p}_['Drag']**-5.2*Re_['Drag']**-0.99*\\tau_['Drag']**-0.52 [-]])"
      ]
     },
     "execution_count": 8,
     "metadata": {},
     "output_type": "execute_result"
    }
   ],
   "source": [
    "class Drag(ConstraintBase):\n",
    "    def setup(self):\n",
    "        pi = Variable(\"\\\\pi\", np.pi, \"-\", \"Half of the circle constant\")\n",
    "        e    = Variable(\"e\", 0.95, \"-\", \"Wing spanwise efficiency\")\n",
    "        S = Variable(\"S\", \"m^2\", \"Wing area\")\n",
    "        A = Variable(\"A\", \"-\", \"Aspect Ratio\")\n",
    "        tau = Variable(\"\\\\tau\", \"-\")\n",
    "        C_L = Variable(\"C_L\", \"-\", \"Wing lift coefficent\")\n",
    "        C_D = Variable(\"C_D\", \"-\", \"Wing drag coefficent\")\n",
    "        C_Dp = Variable(\"C_{D_p}\", \"-\", \"fit to xrotor drag\")\n",
    "        Re = Variable(\"Re\", \"-\", \"Reynold's number\")\n",
    "        \n",
    "        constraints = (C_D >= (0.05/S)*units.m**2 + C_Dp + C_L**2/(pi*e*A),\n",
    "                       1 >= (2.56*C_L**5.88/(Re**1.54*tau**3.32*C_Dp**2.62) +\n",
    "                            3.8e-9*tau**6.23/(C_L**0.92*Re**1.38*C_Dp**9.57) +\n",
    "                            2.2e-3*Re**0.14*tau**0.033/(C_L**0.01*C_Dp**0.73) +\n",
    "                            1.19e4*C_L**9.78*tau**1.76/(Re*C_Dp**0.91) +\n",
    "                            6.14e-6*C_L**6.53/(Re**0.99*tau**0.52*C_Dp**5.19)))\n",
    "        cost = C_D.prod()\n",
    "        return constraints\n",
    "\n",
    "#     def test(self):\n",
    "#         self.substitutions.update({\"C_D\":10, \"C_L\":1, \"A\":1,\n",
    "#                                    \"\\\\tau\": 1, \"Re\":1e4})\n",
    "#         self.solve(verbosity=0)\n",
    "\n",
    "Drag()"
   ]
  },
  {
   "cell_type": "code",
   "execution_count": 9,
   "metadata": {
    "collapsed": false
   },
   "outputs": [
    {
     "data": {
      "text/latex": [
       "$$\\begin{bmatrix}{R}_{['FuelBurn']} \\geq {R_{min}}_{['FuelBurn']} \\\\\n",
       "{z_{bre}}_{['FuelBurn']} \\geq \\frac{{R}_{['FuelBurn']} {T}_{['FuelBurn']} {g}_{['FuelBurn']}}{{W}_{['FuelBurn']} {\\eta_0}_{['FuelBurn']} {h_{fuel}}_{['FuelBurn']}} \\\\\n",
       "\\frac{{W_{fuel}}_{['FuelBurn']}}{{W}_{['FuelBurn']}} \\geq 0.04167{z_{bre}}_{['FuelBurn']}^{4} + 0.1667{z_{bre}}_{['FuelBurn']}^{3} + 0.5{z_{bre}}_{['FuelBurn']}^{2} + {z_{bre}}_{['FuelBurn']}\\end{bmatrix}$$"
      ],
      "text/plain": [
       "gpkit.FuelBurn([R_['FuelBurn'] [m] >= R_{min}_['FuelBurn'] [m], z_{bre}_['FuelBurn'] [-] >= R_['FuelBurn']*T_['FuelBurn']*W_['FuelBurn']**-1*\\eta_0_['FuelBurn']**-1*g_['FuelBurn']*h_{fuel}_['FuelBurn']**-1 [-], W_['FuelBurn']**-1*W_{fuel}_['FuelBurn'] [-] >= 0.0417*z_{bre}_['FuelBurn']**4 + 0.167*z_{bre}_['FuelBurn']**3 + 0.5*z_{bre}_['FuelBurn']**2 + z_{bre}_['FuelBurn'] [-]])"
      ]
     },
     "execution_count": 9,
     "metadata": {},
     "output_type": "execute_result"
    }
   ],
   "source": [
    "class FuelBurn(ConstraintBase):\n",
    "    def setup(self):\n",
    "        g = Variable(\"g\", 9.8, \"m/s^2\", \"Gravitational constant\")\n",
    "        eta_0 = Variable(\"\\\\eta_0\", 0.5, \"-\")\n",
    "        W  = Variable(\"W\", \"N\", \"Aircraft weight\")\n",
    "        T = Variable(\"T\", \"N\", \"Thrust force\")\n",
    "        R_min  = Variable(\"R_{min}\", 1e6, \"m\", \"Minimum airplane range\")\n",
    "        h_fuel = Variable(\"h_{fuel}\", 42e6, \"J/kg\", \"fuel heating value\")\n",
    "        R      = Variable(\"R\", \"m\", \"Airplane range\")\n",
    "        z_bre  = Variable(\"z_{bre}\", \"-\")\n",
    "        W_fuel = Variable(\"W_{fuel}\", \"N\", \"Fuel weight\")\n",
    "\n",
    "        # 4th order taylor approximation for e^x\n",
    "        z_bre_sum = 0\n",
    "        for i in range(1,5):\n",
    "            z_bre_sum += z_bre**i/np.math.factorial(i)\n",
    "\n",
    "        constraints = (R >= R_min,\n",
    "                       z_bre >= g*R*T/(h_fuel*eta_0*W),\n",
    "                       W_fuel/W >= z_bre_sum)\n",
    "        cost = W_fuel\n",
    "        return constraints\n",
    "\n",
    "#     def test(self):\n",
    "#         self.substitutions.update({\"T\":1e3, \"V\":20, \"W\":1e3})\n",
    "#         self.solve(verbosity=0)\n",
    "\n",
    "FuelBurn()"
   ]
  },
  {
   "cell_type": "code",
   "execution_count": 10,
   "metadata": {
    "collapsed": false
   },
   "outputs": [
    {
     "data": {
      "text/latex": [
       "$$\\begin{bmatrix}2{q}_{['WingBox']} \\geq 1 + {p}_{['WingBox']} \\\\\n",
       "{p}_{['WingBox']} \\geq 2.2 \\\\\n",
       "{\\tau}_{['WingBox']} \\leq 0.25 \\\\\n",
       "{\\bar{M}_r}_{['WingBox']} \\geq 0.04167{A}_{['WingBox']} {W_{tw}}_{['WingBox']} {p}_{['WingBox']} \\\\\n",
       "0.4232{\\tau}_{['WingBox']}^{2} {t_{cap}}_{['WingBox']} {w}_{['WingBox']} \\geq 0.92{\\tau}_{['WingBox']} {t_{cap}}_{['WingBox']}^{2} {w}_{['WingBox']} + {I_{cap}}_{['WingBox']} \\\\\n",
       "\\frac{{A}_{['WingBox']} {N_{lift}}_{['WingBox']} {\\bar{M}_r}_{['WingBox']} {\\tau}_{['WingBox']} {q}_{['WingBox']}^{2}}{{I_{cap}}_{['WingBox']} {S}_{['WingBox']} {\\sigma_{max}}_{['WingBox']}} \\leq 8 \\\\\n",
       "\\frac{{A}_{['WingBox']} {N_{lift}}_{['WingBox']} {W_{tw}}_{['WingBox']} {q}_{['WingBox']}^{2}}{{S}_{['WingBox']} {\\sigma_{max,shear}}_{['WingBox']} {\\tau}_{['WingBox']} {t_{web}}_{['WingBox']}} \\leq 12 \\\\\n",
       "{\\nu}_{['WingBox']}^{3.9} \\geq 0.14{p}_{['WingBox']}^{0.56} + \\frac{0.86}{{p}_{['WingBox']}^{2.4}} \\\\\n",
       "{W_{cap}}_{['WingBox']} \\geq 2.667\\frac{{S}_{['WingBox']}^{1.5} {\\nu}_{['WingBox']} {\\rho_{alum}}_{['WingBox']} {g}_{['WingBox']} {t_{cap}}_{['WingBox']} {w}_{['WingBox']}}{{A}_{['WingBox']}^{0.5}} \\\\\n",
       "{W_{web}}_{['WingBox']} \\geq 2.667\\frac{{S}_{['WingBox']}^{1.5} {\\nu}_{['WingBox']} {\\rho_{alum}}_{['WingBox']} {\\tau}_{['WingBox']} {g}_{['WingBox']} {r_h}_{['WingBox']} {t_{web}}_{['WingBox']}}{{A}_{['WingBox']}^{0.5}} \\\\\n",
       "\\frac{{W_{wing}}_{['WingBox']}}{{f_{wadd}}_{['WingBox']}} \\geq {W_{cap}}_{['WingBox']} + {W_{web}}_{['WingBox']}\\end{bmatrix}$$"
      ],
      "text/plain": [
       "gpkit.WingBox([2*q_['WingBox'] [-] >= 1 + p_['WingBox'], p_['WingBox'] [-] >= 2.2, \\tau_['WingBox'] [-] <= 0.25, \\bar{M}_r_['WingBox'] [-] >= 0.0417*A_['WingBox']*W_{tw}_['WingBox']*p_['WingBox'] [-], 0.423*\\tau_['WingBox']**2*t_{cap}_['WingBox']*w_['WingBox'] [-] >= 0.92*\\tau_['WingBox']*t_{cap}_['WingBox']**2*w_['WingBox'] + I_{cap}_['WingBox'] [-], A_['WingBox']*I_{cap}_['WingBox']**-1*N_{lift}_['WingBox']*S_['WingBox']**-1*\\bar{M}_r_['WingBox']*\\sigma_{max}_['WingBox']**-1*\\tau_['WingBox']*q_['WingBox']**2 [-] <= 8, A_['WingBox']*N_{lift}_['WingBox']*S_['WingBox']**-1*W_{tw}_['WingBox']*\\sigma_{max,shear}_['WingBox']**-1*\\tau_['WingBox']**-1*q_['WingBox']**2*t_{web}_['WingBox']**-1 [-] <= 12, \\nu_['WingBox']**3.9 [-] >= 0.14*p_['WingBox']**0.56 + 0.86*p_['WingBox']**-2.4 [-], W_{cap}_['WingBox'] [N] >= 2.67*A_['WingBox']**-0.5*S_['WingBox']**1.5*\\nu_['WingBox']*\\rho_{alum}_['WingBox']*g_['WingBox']*t_{cap}_['WingBox']*w_['WingBox'] [kg*m/s**2], W_{web}_['WingBox'] [N] >= 2.67*A_['WingBox']**-0.5*S_['WingBox']**1.5*\\nu_['WingBox']*\\rho_{alum}_['WingBox']*\\tau_['WingBox']*g_['WingBox']*r_h_['WingBox']*t_{web}_['WingBox'] [kg*m/s**2], W_{wing}_['WingBox']*f_{wadd}_['WingBox']**-1 [N] >= W_{cap}_['WingBox'] + W_{web}_['WingBox'] [N]])"
      ]
     },
     "execution_count": 10,
     "metadata": {},
     "output_type": "execute_result"
    }
   ],
   "source": [
    "class WingBox(ConstraintBase):\n",
    "    def setup(self):\n",
    "        g = Variable(\"g\", 9.8, \"m/s^2\", \"Gravitational constant\")\n",
    "        tau = Variable(\"\\\\tau\", \"-\")\n",
    "        A = Variable(\"A\", \"-\", \"Aspect Ratio\")\n",
    "        S = Variable(\"S\", \"m^2\", \"Wing area\")\n",
    "        W  = Variable(\"W\", \"N\", \"Aircraft weight\")\n",
    "        W_wing = Variable(\"W_{wing}\", \"N\")\n",
    "        W_tw = Variable(\"W_{tw}\", \"N\")\n",
    "        f_wadd = Variable(\"f_{wadd}\", 2, \"-\", \"Wing added weight fraction\")\n",
    "        N_lift         = Variable(\"N_{lift}\", 6.0, \"-\", \"Wing loading multiplier\")\n",
    "        sigma_max      = Variable(\"\\\\sigma_{max}\", 250e6, \"Pa\", \"Allowable stress, 6061-T6\")\n",
    "        sigma_maxshear = Variable(\"\\\\sigma_{max,shear}\", 167e6, \"Pa\", \"Allowable shear stress\")\n",
    "        w = Variable(\"w\", 0.5, \"-\", \"Wing-box width/chord\")\n",
    "        r_h = Variable(\"r_h\", 0.75, \"-\", \"Wing strut taper parameter\")\n",
    "        I_cap = Variable(\"I_{cap}\", \"m^4\", \"Area moment of inertia per unit chord\")\n",
    "        M_rbar = Variable(\"\\\\bar{M}_r\", \"-\")\n",
    "        rho_alum = Variable(\"\\\\rho_{alum}\", 2700, \"kg/m^3\", \"Density of aluminum\")\n",
    "        nu = Variable(\"\\\\nu\", \"-\")\n",
    "        p = Variable(\"p\", \"-\")\n",
    "        q = Variable(\"q\", \"-\")\n",
    "        t_cap = Variable(\"t_{cap}\", \"-\")\n",
    "        t_web = Variable(\"t_{web}\", \"-\")\n",
    "        W_cap = Variable(\"W_{cap}\", \"N\")\n",
    "        W_web = Variable(\"W_{web}\", \"N\")\n",
    "        \n",
    "        constraints = (2*q >= 1 + p,\n",
    "                       p >= 2.2,\n",
    "                       tau <= 0.25,\n",
    "                       M_rbar >= W_tw*A*p/(24*units.N),\n",
    "                       .92**2/2.*w*tau**2*t_cap >= I_cap * units.m**-4 + .92*w*tau*t_cap**2,\n",
    "                       8 >= N_lift*M_rbar*A*q**2*tau/S/I_cap/sigma_max * units('Pa*m**6'),\n",
    "                       12 >= A*W_tw*N_lift*q**2/tau/S/t_web/sigma_maxshear,\n",
    "                       nu**3.94 >= .86*p**-2.38 + .14*p**0.56,\n",
    "                       W_cap >= 8*rho_alum*g*w*t_cap*S**1.5*nu/3/A**.5,\n",
    "                       W_web >= 8*rho_alum*g*r_h*tau*t_web*S**1.5*nu/3/A**.5,\n",
    "                       W_wing/f_wadd >= W_cap + W_web)\n",
    "        cost = W_wing\n",
    "        return constraints\n",
    "\n",
    "    def test(self):\n",
    "        self.substitutions.update({\"\\\\tau\":0.25, \"A\":1, \"S\":10,\n",
    "                                   \"W\":1e3, \"W_{tw}\":5e2})\n",
    "        self.solve(verbosity=0)\n",
    "\n",
    "WingBox()"
   ]
  },
  {
   "cell_type": "markdown",
   "metadata": {},
   "source": [
    "## Model()[key]\n",
    "\n",
    "`m[key]` will now look for any variables named `key` in `m`, counting their index (e.g. `x_{(0)}`) but not their modelname. Below this is used to pull variables out of submodels."
   ]
  },
  {
   "cell_type": "code",
   "execution_count": 20,
   "metadata": {
    "collapsed": false
   },
   "outputs": [],
   "source": [
    "landing = Landing()\n",
    "cruising = Cruising()\n",
    "drag = Drag()\n",
    "engine = Engine()\n",
    "fuel = FuelBurn()\n",
    "spar = WingBox()\n",
    "\n",
    "W  = cruising[\"W\"]\n",
    "W_tw = spar[\"W_{tw}\"]\n",
    "W_wing = spar[\"W_{wing}\"]\n",
    "W_mto = landing[\"W_{mto}\"]\n",
    "W_fuel = fuel[\"W_{fuel}\"]\n",
    "W_eng = engine[\"W_{eng}\"]\n",
    "\n",
    "g = Variable(\"g\", 9.8, \"m/s^2\", \"Gravitational constant\")\n",
    "W_zfw = Variable(\"W_{zfw}\", \"N\", \"Zero fuel weight\")\n",
    "m_pay = Variable(\"m_{pay}\", 500, \"kg\")\n",
    "W_fixed = Variable(\"W_{fixed}\", 14.7e3, \"N\", \"Fixed weight\")\n",
    "\n",
    "constraints = [W_tw >= W_fixed + g*m_pay + W_eng,\n",
    "               W_zfw >= W_tw + W_wing,\n",
    "               W >= W_zfw,\n",
    "               W_mto >= W + W_fuel]\n",
    "import gpkit\n",
    "lc = gpkit.ConstraintSet([landing, cruising, drag, engine, fuel, spar])"
   ]
  },
  {
   "cell_type": "code",
   "execution_count": 30,
   "metadata": {
    "collapsed": false
   },
   "outputs": [
    {
     "data": {
      "text/plain": [
       "{}"
      ]
     },
     "execution_count": 30,
     "metadata": {},
     "output_type": "execute_result"
    }
   ],
   "source": [
    "lc[3][4].substitutions"
   ]
  },
  {
   "cell_type": "code",
   "execution_count": 22,
   "metadata": {
    "collapsed": false
   },
   "outputs": [],
   "source": [
    "class FlightSegment(ConstraintBase):\n",
    "    def setup(self):\n",
    "        landing = Landing()\n",
    "        cruising = Cruising()\n",
    "        drag = Drag()\n",
    "        engine = Engine()\n",
    "        fuel = FuelBurn()\n",
    "        spar = WingBox()\n",
    "\n",
    "        W  = cruising[\"W\"]\n",
    "        W_tw = spar[\"W_{tw}\"]\n",
    "        W_wing = spar[\"W_{wing}\"]\n",
    "        W_mto = landing[\"W_{mto}\"]\n",
    "        W_fuel = fuel[\"W_{fuel}\"]\n",
    "        W_eng = engine[\"W_{eng}\"]\n",
    "\n",
    "        g = Variable(\"g\", 9.8, \"m/s^2\", \"Gravitational constant\")\n",
    "        W_zfw = Variable(\"W_{zfw}\", \"N\", \"Zero fuel weight\")\n",
    "        m_pay = Variable(\"m_{pay}\", 500, \"kg\")\n",
    "        W_fixed = Variable(\"W_{fixed}\", 14.7e3, \"N\", \"Fixed weight\")\n",
    "\n",
    "        constraints = [W_tw >= W_fixed + g*m_pay + W_eng,\n",
    "                       W_zfw >= W_tw + W_wing,\n",
    "                       W >= W_zfw,\n",
    "                       W_mto >= W + W_fuel]\n",
    "        \n",
    "        LinkConstraint([landing, cruising, drag, engine, fuel, spar])\n",
    "    \n",
    "\n",
    "#         model = Model(W_fuel, constraints)\n",
    "\n",
    "#         for subm in [landing, cruising, drag, engine, fuel, spar]:\n",
    "#             model = model & subm\n",
    "\n",
    "        return [constraints, LinkConstraint([landing, cruising, drag, engine, fuel, spar])]\n",
    "\n",
    "#     def test(self):\n",
    "#          self.solve(verbosity=0)\n",
    "    \n",
    "# FlightSegment()\n",
    "# print FlightSegment().solve(verbosity=0).table([\"cost\", \"freevariables\"])"
   ]
  },
  {
   "cell_type": "code",
   "execution_count": 31,
   "metadata": {
    "collapsed": false
   },
   "outputs": [
    {
     "data": {
      "text/plain": [
       "{}"
      ]
     },
     "execution_count": 31,
     "metadata": {},
     "output_type": "execute_result"
    }
   ],
   "source": [
    "fs = FlightSegment()\n",
    "fs[1].substitutions"
   ]
  },
  {
   "cell_type": "code",
   "execution_count": 23,
   "metadata": {
    "collapsed": false
   },
   "outputs": [
    {
     "name": "stdout",
     "output_type": "stream",
     "text": [
      "Using solver 'cvxopt'\n",
      "Solving for 55 variables.\n"
     ]
    },
    {
     "ename": "ValueError",
     "evalue": "Rank(A) < p or Rank([H(x); A; Df(x); G]) < n",
     "output_type": "error",
     "traceback": [
      "\u001b[1;31m---------------------------------------------------------------------------\u001b[0m",
      "\u001b[1;31mValueError\u001b[0m                                Traceback (most recent call last)",
      "\u001b[1;32m<ipython-input-23-ce69ab69a5c4>\u001b[0m in \u001b[0;36m<module>\u001b[1;34m()\u001b[0m\n\u001b[0;32m      1\u001b[0m \u001b[0mfs\u001b[0m \u001b[1;33m=\u001b[0m \u001b[0mFlightSegment\u001b[0m\u001b[1;33m(\u001b[0m\u001b[1;33m)\u001b[0m\u001b[1;33m\u001b[0m\u001b[0m\n\u001b[0;32m      2\u001b[0m \u001b[0mm\u001b[0m \u001b[1;33m=\u001b[0m \u001b[0mModel\u001b[0m\u001b[1;33m(\u001b[0m\u001b[0mfs\u001b[0m\u001b[1;33m[\u001b[0m\u001b[1;34m\"W_{fuel}\"\u001b[0m\u001b[1;33m]\u001b[0m\u001b[1;33m,\u001b[0m \u001b[0mfs\u001b[0m\u001b[1;33m)\u001b[0m\u001b[1;33m\u001b[0m\u001b[0m\n\u001b[1;32m----> 3\u001b[1;33m \u001b[0mm\u001b[0m\u001b[1;33m.\u001b[0m\u001b[0msolve\u001b[0m\u001b[1;33m(\u001b[0m\u001b[1;33m)\u001b[0m\u001b[1;33m\u001b[0m\u001b[0m\n\u001b[0m",
      "\u001b[1;32m/home/eburn/projects/src/gpkit/gpkit/model.pyc\u001b[0m in \u001b[0;36msolve\u001b[1;34m(self, solver, verbosity, skipsweepfailures, *args, **kwargs)\u001b[0m\n\u001b[0;32m    282\u001b[0m         \u001b[1;32mtry\u001b[0m\u001b[1;33m:\u001b[0m\u001b[1;33m\u001b[0m\u001b[0m\n\u001b[0;32m    283\u001b[0m             return self._solve(\"gp\", solver, verbosity, skipsweepfailures,\n\u001b[1;32m--> 284\u001b[1;33m                                *args, **kwargs)\n\u001b[0m\u001b[0;32m    285\u001b[0m         \u001b[1;32mexcept\u001b[0m \u001b[0mValueError\u001b[0m \u001b[1;32mas\u001b[0m \u001b[0merr\u001b[0m\u001b[1;33m:\u001b[0m\u001b[1;33m\u001b[0m\u001b[0m\n\u001b[0;32m    286\u001b[0m             \u001b[1;32mif\u001b[0m \u001b[0merr\u001b[0m\u001b[1;33m.\u001b[0m\u001b[0mmessage\u001b[0m \u001b[1;33m==\u001b[0m \u001b[1;33m(\u001b[0m\u001b[1;34m\"GeometricPrograms cannot contain Signomials\"\u001b[0m\u001b[1;33m)\u001b[0m\u001b[1;33m:\u001b[0m\u001b[1;33m\u001b[0m\u001b[0m\n",
      "\u001b[1;32m/home/eburn/projects/src/gpkit/gpkit/model.pyc\u001b[0m in \u001b[0;36m_solve\u001b[1;34m(self, programType, solver, verbosity, skipsweepfailures, *args, **kwargs)\u001b[0m\n\u001b[0;32m    441\u001b[0m             self.program, solvefn = self.form_program(programType, verbosity,\n\u001b[0;32m    442\u001b[0m                                                       substitutions=constants)\n\u001b[1;32m--> 443\u001b[1;33m             \u001b[0mresult\u001b[0m \u001b[1;33m=\u001b[0m \u001b[0msolvefn\u001b[0m\u001b[1;33m(\u001b[0m\u001b[1;33m*\u001b[0m\u001b[0margs\u001b[0m\u001b[1;33m,\u001b[0m \u001b[1;33m**\u001b[0m\u001b[0mkwargs\u001b[0m\u001b[1;33m)\u001b[0m\u001b[1;33m\u001b[0m\u001b[0m\n\u001b[0m\u001b[0;32m    444\u001b[0m             \u001b[1;31m# add localmodel here\u001b[0m\u001b[1;33m\u001b[0m\u001b[1;33m\u001b[0m\u001b[0m\n\u001b[0;32m    445\u001b[0m             \u001b[0msolution\u001b[0m\u001b[1;33m.\u001b[0m\u001b[0mappend\u001b[0m\u001b[1;33m(\u001b[0m\u001b[0mresult\u001b[0m\u001b[1;33m)\u001b[0m\u001b[1;33m\u001b[0m\u001b[0m\n",
      "\u001b[1;32m/home/eburn/projects/src/gpkit/gpkit/geometric_program.pyc\u001b[0m in \u001b[0;36msolve\u001b[1;34m(self, solver, verbosity, *args, **kwargs)\u001b[0m\n\u001b[0;32m    147\u001b[0m             \u001b[0msys\u001b[0m\u001b[1;33m.\u001b[0m\u001b[0mstdout\u001b[0m \u001b[1;33m=\u001b[0m \u001b[0mself\u001b[0m\u001b[1;33m.\u001b[0m\u001b[0msolver_log\u001b[0m   \u001b[1;31m# CAPTURED\u001b[0m\u001b[1;33m\u001b[0m\u001b[0m\n\u001b[0;32m    148\u001b[0m             solver_out = solverfn(c=self.cs, A=self.A, p_idxs=self.p_idxs,\n\u001b[1;32m--> 149\u001b[1;33m                                   k=self.k, *args, **kwargs)\n\u001b[0m\u001b[0;32m    150\u001b[0m             \u001b[0mself\u001b[0m\u001b[1;33m.\u001b[0m\u001b[0msolver_out\u001b[0m \u001b[1;33m=\u001b[0m \u001b[0msolver_out\u001b[0m\u001b[1;33m\u001b[0m\u001b[0m\n\u001b[0;32m    151\u001b[0m         \u001b[1;32mfinally\u001b[0m\u001b[1;33m:\u001b[0m\u001b[1;33m\u001b[0m\u001b[0m\n",
      "\u001b[1;32m/home/eburn/projects/src/gpkit/gpkit/_cvxopt.pyc\u001b[0m in \u001b[0;36mcvxoptimize\u001b[1;34m(c, A, k, *args, **kwargs)\u001b[0m\n\u001b[0;32m     40\u001b[0m         \u001b[0mg\u001b[0m \u001b[1;33m=\u001b[0m \u001b[0mlog\u001b[0m\u001b[1;33m(\u001b[0m\u001b[0mmatrix\u001b[0m\u001b[1;33m(\u001b[0m\u001b[0mc\u001b[0m\u001b[1;33m)\u001b[0m\u001b[1;33m)\u001b[0m\u001b[1;33m\u001b[0m\u001b[0m\n\u001b[0;32m     41\u001b[0m         \u001b[0mF\u001b[0m \u001b[1;33m=\u001b[0m \u001b[0mspmatrix\u001b[0m\u001b[1;33m(\u001b[0m\u001b[0mA\u001b[0m\u001b[1;33m.\u001b[0m\u001b[0mdata\u001b[0m\u001b[1;33m,\u001b[0m \u001b[0mA\u001b[0m\u001b[1;33m.\u001b[0m\u001b[0mrow\u001b[0m\u001b[1;33m,\u001b[0m \u001b[0mA\u001b[0m\u001b[1;33m.\u001b[0m\u001b[0mcol\u001b[0m\u001b[1;33m,\u001b[0m \u001b[0mtc\u001b[0m\u001b[1;33m=\u001b[0m\u001b[1;34m'd'\u001b[0m\u001b[1;33m)\u001b[0m\u001b[1;33m\u001b[0m\u001b[0m\n\u001b[1;32m---> 42\u001b[1;33m         \u001b[0msolution\u001b[0m \u001b[1;33m=\u001b[0m \u001b[0mgpsolver\u001b[0m\u001b[1;33m(\u001b[0m\u001b[0mk\u001b[0m\u001b[1;33m,\u001b[0m \u001b[0mF\u001b[0m\u001b[1;33m,\u001b[0m \u001b[0mg\u001b[0m\u001b[1;33m)\u001b[0m\u001b[1;33m\u001b[0m\u001b[0m\n\u001b[0m\u001b[0;32m     43\u001b[0m         return dict(status=solution['status'],\n\u001b[0;32m     44\u001b[0m                     \u001b[0mprimal\u001b[0m\u001b[1;33m=\u001b[0m\u001b[0msolution\u001b[0m\u001b[1;33m[\u001b[0m\u001b[1;34m'x'\u001b[0m\u001b[1;33m]\u001b[0m\u001b[1;33m,\u001b[0m\u001b[1;33m\u001b[0m\u001b[0m\n",
      "\u001b[1;32m/usr/lib/python2.7/dist-packages/cvxopt/cvxprog.pyc\u001b[0m in \u001b[0;36mgp\u001b[1;34m(K, F, g, G, h, A, b)\u001b[0m\n\u001b[0;32m   2157\u001b[0m         \u001b[1;32melse\u001b[0m\u001b[1;33m:\u001b[0m \u001b[1;32mreturn\u001b[0m \u001b[0mf\u001b[0m\u001b[1;33m,\u001b[0m \u001b[0mDf\u001b[0m\u001b[1;33m,\u001b[0m \u001b[0mH\u001b[0m\u001b[1;33m\u001b[0m\u001b[0m\n\u001b[0;32m   2158\u001b[0m \u001b[1;33m\u001b[0m\u001b[0m\n\u001b[1;32m-> 2159\u001b[1;33m     \u001b[1;32mreturn\u001b[0m \u001b[0mcp\u001b[0m\u001b[1;33m(\u001b[0m\u001b[0mFgp\u001b[0m\u001b[1;33m,\u001b[0m \u001b[0mG\u001b[0m\u001b[1;33m,\u001b[0m \u001b[0mh\u001b[0m\u001b[1;33m,\u001b[0m \u001b[0mdims\u001b[0m\u001b[1;33m,\u001b[0m \u001b[0mA\u001b[0m\u001b[1;33m,\u001b[0m \u001b[0mb\u001b[0m\u001b[1;33m)\u001b[0m\u001b[1;33m\u001b[0m\u001b[0m\n\u001b[0m",
      "\u001b[1;32m/usr/lib/python2.7/dist-packages/cvxopt/cvxprog.pyc\u001b[0m in \u001b[0;36mcp\u001b[1;34m(F, G, h, dims, A, b, kktsolver, xnewcopy, xdot, xaxpy, xscal, ynewcopy, ydot, yaxpy, yscal)\u001b[0m\n\u001b[0;32m   1964\u001b[0m \u001b[1;33m\u001b[0m\u001b[0m\n\u001b[0;32m   1965\u001b[0m     sol = cpl(c, F_e, G_e, h, dims, A_e, b, kktsolver_e, xnewcopy_e, \n\u001b[1;32m-> 1966\u001b[1;33m          xdot_e, xaxpy_e, xscal_e)\n\u001b[0m\u001b[0;32m   1967\u001b[0m \u001b[1;33m\u001b[0m\u001b[0m\n\u001b[0;32m   1968\u001b[0m     \u001b[0msol\u001b[0m\u001b[1;33m[\u001b[0m\u001b[1;34m'x'\u001b[0m\u001b[1;33m]\u001b[0m \u001b[1;33m=\u001b[0m \u001b[0msol\u001b[0m\u001b[1;33m[\u001b[0m\u001b[1;34m'x'\u001b[0m\u001b[1;33m]\u001b[0m\u001b[1;33m[\u001b[0m\u001b[1;36m0\u001b[0m\u001b[1;33m]\u001b[0m\u001b[1;33m\u001b[0m\u001b[0m\n",
      "\u001b[1;32m/usr/lib/python2.7/dist-packages/cvxopt/cvxprog.pyc\u001b[0m in \u001b[0;36mcpl\u001b[1;34m(c, F, G, h, dims, A, b, kktsolver, xnewcopy, xdot, xaxpy, xscal, ynewcopy, ydot, yaxpy, yscal)\u001b[0m\n\u001b[0;32m    785\u001b[0m             \u001b[0msingular_kkt_matrix\u001b[0m \u001b[1;33m=\u001b[0m \u001b[0mFalse\u001b[0m\u001b[1;33m\u001b[0m\u001b[0m\n\u001b[0;32m    786\u001b[0m             \u001b[1;32mif\u001b[0m \u001b[0miters\u001b[0m \u001b[1;33m==\u001b[0m \u001b[1;36m0\u001b[0m\u001b[1;33m:\u001b[0m\u001b[1;33m\u001b[0m\u001b[0m\n\u001b[1;32m--> 787\u001b[1;33m                 raise ValueError(\"Rank(A) < p or \"\\\n\u001b[0m\u001b[0;32m    788\u001b[0m                     \"Rank([H(x); A; Df(x); G]) < n\")\n\u001b[0;32m    789\u001b[0m \u001b[1;33m\u001b[0m\u001b[0m\n",
      "\u001b[1;31mValueError\u001b[0m: Rank(A) < p or Rank([H(x); A; Df(x); G]) < n"
     ]
    }
   ],
   "source": [
    "fs = FlightSegment()\n",
    "m = Model(fs[\"W_{fuel}\"], fs)\n",
    "m.solve()"
   ]
  },
  {
   "cell_type": "code",
   "execution_count": null,
   "metadata": {
    "collapsed": false
   },
   "outputs": [],
   "source": [
    "print m.gp().A.shape"
   ]
  },
  {
   "cell_type": "code",
   "execution_count": 27,
   "metadata": {
    "collapsed": false
   },
   "outputs": [
    {
     "data": {
      "text/plain": [
       "[\"A_['FlightSegment']\",\n",
       " \"A_{prop}_['Engine', 'FlightSegment']\",\n",
       " \"C_D_['FlightSegment']\",\n",
       " \"C_L_['FlightSegment']\",\n",
       " \"C_{D_p}_['Drag', 'FlightSegment']\",\n",
       " \"C_{L,max}_['Landing', 'FlightSegment']\",\n",
       " \"I_{cap}_['WingBox', 'FlightSegment']\",\n",
       " \"N_{lift}_['WingBox', 'FlightSegment']\",\n",
       " \"P_['Engine', 'FlightSegment']\",\n",
       " \"R_['FuelBurn', 'FlightSegment']\",\n",
       " \"R_{min}_['FuelBurn', 'FlightSegment']\",\n",
       " \"Re_['FlightSegment']\",\n",
       " \"S_['FlightSegment']\",\n",
       " \"T_['FlightSegment']\",\n",
       " \"V_['FlightSegment']\",\n",
       " \"V_{stall,max}_['Landing', 'FlightSegment']\",\n",
       " \"V_{stall}_['Landing', 'FlightSegment']\",\n",
       " \"W_['Cruising', 'FlightSegment']\",\n",
       " \"W_['FlightSegment']\",\n",
       " \"W_{cap}_['WingBox', 'FlightSegment']\",\n",
       " \"W_{eng}_['Engine', 'FlightSegment']\",\n",
       " \"W_{fixed}_['FlightSegment']\",\n",
       " \"W_{fuel}_['FuelBurn', 'FlightSegment']\",\n",
       " \"W_{mto}_['Landing', 'FlightSegment']\",\n",
       " \"W_{tw}_['WingBox', 'FlightSegment']\",\n",
       " \"W_{web}_['WingBox', 'FlightSegment']\",\n",
       " \"W_{wing}_['WingBox', 'FlightSegment']\",\n",
       " \"W_{zfw}_['FlightSegment']\",\n",
       " \"\\\\bar{M}_r_['WingBox', 'FlightSegment']\",\n",
       " \"\\\\eta_0_['FlightSegment']\",\n",
       " \"\\\\eta_i_['Engine', 'FlightSegment']\",\n",
       " \"\\\\eta_v_['Engine', 'FlightSegment']\",\n",
       " \"\\\\eta_{eng}_['Engine', 'FlightSegment']\",\n",
       " \"\\\\eta_{prop}_['Engine', 'FlightSegment']\",\n",
       " \"\\\\mu_['Cruising', 'FlightSegment']\",\n",
       " \"\\\\nu_['WingBox', 'FlightSegment']\",\n",
       " \"\\\\pi_['Drag', 'FlightSegment']\",\n",
       " \"\\\\rho_['FlightSegment']\",\n",
       " \"\\\\rho_{alum}_['WingBox', 'FlightSegment']\",\n",
       " \"\\\\rho_{sl}_['Landing', 'FlightSegment']\",\n",
       " \"\\\\sigma_{max,shear}_['WingBox', 'FlightSegment']\",\n",
       " \"\\\\sigma_{max}_['WingBox', 'FlightSegment']\",\n",
       " \"\\\\tau_['FlightSegment']\",\n",
       " \"e_['Drag', 'FlightSegment']\",\n",
       " \"f_{wadd}_['WingBox', 'FlightSegment']\",\n",
       " \"g_['FlightSegment']\",\n",
       " \"h_{fuel}_['FuelBurn', 'FlightSegment']\",\n",
       " \"m_{pay}_['FlightSegment']\",\n",
       " \"p_['WingBox', 'FlightSegment']\",\n",
       " \"q_['WingBox', 'FlightSegment']\",\n",
       " \"r_h_['WingBox', 'FlightSegment']\",\n",
       " \"t_{cap}_['WingBox', 'FlightSegment']\",\n",
       " \"t_{web}_['WingBox', 'FlightSegment']\",\n",
       " \"w_['WingBox', 'FlightSegment']\",\n",
       " \"z_{bre}_['FuelBurn', 'FlightSegment']\"]"
      ]
     },
     "execution_count": 27,
     "metadata": {},
     "output_type": "execute_result"
    }
   ],
   "source": [
    "sorted(map(str, m.gp().varkeys.keys()))"
   ]
  },
  {
   "cell_type": "code",
   "execution_count": null,
   "metadata": {
    "collapsed": false
   },
   "outputs": [],
   "source": [
    "l = [set(map(str, p.varkeys.keys())) for p in cs.as_posyslt1()]\n",
    "acc = l[0]\n",
    "for c in l[1:]:\n",
    "    acc = acc.union(c)\n",
    "len(acc)"
   ]
  },
  {
   "cell_type": "code",
   "execution_count": null,
   "metadata": {
    "collapsed": false
   },
   "outputs": [],
   "source": [
    "fs.as_posyslt1()[12].varkeys[\"C_L\"][0]"
   ]
  },
  {
   "cell_type": "code",
   "execution_count": null,
   "metadata": {
    "collapsed": false
   },
   "outputs": [],
   "source": [
    "Drag().sub({fs.as_posyslt1()[12].varkeys[\"C_L\"][1]})"
   ]
  },
  {
   "cell_type": "code",
   "execution_count": null,
   "metadata": {
    "collapsed": false
   },
   "outputs": [],
   "source": [
    "m.gp().p_idxs[19]"
   ]
  },
  {
   "cell_type": "code",
   "execution_count": null,
   "metadata": {
    "collapsed": false
   },
   "outputs": [],
   "source": [
    "sum(len(p.exps) for p in fs.as_posyslt1()), len(m.gp().varkeys.keys())"
   ]
  },
  {
   "cell_type": "code",
   "execution_count": 38,
   "metadata": {
    "collapsed": false
   },
   "outputs": [
    {
     "data": {
      "text/plain": [
       "{g_['FuelBurn']: 9.8, \\rho_['Engine']: 0.91}"
      ]
     },
     "execution_count": 38,
     "metadata": {},
     "output_type": "execute_result"
    }
   ],
   "source": [
    "lc.substitutions"
   ]
  },
  {
   "cell_type": "code",
   "execution_count": null,
   "metadata": {
    "collapsed": false
   },
   "outputs": [],
   "source": [
    "lc[2][1].as_posyslt1()[0].exps"
   ]
  },
  {
   "cell_type": "code",
   "execution_count": null,
   "metadata": {
    "collapsed": false
   },
   "outputs": [],
   "source": [
    "import gpkit\n",
    "varkeys = gpkit.keydict.KeySet()\n",
    "name, num = \"Test2\", 1\n",
    "def add_model(terminal):\n",
    "    for p in terminal.as_posyslt1():\n",
    "        for exp in p.exps:\n",
    "            for k in exp:\n",
    "                models = k.descr.get(\"models\", [])\n",
    "                modelnums = k.descr.get(\"modelnums\", [])\n",
    "                if not models or models[-1] != name or modelnums[-1] != num:\n",
    "                    k.descr[\"models\"] = models + [name]\n",
    "                    k.descr[\"modelnums\"] = modelnums + [num]\n",
    "    return terminal\n",
    "lc.recurse(add_model)"
   ]
  },
  {
   "cell_type": "code",
   "execution_count": null,
   "metadata": {
    "collapsed": false
   },
   "outputs": [],
   "source": [
    "cs = gpkit.ConstraintSet([constraints, lc])"
   ]
  },
  {
   "cell_type": "code",
   "execution_count": null,
   "metadata": {
    "collapsed": false
   },
   "outputs": [],
   "source": [
    "m = Model(gpkit.Variable(**cs.varkeys[\"W_{fuel}\"][0].descr), cs)"
   ]
  },
  {
   "cell_type": "code",
   "execution_count": null,
   "metadata": {
    "collapsed": false
   },
   "outputs": [],
   "source": [
    "fs[\"W_{fuel}\"].key in fs[5].varkeys"
   ]
  },
  {
   "cell_type": "code",
   "execution_count": null,
   "metadata": {
    "collapsed": false
   },
   "outputs": [],
   "source": [
    "m.gp().A.shape"
   ]
  },
  {
   "cell_type": "code",
   "execution_count": null,
   "metadata": {
    "collapsed": false
   },
   "outputs": [],
   "source": [
    "fs[5].varkeys[\"W_{fuel}\"][0].descr"
   ]
  },
  {
   "cell_type": "code",
   "execution_count": null,
   "metadata": {
    "collapsed": false,
    "slideshow": {
     "slide_type": "slide"
    }
   },
   "outputs": [],
   "source": [
    "class Mission(Model):\n",
    "    def setup(self):\n",
    "        there = FlightSegment()\n",
    "        back = FlightSegment()\n",
    "        sprint = FlightSegment()\n",
    "        \n",
    "        self.flightmodelnames = [there.modelname, back.modelname, sprint.modelname]\n",
    "\n",
    "        V_sprint = Variable(\"V_{sprintreqt}\", 150, \"m/s\", \"sprint speed requirement\")\n",
    "\n",
    "        model = Model(there[\"W_{fuel}\"] + back[\"W_{fuel}\"],\n",
    "                      [there[\"W\"] >= there[\"W_{zfw}\"] + back[\"W_{fuel}\"],\n",
    "                       sprint[\"W\"] == there[\"W\"],\n",
    "                       sprint[\"V\"] >= V_sprint])\n",
    "\n",
    "        exvars = [\"V\", \"C_L\", \"C_D\", \"C_{D_{fuse}}\", \"C_{D_p}\", \"C_{D_i}\", \"T\",\n",
    "                  \"Re\", \"W\", \"\\\\eta_i\", \"\\\\eta_{prop}\", \"\\\\eta_0\", \"W_{fuel}\", \"z_{bre}\"]\n",
    "\n",
    "        for fl in there, back, sprint:\n",
    "            fl.substitutions = {k: v for k, v in fl.substitutions.items()\n",
    "                                if k.nomstr in exvars}\n",
    "            model = model.merge(fl, excluded=exvars)\n",
    "        \n",
    "        return model\n",
    "\n",
    "ap = Mission()\n",
    "ap.solve(verbosity=0)\n",
    "modelnames = [ap.modelname] + [ap.modelname+flname for flname in ap.flightmodelnames]\n",
    "print ap.solution.table([\"freevariables\"], included_models=modelnames)"
   ]
  },
  {
   "cell_type": "code",
   "execution_count": null,
   "metadata": {
    "collapsed": false
   },
   "outputs": [],
   "source": [
    "from IPython.paths import get_ipython_dir\n",
    "from IPython.core.display import HTML\n",
    "import os\n",
    "def css_styling():\n",
    "    \"\"\"Load default custom.css file from ipython profile\"\"\"\n",
    "    base = get_ipython_dir()\n",
    "    styles = \"<style>\\n%s\\n</style>\" % (open(os.path.join(base,'profile_default/static/custom/custom.css'),'r').read())\n",
    "    return HTML(styles)\n",
    "css_styling()"
   ]
  }
 ],
 "metadata": {
  "kernelspec": {
   "display_name": "Python 2",
   "language": "python",
   "name": "python2"
  },
  "language_info": {
   "codemirror_mode": {
    "name": "ipython",
    "version": 2
   },
   "file_extension": ".py",
   "mimetype": "text/x-python",
   "name": "python",
   "nbconvert_exporter": "python",
   "pygments_lexer": "ipython2",
   "version": "2.7.6"
  }
 },
 "nbformat": 4,
 "nbformat_minor": 0
}
