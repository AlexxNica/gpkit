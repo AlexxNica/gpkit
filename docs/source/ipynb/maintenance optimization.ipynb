{
 "metadata": {
  "name": "",
  "signature": "sha256:b3e655decf4325ef5c23e5fbfee3ef47796be0fe50a9dc7067a10b2581af1e25"
 },
 "nbformat": 3,
 "nbformat_minor": 0,
 "worksheets": [
  {
   "cells": [
    {
     "cell_type": "code",
     "collapsed": false,
     "input": [
      "%pylab inline\n",
      "from gpkit import GP, VectorVariable, Variable\n",
      "import gpkit.interactive\n",
      "gpkit.interactive.init_printing()"
     ],
     "language": "python",
     "metadata": {},
     "outputs": [
      {
       "output_type": "stream",
       "stream": "stdout",
       "text": [
        "Populating the interactive namespace from numpy and matplotlib\n"
       ]
      }
     ],
     "prompt_number": 1
    },
    {
     "cell_type": "markdown",
     "metadata": {},
     "source": [
      "# Optimizing Maintenance Schedules with GPkit"
     ]
    },
    {
     "cell_type": "code",
     "collapsed": false,
     "input": [
      "L = Variable(\"L\", 0.1, \"years\", \"system lifetime\")\n",
      "\n",
      "Rmin = 0.997  # minimum system reliability\n",
      "mlogRmin = Variable(\"\\\\mathrm{log}(\\\\tfrac{1}{R_{min}})\",\n",
      "                    log(1/Rmin), \"-\", \"log of inverse of system reliability\")\n",
      "\n",
      "n = 3  # number of parts\n",
      "\n",
      "c = VectorVariable(n, \"c\", [1, 2, 2], \"-\", \"cost to replace each part, in USD\")\n",
      "\n",
      "q = gpkit.VectorVariable(n, \"q\", \"1/years\", \"log of inverse of part reliabilities\")\n",
      "L10 = VectorVariable(n, \"L_{10}\", [1, 3, 1], \"years\", \"L10 lifetimes\")\n",
      "k = array([1.5, 1.5, 2])  # part shape factors; 1.5 is what's used by ISO-281\n",
      "lam = 4.4828*L10  # Weibull scale factors\n",
      "\n",
      "x = gpkit.VectorVariable(n, \"x\", \"1/years\", \"maintenance rate\")"
     ],
     "language": "python",
     "metadata": {},
     "outputs": [],
     "prompt_number": 2
    },
    {
     "cell_type": "code",
     "collapsed": false,
     "input": [
      "gp = gpkit.GP(L*(c*x).sum(),\n",
      "              [q == x*(lam*x)**-k,\n",
      "               q.sum() <= mlogRmin/L,\n",
      "               L*x >= 1])\n",
      "gp"
     ],
     "language": "python",
     "metadata": {},
     "outputs": [
      {
       "latex": [
        "$$\\begin{array}[ll]\n",
        "\\text{}\n",
        "\\text{minimize}\n",
        "    & L {x}_{0} {c}_{0} + {c}_{1} L {x}_{1} + {c}_{2} L {x}_{2}\\mathrm{\\left[ - \\right]} \\\\\n",
        "\\text{subject to}\n",
        "    & {q}_{0} = \\frac{0.1054}{{L_{10}}_{0}^{1.5} {x}_{0}^{0.5}} \\\\\n",
        "    & {q}_{1} = \\frac{0.1054}{{L_{10}}_{1}^{1.5} {x}_{1}^{0.5}} \\\\\n",
        "    & {q}_{2} = \\frac{0.04976}{{L_{10}}_{2}^{2} {x}_{2}} \\\\\n",
        "    & \\frac{\\mathrm{log}(\\tfrac{1}{R_{min}})}{L} \\geq {q}_{0} + {q}_{1} + {q}_{2} \\\\\n",
        "    & 1 \\leq L {x}_{0} \\\\\n",
        "    & 1 \\leq L {x}_{1} \\\\\n",
        "    & 1 \\leq L {x}_{2} \\\\\n",
        "\\text{substituting}\n",
        "    & L = 0.1 \\\\\n",
        "    & \\mathrm{log}(\\tfrac{1}{R_{min}}) = 0.003005 \\\\\n",
        "    & {L_{10}}_{0} = 1 \\\\\n",
        "    & {L_{10}}_{1} = 3 \\\\\n",
        "    & {L_{10}}_{2} = 1 \\\\\n",
        "    & {c}_{0} = 1 \\\\\n",
        "    & {c}_{1} = 2 \\\\\n",
        "    & {c}_{2} = 2 \\\\\n",
        "\\end{array}$$"
       ],
       "metadata": {},
       "output_type": "pyout",
       "prompt_number": 32,
       "text": [
        "                               gpkit.GP( # minimize                           \n",
        "                       L*x_0*c_0 + c_1*L*x_1 + c_2*L*x_2, units='-',          \n",
        "                                      [   # subject to                        \n",
        "                             q_0 == 0.11*L_{10}_0**-1.5*x_0**-0.5,            \n",
        "                             q_1 == 0.11*L_{10}_1**-1.5*x_1**-0.5,            \n",
        "                               q_2 == 0.05*L_{10}_2**-2*x_2**-1,              \n",
        "                   L**-1*\\mathrm{log}(\\tfrac{1}{R_{min}}) >= q_0 + q_1 + q_2, \n",
        "                                          1 <= L*x_0,                         \n",
        "                                          1 <= L*x_1,                         \n",
        "                                          1 <= L*x_2,                         \n",
        "                                             ],                               \n",
        "                                  substitutions={ c_1: 2,                     \n",
        "                                                  c_2: 2,                     \n",
        "                                                L_{10}_0: 1,                  \n",
        "                                                L_{10}_1: 3,                  \n",
        "                                                L_{10}_2: 1,                  \n",
        "                                                  L: 0.1,                     \n",
        "                          \\mathrm{log}(\\tfrac{1}{R_{min}}): 0.0030045090202987\n",
        "                                                 c_0: 1 },                    \n",
        "                                      solver=\"cvxopt\")                        \n",
        "\n",
        "    \n",
        "    \n",
        "    \n",
        "    \n",
        "    \n",
        "    \n",
        "    \n",
        "    \n",
        "    \n",
        "    \n",
        "    \n",
        "    \n",
        "    \n",
        "    \n",
        "    \n",
        "    \n",
        "    \n",
        "222,\n",
        "    \n",
        "    "
       ]
      }
     ],
     "prompt_number": 32
    },
    {
     "cell_type": "code",
     "collapsed": false,
     "input": [
      "sol = gp.solve()\n",
      "print \n",
      "print \"The optimal schedule, over the lifetime of %.2g years\" % sol(L)\n",
      "print \"    is to replace each part [ %s ] times\" % \"  \".join([\"%.2g\" % xi for xi in sol(L*x)])\n",
      "print \"    at a total cost of $%.3g\" % sol[\"cost\"]"
     ],
     "language": "python",
     "metadata": {},
     "outputs": [
      {
       "output_type": "stream",
       "stream": "stdout",
       "text": [
        "Using solver 'cvxopt'\n",
        "Solving for 6 variables.\n",
        "Solving took 0.091 seconds."
       ]
      },
      {
       "output_type": "stream",
       "stream": "stdout",
       "text": [
        "\n",
        "\n",
        "The optimal schedule, over the lifetime of 0.1 years\n",
        "    is to replace each part [ 3.2  1  1 ] times"
       ]
      },
      {
       "output_type": "stream",
       "stream": "stdout",
       "text": [
        "\n",
        "    at a total cost of $7.19\n"
       ]
      }
     ],
     "prompt_number": 33
    },
    {
     "cell_type": "code",
     "collapsed": false,
     "input": [
      "sol[\"local_model\"].flatten()[0]"
     ],
     "language": "python",
     "metadata": {},
     "outputs": [
      {
       "latex": [
        "$$0.3675\\frac{{c}_{1}^{0.28} {c}_{2}^{0.28} L^{2.3} {c}_{0}^{0.44}}{{L_{10}}_{0}^{1.3} {L_{10}}_{1}^{0.46} {L_{10}}_{2}^{0.47} \\mathrm{log}(\\tfrac{1}{R_{min}})^{1.4}}$$"
       ],
       "metadata": {},
       "output_type": "pyout",
       "prompt_number": 30,
       "text": [
        "0.37*c_1**0.28*c_2**0.28*L_{10}_0**-1.3*L_{10}_1**-0.46*L_{10}_2**-0.47*L**2.3\n",
        "*\\mathrm{log}(\\tfrac{1}{R_{min}})**-1.4*c_0**0.44"
       ]
      }
     ],
     "prompt_number": 30
    }
   ],
   "metadata": {}
  }
 ]
}